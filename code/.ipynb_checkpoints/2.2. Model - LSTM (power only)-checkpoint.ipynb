{
 "cells": [
  {
   "cell_type": "markdown",
   "metadata": {},
   "source": [
    "# Modeling - LSTM (power only)"
   ]
  },
  {
   "cell_type": "markdown",
   "metadata": {},
   "source": [
    "This notebook focuses on stage 2 of modeling for this project: modeling power output at one wind farm, using an LSTM trained purely on previous power output."
   ]
  },
  {
   "cell_type": "code",
   "execution_count": 14,
   "metadata": {},
   "outputs": [],
   "source": [
    "import pandas as pd\n",
    "import numpy as np\n",
    "import matplotlib.pyplot as plt\n",
    "import seaborn as sns\n",
    "\n",
    "%matplotlib inline"
   ]
  },
  {
   "cell_type": "code",
   "execution_count": 2,
   "metadata": {},
   "outputs": [
    {
     "name": "stderr",
     "output_type": "stream",
     "text": [
      "Using TensorFlow backend.\n"
     ]
    }
   ],
   "source": [
    "from keras.models import Sequential\n",
    "from keras.layers import Dense\n",
    "from keras.layers import LSTM"
   ]
  },
  {
   "cell_type": "code",
   "execution_count": 3,
   "metadata": {},
   "outputs": [],
   "source": [
    "from sklearn.metrics import mean_squared_error"
   ]
  },
  {
   "cell_type": "code",
   "execution_count": 4,
   "metadata": {},
   "outputs": [],
   "source": [
    "import itertools as it\n",
    "import time\n",
    "from tqdm import tqdm_notebook"
   ]
  },
  {
   "cell_type": "markdown",
   "metadata": {},
   "source": [
    "#### Read in data"
   ]
  },
  {
   "cell_type": "code",
   "execution_count": 5,
   "metadata": {},
   "outputs": [],
   "source": [
    "power_train = pd.read_csv('../datasets/power_train.csv', index_col=0)\n",
    "power_train.index = pd.DatetimeIndex(power_train.index, freq='H')\n",
    "\n",
    "power_test_int_data = pd.read_csv('../datasets/power_test_int_data.csv', index_col=0)\n",
    "power_test_int_data.index = pd.DatetimeIndex(power_test_int_data.index)\n",
    "\n",
    "power_test_int_target = pd.read_csv('../datasets/power_test_int_target.csv', index_col=0)\n",
    "power_test_int_target.index = pd.DatetimeIndex(power_test_int_target.index)\n",
    "\n",
    "# restrict analysis to one wind farm\n",
    "wp1_train = power_train['wp1']\n",
    "wp1_test_int_data = power_test_int_data['wp1']\n",
    "wp1_test_int_target = power_test_int_target['wp1']"
   ]
  },
  {
   "cell_type": "markdown",
   "metadata": {},
   "source": [
    "The EDA from the previous time series models can be leveraged here, to jump straight to modeling."
   ]
  },
  {
   "cell_type": "markdown",
   "metadata": {},
   "source": [
    "## Modeling"
   ]
  },
  {
   "cell_type": "markdown",
   "metadata": {},
   "source": [
    "### Modeling functions"
   ]
  },
  {
   "cell_type": "markdown",
   "metadata": {},
   "source": [
    "#### Data formatting function"
   ]
  },
  {
   "cell_type": "code",
   "execution_count": 6,
   "metadata": {},
   "outputs": [],
   "source": [
    "# define function to set up data in correct format for LSTM\n",
    "def format_training_data(timeseries, n_lags, len_target_seq):\n",
    "    if not isinstance(timeseries, pd.Series):\n",
    "        timeseries = pd.Series(timeseries.ravel()) # flattens list of lists to one list\n",
    "    \n",
    "    n_shifts = n_lags + len_target_seq\n",
    "    lags = pd.DataFrame({'t'+str(i): timeseries.shift(-i) for i in range(0,n_shifts)})\n",
    "    lags = lags.dropna()\n",
    "    \n",
    "    features = lags.iloc[:,:n_lags]\n",
    "    target = lags.iloc[:, n_lags:]\n",
    "    \n",
    "    features_arr = features.values\n",
    "    features_arr = np.reshape(features_arr, (features_arr.shape[0], features_arr.shape[1], 1))\n",
    "    target_arr = target.values\n",
    "    \n",
    "    return features_arr, target_arr"
   ]
  },
  {
   "cell_type": "markdown",
   "metadata": {},
   "source": [
    "#### Model prediction functions"
   ]
  },
  {
   "cell_type": "code",
   "execution_count": 7,
   "metadata": {},
   "outputs": [],
   "source": [
    "def forecast_next_48hrs(model, data):\n",
    "    \n",
    "    '''forecasts next 48 hours of power output available data'''\n",
    "    \n",
    "    output_size = model.get_config()[1]['config']['units']\n",
    "    for _ in range(48//output_size):\n",
    "        batch_size, num_lags, num_features = model.get_config()[0]['config']['batch_input_shape']\n",
    "        lag_data = np.reshape(data[-num_lags:].values, (batch_size, num_lags, num_features))\n",
    "        pred = model.predict(lag_data, batch_size=batch_size)[0]\n",
    "        data = data.append(pd.Series(pred, index = [data.index[-1]+pd.Timedelta(hours=i+1) for i in range(output_size)]))\n",
    "        \n",
    "    return data[-48:]"
   ]
  },
  {
   "cell_type": "code",
   "execution_count": 8,
   "metadata": {},
   "outputs": [],
   "source": [
    "def make_forecasts(model, data_series):\n",
    "        \n",
    "    '''forecasts many sets of 48 hours of power output given repeated 36 hour windows of available data'''\n",
    "    \n",
    "    predictions = pd.Series()\n",
    "    num_patterns = int(data_series.shape[0]/36) # 36 hours of data, followed by 48 hour gaps\n",
    "    \n",
    "    for pattern_num in range(num_patterns):\n",
    "        data = data_series[36*pattern_num:36*(pattern_num+1)]\n",
    "        forecast = forecast_next_48hrs(model, data)\n",
    "        predictions = predictions.append(forecast)\n",
    "    \n",
    "    return predictions"
   ]
  },
  {
   "cell_type": "markdown",
   "metadata": {},
   "source": [
    "#### Complete model build and testing function"
   ]
  },
  {
   "cell_type": "code",
   "execution_count": 9,
   "metadata": {},
   "outputs": [],
   "source": [
    "def build_and_test(training_data, test_data, target_data, n_lags, n_outputs, n_nodes, stateful = False, epochs=1, verbose=0):\n",
    "    \n",
    "    # format data\n",
    "    features, target = format_training_data(training_data, n_lags = n_lags, len_target_seq = n_outputs)\n",
    "    \n",
    "    # set up model\n",
    "    batch_size = 1\n",
    "    model = Sequential()\n",
    "    model.add(LSTM(n_nodes,\n",
    "                  batch_input_shape = (batch_size, features.shape[1], features.shape[2]),\n",
    "                  stateful = stateful))\n",
    "    model.add(Dense(n_outputs)) # output layer, no activation function for regression problem\n",
    "    \n",
    "    if verbose == 1:\n",
    "        model.summary()\n",
    "    \n",
    "    # compile and fit model\n",
    "    model.compile(loss='mean_squared_error', optimizer='adam')\n",
    "    if stateful:\n",
    "        for i in range(epochs): # loop over epochs manually so can clear carry channel after each epoch\n",
    "            model.fit(features, target, validation_data = None,\n",
    "                 epochs = 1, batch_size = batch_size, verbose=verbose, shuffle=False)\n",
    "            model.reset_states()\n",
    "    else:\n",
    "        model.fit(features, target, validation_data = None,\n",
    "             epochs = epochs, batch_size = batch_size, verbose=verbose, shuffle=False)\n",
    "        \n",
    "    # test model\n",
    "    LSTM_predictions = make_forecasts(model, test_data)\n",
    "    LSTM_RMSE = mean_squared_error(y_true = target_data, y_pred = LSTM_predictions)**0.5\n",
    "    \n",
    "    if verbose == 1:\n",
    "        print('\\n Test RMSE:', LSTM_RMSE)\n",
    "    \n",
    "    return LSTM_RMSE"
   ]
  },
  {
   "cell_type": "markdown",
   "metadata": {},
   "source": [
    "### Analysis of models"
   ]
  },
  {
   "cell_type": "markdown",
   "metadata": {},
   "source": [
    "#### Understanding how n_lags, n_outputs and stateful parameters affect output"
   ]
  },
  {
   "cell_type": "code",
   "execution_count": 10,
   "metadata": {
    "scrolled": true
   },
   "outputs": [],
   "source": [
    "settings_dict= {'n_lags': [2,36],\n",
    "                'n_outputs': [1,48],\n",
    "                'stateful': [True, False]}\n",
    "\n",
    "settings_combs = list(it.product(*settings_dict.values()))\n",
    "\n",
    "settings = pd.DataFrame(settings_combs, columns=settings_dict.keys())"
   ]
  },
  {
   "cell_type": "code",
   "execution_count": 11,
   "metadata": {},
   "outputs": [
    {
     "data": {
      "application/vnd.jupyter.widget-view+json": {
       "model_id": "b8dda68f58cb4639a6baad3085689352",
       "version_major": 2,
       "version_minor": 0
      },
      "text/html": [
       "<p>Failed to display Jupyter Widget of type <code>HBox</code>.</p>\n",
       "<p>\n",
       "  If you're reading this message in the Jupyter Notebook or JupyterLab Notebook, it may mean\n",
       "  that the widgets JavaScript is still loading. If this message persists, it\n",
       "  likely means that the widgets JavaScript library is either not installed or\n",
       "  not enabled. See the <a href=\"https://ipywidgets.readthedocs.io/en/stable/user_install.html\">Jupyter\n",
       "  Widgets Documentation</a> for setup instructions.\n",
       "</p>\n",
       "<p>\n",
       "  If you're reading this message in another frontend (for example, a static\n",
       "  rendering on GitHub or <a href=\"https://nbviewer.jupyter.org/\">NBViewer</a>),\n",
       "  it may mean that your frontend doesn't currently support widgets.\n",
       "</p>\n"
      ],
      "text/plain": [
       "HBox(children=(IntProgress(value=0, description='Progress', max=8), HTML(value='')))"
      ]
     },
     "metadata": {},
     "output_type": "display_data"
    },
    {
     "name": "stdout",
     "output_type": "stream",
     "text": [
      "\n"
     ]
    }
   ],
   "source": [
    "RMSE = []\n",
    "run_time = []\n",
    "\n",
    "for idx in tqdm_notebook(settings.index, desc='Progress', leave=True):\n",
    "    \n",
    "    np.random.seed(42)\n",
    "    \n",
    "    t0 = time.time()\n",
    "    \n",
    "    model_RMSE = build_and_test(wp1_train, wp1_test_int_data, wp1_test_int_target, \n",
    "                               n_lags = settings.loc[idx,'n_lags'],\n",
    "                               n_outputs = settings.loc[idx,'n_outputs'], \n",
    "                               n_nodes = 2, \n",
    "                               stateful = settings.loc[idx,'stateful'], \n",
    "                               epochs = 3, \n",
    "                               verbose=0)\n",
    "    t1 = time.time()\n",
    "    \n",
    "    RMSE.append(model_RMSE)\n",
    "    run_time.append(t1-t0)\n",
    "                \n",
    "model_perf = pd.concat([settings, pd.DataFrame(RMSE, columns=['RMSE'])], axis=1)\n",
    "model_perf = pd.concat([model_perf, pd.DataFrame(run_time, columns=['run_time'])], axis=1)"
   ]
  },
  {
   "cell_type": "code",
   "execution_count": 15,
   "metadata": {
    "scrolled": true
   },
   "outputs": [
    {
     "data": {
      "image/png": "[encoded data removed]",
      "text/plain": [
       "<Figure size 1152x360 with 4 Axes>"
      ]
     },
     "metadata": {},
     "output_type": "display_data"
    }
   ],
   "source": [
    "model_perf_df = model_perf.set_index(['n_lags','n_outputs','stateful']).unstack()\n",
    "\n",
    "fig, ax = plt.subplots(nrows=1, ncols=2, figsize=(16,5))\n",
    "\n",
    "sns.heatmap(model_perf_df.iloc[:,:2], cmap='viridis_r', ax=ax[0], annot=True, vmin=0, vmax=0.5)\n",
    "ax[0].set_title('\\nRMSE\\n', fontsize=18)\n",
    "ax[0].set_xlabel('Stateful')\n",
    "ax[0].set_xticklabels(['False','True'])\n",
    "ax[0].set_ylabel('lags - outputs\\n')\n",
    "\n",
    "\n",
    "sns.heatmap(model_perf_df.iloc[:,2:], cmap='viridis_r', ax=ax[1], annot=True, vmin=0, vmax=1000)\n",
    "ax[1].set_title('\\nRun time\\n', fontsize=18)\n",
    "ax[1].set_xlabel('Stateful')\n",
    "ax[1].set_xticklabels(['False','True'])\n",
    "ax[1].set_ylabel('lags - outputs\\n');"
   ]
  },
  {
   "cell_type": "code",
   "execution_count": 173,
   "metadata": {},
   "outputs": [
    {
     "data": {
      "text/html": [
       "<div>\n",
       "<style scoped>\n",
       "    .dataframe tbody tr th:only-of-type {\n",
       "        vertical-align: middle;\n",
       "    }\n",
       "\n",
       "    .dataframe tbody tr th {\n",
       "        vertical-align: top;\n",
       "    }\n",
       "\n",
       "    .dataframe thead th {\n",
       "        text-align: right;\n",
       "    }\n",
       "</style>\n",
       "<table border=\"1\" class=\"dataframe\">\n",
       "  <thead>\n",
       "    <tr style=\"text-align: right;\">\n",
       "      <th></th>\n",
       "      <th>n_lags</th>\n",
       "      <th>n_outputs</th>\n",
       "      <th>stateful</th>\n",
       "      <th>RMSE</th>\n",
       "      <th>run_time</th>\n",
       "    </tr>\n",
       "  </thead>\n",
       "  <tbody>\n",
       "    <tr>\n",
       "      <th>0</th>\n",
       "      <td>2</td>\n",
       "      <td>1</td>\n",
       "      <td>True</td>\n",
       "      <td>0.419406</td>\n",
       "      <td>94.342725</td>\n",
       "    </tr>\n",
       "    <tr>\n",
       "      <th>1</th>\n",
       "      <td>2</td>\n",
       "      <td>1</td>\n",
       "      <td>False</td>\n",
       "      <td>0.392260</td>\n",
       "      <td>96.115093</td>\n",
       "    </tr>\n",
       "    <tr>\n",
       "      <th>2</th>\n",
       "      <td>2</td>\n",
       "      <td>48</td>\n",
       "      <td>True</td>\n",
       "      <td>0.260141</td>\n",
       "      <td>90.321384</td>\n",
       "    </tr>\n",
       "    <tr>\n",
       "      <th>3</th>\n",
       "      <td>2</td>\n",
       "      <td>48</td>\n",
       "      <td>False</td>\n",
       "      <td>0.256060</td>\n",
       "      <td>90.889798</td>\n",
       "    </tr>\n",
       "    <tr>\n",
       "      <th>4</th>\n",
       "      <td>36</td>\n",
       "      <td>1</td>\n",
       "      <td>True</td>\n",
       "      <td>0.424131</td>\n",
       "      <td>707.450958</td>\n",
       "    </tr>\n",
       "    <tr>\n",
       "      <th>5</th>\n",
       "      <td>36</td>\n",
       "      <td>1</td>\n",
       "      <td>False</td>\n",
       "      <td>0.424070</td>\n",
       "      <td>701.625911</td>\n",
       "    </tr>\n",
       "    <tr>\n",
       "      <th>6</th>\n",
       "      <td>36</td>\n",
       "      <td>48</td>\n",
       "      <td>True</td>\n",
       "      <td>0.255731</td>\n",
       "      <td>694.742972</td>\n",
       "    </tr>\n",
       "    <tr>\n",
       "      <th>7</th>\n",
       "      <td>36</td>\n",
       "      <td>48</td>\n",
       "      <td>False</td>\n",
       "      <td>0.255760</td>\n",
       "      <td>705.304271</td>\n",
       "    </tr>\n",
       "  </tbody>\n",
       "</table>\n",
       "</div>"
      ],
      "text/plain": [
       "   n_lags  n_outputs  stateful      RMSE    run_time\n",
       "0       2          1      True  0.419406   94.342725\n",
       "1       2          1     False  0.392260   96.115093\n",
       "2       2         48      True  0.260141   90.321384\n",
       "3       2         48     False  0.256060   90.889798\n",
       "4      36          1      True  0.424131  707.450958\n",
       "5      36          1     False  0.424070  701.625911\n",
       "6      36         48      True  0.255731  694.742972\n",
       "7      36         48     False  0.255760  705.304271"
      ]
     },
     "execution_count": 173,
     "metadata": {},
     "output_type": "execute_result"
    }
   ],
   "source": [
    "model_perf"
   ]
  },
  {
   "cell_type": "code",
   "execution_count": 177,
   "metadata": {},
   "outputs": [
    {
     "data": {
      "image/png": "[encoded data removed]",
      "text/plain": [
       "<Figure size 422.125x360 with 1 Axes>"
      ]
     },
     "metadata": {},
     "output_type": "display_data"
    }
   ],
   "source": [
    "sns.lmplot(x='RMSE',y='run_time', data = model_perf, hue = 'stateful', fit_reg=False, size=5, scatter_kws={\"s\": 500});\n"
   ]
  },
  {
   "cell_type": "code",
   "execution_count": 162,
   "metadata": {},
   "outputs": [
    {
     "data": {
      "text/plain": [
       "<matplotlib.axes._subplots.AxesSubplot at 0x1a37d6db00>"
      ]
     },
     "execution_count": 162,
     "metadata": {},
     "output_type": "execute_result"
    },
    {
     "data": {
      "image/png": "[encoded data removed]",
      "text/plain": [
       "<Figure size 432x288 with 1 Axes>"
      ]
     },
     "metadata": {},
     "output_type": "display_data"
    }
   ],
   "source": [
    "#model_perf_df['RMSE', False]\n",
    "model_perf.plot()"
   ]
  },
  {
   "cell_type": "markdown",
   "metadata": {},
   "source": [
    "The heatmaps show that:\n",
    "\n",
    "- Outputting a full 48 hr forecast in one step creates more accurate forecasts than predicting one hour at a time and looping through the forecasting.\n",
    "- Models that are not stateful seem to perform slightly better than those that are, but there is not a consistent trend.\n",
    "- Models that use the full 36 hrs of available data as an input take a lot longer to run and don't perform much better than those that only use 2 hrs of data."
   ]
  },
  {
   "cell_type": "markdown",
   "metadata": {},
   "source": [
    "#### Understanding how number of nodes affects output"
   ]
  },
  {
   "cell_type": "code",
   "execution_count": 57,
   "metadata": {},
   "outputs": [
    {
     "data": {
      "application/vnd.jupyter.widget-view+json": {
       "model_id": "cad507d6c1b942e489274e81fc7666da",
       "version_major": 2,
       "version_minor": 0
      },
      "text/html": [
       "<p>Failed to display Jupyter Widget of type <code>HBox</code>.</p>\n",
       "<p>\n",
       "  If you're reading this message in the Jupyter Notebook or JupyterLab Notebook, it may mean\n",
       "  that the widgets JavaScript is still loading. If this message persists, it\n",
       "  likely means that the widgets JavaScript library is either not installed or\n",
       "  not enabled. See the <a href=\"https://ipywidgets.readthedocs.io/en/stable/user_install.html\">Jupyter\n",
       "  Widgets Documentation</a> for setup instructions.\n",
       "</p>\n",
       "<p>\n",
       "  If you're reading this message in another frontend (for example, a static\n",
       "  rendering on GitHub or <a href=\"https://nbviewer.jupyter.org/\">NBViewer</a>),\n",
       "  it may mean that your frontend doesn't currently support widgets.\n",
       "</p>\n"
      ],
      "text/plain": [
       "HBox(children=(IntProgress(value=0, description='Progress', max=10), HTML(value='')))"
      ]
     },
     "metadata": {},
     "output_type": "display_data"
    },
    {
     "name": "stdout",
     "output_type": "stream",
     "text": [
      "\n"
     ]
    }
   ],
   "source": [
    "RMSE_by_node_dict = {}\n",
    "\n",
    "for n in tqdm_notebook(range(1,11), desc='Progress', leave=True):\n",
    "    \n",
    "    np.random.seed(42)\n",
    "    \n",
    "    RMSE_by_node_dict[n] = build_and_test(wp1_train, wp1_test_int_data, wp1_test_int_target,\n",
    "                                  n_lags = 2, n_outputs = 48, n_nodes = n, stateful = False, epochs = 3, verbose=0)\n",
    "    \n",
    "RMSE_by_node = pd.DataFrame(list(RMSE_by_node_dict.items()), columns=['num_nodes','RMSE'])\n",
    "RMSE_by_node.set_index('num_nodes', inplace=True)"
   ]
  },
  {
   "cell_type": "code",
   "execution_count": 138,
   "metadata": {},
   "outputs": [
    {
     "data": {
      "image/png": "[encoded data removed]",
      "text/plain": [
       "<Figure size 864x216 with 1 Axes>"
      ]
     },
     "metadata": {},
     "output_type": "display_data"
    }
   ],
   "source": [
    "fig, ax = plt.subplots(figsize=(12,3))\n",
    "plt.plot(RMSE_by_epoch.index,RMSE_by_node.values, )\n",
    "ax.set_ylabel('RMSE\\n', fontsize=10)\n",
    "ax.set_xlabel('\\nnumber of nodes', fontsize=10)\n",
    "ax.set_xticks(RMSE_by_node.index)\n",
    "ax.set_title('\\nTest RMSE by number of nodes\\n', fontsize=14);"
   ]
  },
  {
   "cell_type": "code",
   "execution_count": 135,
   "metadata": {},
   "outputs": [
    {
     "name": "stdout",
     "output_type": "stream",
     "text": [
      "Optimal number of nodes: 1\n",
      "RMSE: [0.25547485]\n"
     ]
    }
   ],
   "source": [
    "min_pos = np.argmin(RMSE_by_node.values)\n",
    "print('Optimal number of nodes: '+str(RMSE_by_node.index[min_pos]))\n",
    "print('RMSE: '+str(RMSE_by_node.values[min_pos]))"
   ]
  },
  {
   "cell_type": "markdown",
   "metadata": {},
   "source": [
    "Increasing the number of nodes seems to decrease the accuracy of the model"
   ]
  },
  {
   "cell_type": "markdown",
   "metadata": {},
   "source": [
    "#### Understanding how the number of epochs affects output"
   ]
  },
  {
   "cell_type": "code",
   "execution_count": null,
   "metadata": {},
   "outputs": [],
   "source": [
    "# use inner components of build and test function to benefit from testing between training epochs"
   ]
  },
  {
   "cell_type": "code",
   "execution_count": 75,
   "metadata": {},
   "outputs": [
    {
     "data": {
      "application/vnd.jupyter.widget-view+json": {
       "model_id": "a9ceab9ca4ef4819b4d2c9400aac8fd1",
       "version_major": 2,
       "version_minor": 0
      },
      "text/html": [
       "<p>Failed to display Jupyter Widget of type <code>HBox</code>.</p>\n",
       "<p>\n",
       "  If you're reading this message in the Jupyter Notebook or JupyterLab Notebook, it may mean\n",
       "  that the widgets JavaScript is still loading. If this message persists, it\n",
       "  likely means that the widgets JavaScript library is either not installed or\n",
       "  not enabled. See the <a href=\"https://ipywidgets.readthedocs.io/en/stable/user_install.html\">Jupyter\n",
       "  Widgets Documentation</a> for setup instructions.\n",
       "</p>\n",
       "<p>\n",
       "  If you're reading this message in another frontend (for example, a static\n",
       "  rendering on GitHub or <a href=\"https://nbviewer.jupyter.org/\">NBViewer</a>),\n",
       "  it may mean that your frontend doesn't currently support widgets.\n",
       "</p>\n"
      ],
      "text/plain": [
       "HBox(children=(IntProgress(value=0, description='Progress', max=10), HTML(value='')))"
      ]
     },
     "metadata": {},
     "output_type": "display_data"
    },
    {
     "name": "stdout",
     "output_type": "stream",
     "text": [
      "\n"
     ]
    }
   ],
   "source": [
    "training_data = wp1_train\n",
    "test_data = wp1_test_int_data\n",
    "target_data = wp1_test_int_target\n",
    "n_lags = 2\n",
    "n_outputs = 48\n",
    "n_nodes = 1\n",
    "\n",
    "# format data\n",
    "features, target = format_training_data(training_data, n_lags = n_lags, len_target_seq = n_outputs)\n",
    "    \n",
    "# set up model\n",
    "batch_size = 1\n",
    "model = Sequential()\n",
    "model.add(LSTM(n_nodes,\n",
    "              batch_input_shape = (batch_size, features.shape[1], features.shape[2]),\n",
    "              stateful = False))\n",
    "model.add(Dense(n_outputs)) # output layer, no activation function for regression problem\n",
    "    \n",
    "    \n",
    "# compile and fit model\n",
    "model.compile(loss='mean_squared_error', optimizer='adam')\n",
    "    \n",
    "RMSE_by_epoch_dict = {}\n",
    "\n",
    "for n in tqdm_notebook(range(1,11), desc='Progress', leave=True):\n",
    "    \n",
    "    model.fit(features, target, validation_data = None,\n",
    "             epochs = 1, batch_size = batch_size, verbose=0, shuffle=False)\n",
    "        \n",
    "    # test model\n",
    "    LSTM_predictions = make_forecasts(model, test_data)\n",
    "    LSTM_RMSE = mean_squared_error(y_true = target_data, y_pred = LSTM_predictions)**0.5\n",
    "\n",
    "    RMSE_by_epoch_dict[n] = LSTM_RMSE\n",
    "    \n",
    "RMSE_by_epoch = pd.DataFrame(list(RMSE_by_epoch_dict.items()), columns=['num_epochs','RMSE'])\n",
    "RMSE_by_epoch.set_index('num_epochs', inplace=True)"
   ]
  },
  {
   "cell_type": "code",
   "execution_count": 137,
   "metadata": {},
   "outputs": [
    {
     "data": {
      "image/png": "[encoded data removed]",
      "text/plain": [
       "<Figure size 864x216 with 1 Axes>"
      ]
     },
     "metadata": {},
     "output_type": "display_data"
    }
   ],
   "source": [
    "fig, ax = plt.subplots(figsize=(12,3))\n",
    "plt.plot(RMSE_by_epoch.index,RMSE_by_epoch.values, )\n",
    "ax.set_ylabel('RMSE\\n', fontsize=10)\n",
    "ax.set_xlabel('\\nnumber of epochs', fontsize=10)\n",
    "ax.set_xticks(RMSE_by_epoch.index)\n",
    "ax.set_title('\\nTest RMSE by number of epochs\\n', fontsize=14);"
   ]
  },
  {
   "cell_type": "code",
   "execution_count": 133,
   "metadata": {},
   "outputs": [
    {
     "name": "stdout",
     "output_type": "stream",
     "text": [
      "Optimal number of epochs: 3\n",
      "RMSE: [0.25497304]\n"
     ]
    }
   ],
   "source": [
    "min_pos = np.argmin(RMSE_by_epoch.values)\n",
    "print('Optimal number of epochs: '+str(RMSE_by_epoch.index[min_pos]))\n",
    "print('RMSE: '+str(RMSE_by_epoch.values[min_pos]))"
   ]
  },
  {
   "cell_type": "code",
   "execution_count": null,
   "metadata": {},
   "outputs": [],
   "source": [
    "# shows improvement of ~19% on baseline"
   ]
  },
  {
   "cell_type": "code",
   "execution_count": 141,
   "metadata": {},
   "outputs": [],
   "source": [
    "data = wp1_test_int_data[0:36]"
   ]
  },
  {
   "cell_type": "code",
   "execution_count": 143,
   "metadata": {
    "scrolled": true
   },
   "outputs": [
    {
     "data": {
      "text/plain": [
       "array([[0.15973514, 0.18876949, 0.20773116, 0.22176203, 0.23369747,\n",
       "        0.24453476, 0.25407416, 0.26254433, 0.27041245, 0.27734968,\n",
       "        0.28344   , 0.28881374, 0.29417259, 0.29947847, 0.30427358,\n",
       "        0.3084157 , 0.311588  , 0.31419912, 0.31631228, 0.31815514,\n",
       "        0.31973487, 0.32096615, 0.32231468, 0.32476318, 0.3289156 ,\n",
       "        0.33399796, 0.33928487, 0.34465304, 0.35045898, 0.3555645 ,\n",
       "        0.35991585, 0.36317128, 0.36608472, 0.36866605, 0.37071502,\n",
       "        0.37247467, 0.37415186, 0.3757541 , 0.3777338 , 0.37971506,\n",
       "        0.38097814, 0.3820787 , 0.38265708, 0.38200098, 0.3807793 ,\n",
       "        0.38032505, 0.38046578, 0.38157612]], dtype=float32)"
      ]
     },
     "execution_count": 143,
     "metadata": {},
     "output_type": "execute_result"
    }
   ],
   "source": [
    "batch_size, num_lags, num_features = model.get_config()[0]['config']['batch_input_shape']\n",
    "lag_data = np.reshape(data[-num_lags:].values, (batch_size, num_lags, num_features))\n",
    "model.predict(lag_data, batch_size=batch_size)"
   ]
  },
  {
   "cell_type": "code",
   "execution_count": null,
   "metadata": {},
   "outputs": [],
   "source": [
    "# look at forecasting window - build widget (including ARIMA forecasting)\n",
    "# improve data viz for different settings\n",
    "# batch size\n",
    "# model.train/test on batch\n",
    "# regularisation"
   ]
  }
 ],
 "metadata": {
  "kernelspec": {
   "display_name": "Python [conda env:dsi]",
   "language": "python",
   "name": "conda-env-dsi-py"
  },
  "language_info": {
   "codemirror_mode": {
    "name": "ipython",
    "version": 3
   },
   "file_extension": ".py",
   "mimetype": "text/x-python",
   "name": "python",
   "nbconvert_exporter": "python",
   "pygments_lexer": "ipython3",
   "version": "3.6.5"
  }
 },
 "nbformat": 4,
 "nbformat_minor": 2
}
