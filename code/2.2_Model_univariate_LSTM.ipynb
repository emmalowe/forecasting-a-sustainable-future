{
 "cells": [
  {
   "cell_type": "markdown",
   "metadata": {},
   "source": [
    "# Modeling - Univariate LSTM model"
   ]
  },
  {
   "cell_type": "markdown",
   "metadata": {},
   "source": [
    "This notebook focuses on stage 2 of modeling for this project: modeling power output at one wind farm, using an LSTM trained purely on previous power output."
   ]
  },
  {
   "cell_type": "code",
   "execution_count": 1,
   "metadata": {},
   "outputs": [],
   "source": [
    "import pandas as pd\n",
    "import numpy as np\n",
    "import matplotlib.pyplot as plt\n",
    "\n",
    "%matplotlib inline"
   ]
  },
  {
   "cell_type": "code",
   "execution_count": 2,
   "metadata": {},
   "outputs": [
    {
     "name": "stderr",
     "output_type": "stream",
     "text": [
      "Using TensorFlow backend.\n"
     ]
    }
   ],
   "source": [
    "from keras.models import Sequential\n",
    "from keras.layers import Dense\n",
    "from keras.layers import LSTM\n",
    "from tensorflow import set_random_seed"
   ]
  },
  {
   "cell_type": "code",
   "execution_count": 3,
   "metadata": {},
   "outputs": [],
   "source": [
    "from sklearn.metrics import mean_squared_error"
   ]
  },
  {
   "cell_type": "code",
   "execution_count": 4,
   "metadata": {},
   "outputs": [],
   "source": [
    "import itertools as it\n",
    "import time\n",
    "from tqdm import tqdm_notebook\n",
    "from ipywidgets import interact, Dropdown"
   ]
  },
  {
   "cell_type": "markdown",
   "metadata": {},
   "source": [
    "#### Read in data"
   ]
  },
  {
   "cell_type": "code",
   "execution_count": 5,
   "metadata": {},
   "outputs": [],
   "source": [
    "power_train = pd.read_csv('../datasets/power_train.csv', index_col=0)\n",
    "power_train.index = pd.DatetimeIndex(power_train.index, freq='H')\n",
    "\n",
    "power_test_int_data = pd.read_csv('../datasets/power_test_int_data.csv', index_col=0)\n",
    "power_test_int_data.index = pd.DatetimeIndex(power_test_int_data.index)\n",
    "\n",
    "power_test_int_target = pd.read_csv('../datasets/power_test_int_target.csv', index_col=0)\n",
    "power_test_int_target.index = pd.DatetimeIndex(power_test_int_target.index)\n",
    "\n",
    "wp1_predictions_sarimax = pd.read_csv('../datasets/wp1_predictions_sarimax.csv', index_col=0)\n",
    "wp1_predictions_sarimax.index = pd.DatetimeIndex(wp1_predictions_sarimax.index)\n",
    "\n",
    "# restrict analysis to one wind farm\n",
    "wp1_train = power_train['wp1']\n",
    "wp1_test_int_data = power_test_int_data['wp1']\n",
    "wp1_test_int_target = power_test_int_target['wp1']"
   ]
  },
  {
   "cell_type": "markdown",
   "metadata": {},
   "source": [
    "Previous EDA has shown that the time series is already stationary, so jump straight to modeling."
   ]
  },
  {
   "cell_type": "markdown",
   "metadata": {},
   "source": [
    "## Modeling"
   ]
  },
  {
   "cell_type": "markdown",
   "metadata": {},
   "source": [
    "### Modeling functions"
   ]
  },
  {
   "cell_type": "markdown",
   "metadata": {},
   "source": [
    "#### Data formatting function"
   ]
  },
  {
   "cell_type": "code",
   "execution_count": 6,
   "metadata": {},
   "outputs": [],
   "source": [
    "# define function to set up data in correct format for LSTM\n",
    "def format_training_data(timeseries, n_lags, len_target_seq):\n",
    "    \n",
    "    '''formats timeseries into LSTM input format'''\n",
    "    \n",
    "    if not isinstance(timeseries, pd.Series):\n",
    "        timeseries = pd.Series(timeseries.ravel()) # flattens list of lists to one list\n",
    "    \n",
    "    n_shifts = n_lags + len_target_seq\n",
    "    lags = pd.DataFrame({'t'+str(i): timeseries.shift(-i) for i in range(0,n_shifts)})\n",
    "    lags = lags.dropna()\n",
    "    \n",
    "    features = lags.iloc[:,:n_lags]\n",
    "    target = lags.iloc[:, n_lags:]\n",
    "    \n",
    "    features_arr = features.values\n",
    "    features_arr = np.reshape(features_arr, (features_arr.shape[0], features_arr.shape[1], 1))\n",
    "    target_arr = target.values\n",
    "    \n",
    "    return features_arr, target_arr"
   ]
  },
  {
   "cell_type": "markdown",
   "metadata": {},
   "source": [
    "#### Model prediction functions"
   ]
  },
  {
   "cell_type": "code",
   "execution_count": 7,
   "metadata": {},
   "outputs": [],
   "source": [
    "def forecast_next_48hrs(model, data):\n",
    "    \n",
    "    '''forecasts next 48 hours of power output available data'''\n",
    "    \n",
    "    output_size = model.get_config()[1]['config']['units']\n",
    "    for _ in range(48//output_size):\n",
    "        batch_size, num_lags, num_features = model.get_config()[0]['config']['batch_input_shape']\n",
    "        lag_data = np.reshape(data[-num_lags:].values, (batch_size, num_lags, num_features))\n",
    "        pred = model.predict(lag_data, batch_size=batch_size)[0]\n",
    "        data = data.append(pd.Series(pred, index = [data.index[-1]+pd.Timedelta(hours=i+1) for i in range(output_size)]))\n",
    "        \n",
    "    return data[-48:]"
   ]
  },
  {
   "cell_type": "code",
   "execution_count": 8,
   "metadata": {},
   "outputs": [],
   "source": [
    "def make_forecasts(model, data_series):\n",
    "        \n",
    "    '''forecasts many sets of 48 hours of power output given repeated 36 hour windows of available data'''\n",
    "    \n",
    "    predictions = pd.Series()\n",
    "    num_patterns = int(data_series.shape[0]/36) # 36 hours of data, followed by 48 hour gaps\n",
    "    \n",
    "    for pattern_num in range(num_patterns):\n",
    "        data = data_series[36*pattern_num:36*(pattern_num+1)]\n",
    "        forecast = forecast_next_48hrs(model, data)\n",
    "        predictions = predictions.append(forecast)\n",
    "    \n",
    "    return predictions"
   ]
  },
  {
   "cell_type": "markdown",
   "metadata": {},
   "source": [
    "#### Complete model build and testing function"
   ]
  },
  {
   "cell_type": "code",
   "execution_count": 9,
   "metadata": {},
   "outputs": [],
   "source": [
    "def build_model(training_data, n_lags, n_outputs, n_nodes, stateful = False, epochs=1, verbose=0):\n",
    "    \n",
    "    # format data\n",
    "    features, target = format_training_data(training_data, n_lags = n_lags, len_target_seq = n_outputs)\n",
    "    \n",
    "    # set up model\n",
    "    batch_size = 1\n",
    "    model = Sequential()\n",
    "    model.add(LSTM(n_nodes,\n",
    "                  batch_input_shape = (batch_size, features.shape[1], features.shape[2]),\n",
    "                  stateful = stateful))\n",
    "    model.add(Dense(n_outputs)) # output layer, no activation function for regression problem\n",
    "    \n",
    "    if verbose == 1:\n",
    "        model.summary()\n",
    "    \n",
    "    # compile and fit model\n",
    "    model.compile(loss='mean_squared_error', optimizer='adam')\n",
    "    if stateful:\n",
    "        for i in range(epochs): # loop over epochs manually so can clear carry channel after each epoch\n",
    "            history = model.fit(features, target, validation_data = None,\n",
    "                 epochs = 1, batch_size = batch_size, verbose=verbose, shuffle=False)\n",
    "            model.reset_states()\n",
    "    else:\n",
    "        history = model.fit(features, target, validation_data = None,\n",
    "             epochs = epochs, batch_size = batch_size, verbose=verbose, shuffle=False)\n",
    "        \n",
    "    return model, history"
   ]
  },
  {
   "cell_type": "markdown",
   "metadata": {},
   "source": [
    "### Analysis of models"
   ]
  },
  {
   "cell_type": "markdown",
   "metadata": {},
   "source": [
    "#### Understanding how n_lags, n_outputs and stateful parameters affect output"
   ]
  },
  {
   "cell_type": "code",
   "execution_count": 10,
   "metadata": {
    "scrolled": true
   },
   "outputs": [],
   "source": [
    "settings_dict= {'n_lags': [2,36],\n",
    "                'n_outputs': [1,48],\n",
    "                'stateful': [True, False]}\n",
    "\n",
    "settings_combs = list(it.product(*settings_dict.values()))\n",
    "\n",
    "settings = pd.DataFrame(settings_combs, columns=settings_dict.keys())"
   ]
  },
  {
   "cell_type": "code",
   "execution_count": 11,
   "metadata": {},
   "outputs": [
    {
     "data": {
      "application/vnd.jupyter.widget-view+json": {
       "model_id": "190b66b8c795466a9470d9aad850c7bb",
       "version_major": 2,
       "version_minor": 0
      },
      "text/html": [
       "<p>Failed to display Jupyter Widget of type <code>HBox</code>.</p>\n",
       "<p>\n",
       "  If you're reading this message in the Jupyter Notebook or JupyterLab Notebook, it may mean\n",
       "  that the widgets JavaScript is still loading. If this message persists, it\n",
       "  likely means that the widgets JavaScript library is either not installed or\n",
       "  not enabled. See the <a href=\"https://ipywidgets.readthedocs.io/en/stable/user_install.html\">Jupyter\n",
       "  Widgets Documentation</a> for setup instructions.\n",
       "</p>\n",
       "<p>\n",
       "  If you're reading this message in another frontend (for example, a static\n",
       "  rendering on GitHub or <a href=\"https://nbviewer.jupyter.org/\">NBViewer</a>),\n",
       "  it may mean that your frontend doesn't currently support widgets.\n",
       "</p>\n"
      ],
      "text/plain": [
       "HBox(children=(IntProgress(value=0, description='Progress', max=8), HTML(value='')))"
      ]
     },
     "metadata": {},
     "output_type": "display_data"
    },
    {
     "name": "stdout",
     "output_type": "stream",
     "text": [
      "\n"
     ]
    }
   ],
   "source": [
    "# WARNING - this cell takes a long time to run (about an hour on my laptop) - it is running 8 LSTMS!\n",
    "\n",
    "RMSE = []\n",
    "run_time = []\n",
    "\n",
    "for idx in tqdm_notebook(settings.index, desc='Progress', leave=True):\n",
    "    \n",
    "    np.random.seed(42)\n",
    "    \n",
    "    t0 = time.time()\n",
    "    \n",
    "    model, history = build_model(wp1_train,\n",
    "                               n_lags = settings.loc[idx,'n_lags'],\n",
    "                               n_outputs = settings.loc[idx,'n_outputs'], \n",
    "                               n_nodes = 2, \n",
    "                               stateful = settings.loc[idx,'stateful'], \n",
    "                               epochs = 3, \n",
    "                               verbose=0)\n",
    "    t1 = time.time()\n",
    "    \n",
    "    model_predictions = make_forecasts(model, wp1_test_int_data)\n",
    "    model_RMSE = mean_squared_error(y_true = wp1_test_int_target, y_pred = model_predictions)**0.5\n",
    "    \n",
    "    RMSE.append(model_RMSE)\n",
    "    run_time.append(t1-t0)\n",
    "                \n",
    "model_perf = pd.concat([settings, pd.DataFrame(RMSE, columns=['RMSE'])], axis=1)\n",
    "model_perf = pd.concat([model_perf, pd.DataFrame(run_time, columns=['run_time'])], axis=1)"
   ]
  },
  {
   "cell_type": "code",
   "execution_count": 12,
   "metadata": {},
   "outputs": [
    {
     "data": {
      "application/vnd.jupyter.widget-view+json": {
       "model_id": "009a995ea8a34ca8b5a44265b4362ae7",
       "version_major": 2,
       "version_minor": 0
      },
      "text/html": [
       "<p>Failed to display Jupyter Widget of type <code>interactive</code>.</p>\n",
       "<p>\n",
       "  If you're reading this message in the Jupyter Notebook or JupyterLab Notebook, it may mean\n",
       "  that the widgets JavaScript is still loading. If this message persists, it\n",
       "  likely means that the widgets JavaScript library is either not installed or\n",
       "  not enabled. See the <a href=\"https://ipywidgets.readthedocs.io/en/stable/user_install.html\">Jupyter\n",
       "  Widgets Documentation</a> for setup instructions.\n",
       "</p>\n",
       "<p>\n",
       "  If you're reading this message in another frontend (for example, a static\n",
       "  rendering on GitHub or <a href=\"https://nbviewer.jupyter.org/\">NBViewer</a>),\n",
       "  it may mean that your frontend doesn't currently support widgets.\n",
       "</p>\n"
      ],
      "text/plain": [
       "interactive(children=(Dropdown(description='Compare:', options=('n_lags', 'n_outputs', 'stateful'), value='n_lags'), Output()), _dom_classes=('widget-interact',))"
      ]
     },
     "metadata": {},
     "output_type": "display_data"
    }
   ],
   "source": [
    "setting_select = Dropdown(\n",
    "options = list(model_perf.columns[0:3]),\n",
    "value = model_perf.columns[0],\n",
    "description = 'Compare:',\n",
    ")\n",
    "\n",
    "def plot_widget(setting = model_perf.columns[0]):\n",
    "    \n",
    "    sns.lmplot(x='RMSE',y='run_time', data = model_perf, hue = setting, fit_reg=False, \n",
    "               size=5, aspect=2,  scatter_kws={\"s\": 500}, palette = 'Set1');\n",
    "    \n",
    "    sort_cols = list(model_perf.columns[0:3])\n",
    "    sort_cols.remove(setting)\n",
    "    \n",
    "    model_perf.sort_values(by=sort_cols, inplace=True)\n",
    "    for n in range(model_perf.shape[0]//2):\n",
    "        row_pair = model_perf.iloc[n*2:n*2+2,-2:].values\n",
    "        plt.plot(row_pair[:,0], row_pair[:,1], '--', color='k')\n",
    "    \n",
    "    ax = plt.gca()    \n",
    "    \n",
    "    ax.set_xlim(0.2,0.5)\n",
    "    ax.set_ylim(0, 1000)\n",
    "    \n",
    "    ax.set_xlabel('RMSE', fontsize=14)\n",
    "    ax.set_ylabel('run time', fontsize=14)\n",
    "    ax.set_title('How model performance varies with {} setting\\n'.format(setting), fontsize=18);\n",
    "    \n",
    "        \n",
    "interact(plot_widget, setting = setting_select);"
   ]
  },
  {
   "cell_type": "markdown",
   "metadata": {},
   "source": [
    "The widget above plots the performance of 8 different LSTM models in terms of RMSE and run-time. The 8 LSTM models have been built using permutations of the following settings:\n",
    "\n",
    "- **n_lags**: 2, 36\n",
    "- **n_outputs**: 1, 48\n",
    "- **stateful**: True, False\n",
    "\n",
    "where:\n",
    "- n_lags is the number of input timesteps used in each predictive step of the model. \n",
    "- n_outputs is the number of output predictions made in one go. Where this is 1, a single prediction is made at a time, and this is fed back in as an input timestep to predict the next step iteratively until 48 predictions have been made. \n",
    "- Stateful is a setting used by keras for the LSTM model layer, and represents whether or not cell states are propagated to the next batch in the sequence.\n",
    "\n",
    "The widget is used by selecting a setting for comparison. The graph will then display one variation of the setting in red and the other in blue, with a black dotted line drawn between pairs of models where the unselected settings are the same for both items in the pair. This allows a comparison of models on a setting by setting basis.\n",
    "\n",
    "The graph shows that:\n",
    "\n",
    "- Models that use the full 36 hrs of available data as an input take a lot longer to run and don't perform much better than those that only use 2 hrs of data.\n",
    "- Outputting a full 48 hr forecast in one step creates more accurate forecasts than predicting one hour at a time and looping through the forecasting.\n",
    "- Models that are not stateful seem to perform very slightly better than those that are, but there is not a consistent trend."
   ]
  },
  {
   "cell_type": "markdown",
   "metadata": {},
   "source": [
    "#### Understanding how number of nodes affects output"
   ]
  },
  {
   "cell_type": "code",
   "execution_count": 13,
   "metadata": {},
   "outputs": [
    {
     "data": {
      "application/vnd.jupyter.widget-view+json": {
       "model_id": "01282a45de714514a3f0dd4172384bfb",
       "version_major": 2,
       "version_minor": 0
      },
      "text/html": [
       "<p>Failed to display Jupyter Widget of type <code>HBox</code>.</p>\n",
       "<p>\n",
       "  If you're reading this message in the Jupyter Notebook or JupyterLab Notebook, it may mean\n",
       "  that the widgets JavaScript is still loading. If this message persists, it\n",
       "  likely means that the widgets JavaScript library is either not installed or\n",
       "  not enabled. See the <a href=\"https://ipywidgets.readthedocs.io/en/stable/user_install.html\">Jupyter\n",
       "  Widgets Documentation</a> for setup instructions.\n",
       "</p>\n",
       "<p>\n",
       "  If you're reading this message in another frontend (for example, a static\n",
       "  rendering on GitHub or <a href=\"https://nbviewer.jupyter.org/\">NBViewer</a>),\n",
       "  it may mean that your frontend doesn't currently support widgets.\n",
       "</p>\n"
      ],
      "text/plain": [
       "HBox(children=(IntProgress(value=0, description='Progress', max=10), HTML(value='')))"
      ]
     },
     "metadata": {},
     "output_type": "display_data"
    },
    {
     "name": "stdout",
     "output_type": "stream",
     "text": [
      "\n"
     ]
    }
   ],
   "source": [
    "RMSE_by_node_dict = {}\n",
    "\n",
    "for n in tqdm_notebook(range(1,11), desc='Progress', leave=True):\n",
    "    \n",
    "    np.random.seed(42)\n",
    "    \n",
    "    model, history = build_model(wp1_train, n_lags = 2, n_outputs = 48, n_nodes = n, stateful = False, epochs = 3, verbose=0)\n",
    "    \n",
    "    model_predictions = make_forecasts(model, wp1_test_int_data)\n",
    "    model_RMSE = mean_squared_error(y_true = wp1_test_int_target, y_pred = model_predictions)**0.5\n",
    "    \n",
    "    RMSE_by_node_dict[n] = model_RMSE\n",
    "    \n",
    "RMSE_by_node = pd.DataFrame(list(RMSE_by_node_dict.items()), columns=['num_nodes','RMSE'])\n",
    "RMSE_by_node.set_index('num_nodes', inplace=True)"
   ]
  },
  {
   "cell_type": "code",
   "execution_count": 14,
   "metadata": {},
   "outputs": [
    {
     "data": {
      "image/png": "[encoded data removed]",
      "text/plain": [
       "<Figure size 864x216 with 1 Axes>"
      ]
     },
     "metadata": {},
     "output_type": "display_data"
    }
   ],
   "source": [
    "fig, ax = plt.subplots(figsize=(12,3))\n",
    "plt.plot(RMSE_by_node.index,RMSE_by_node.values, )\n",
    "ax.set_ylabel('RMSE\\n', fontsize=10)\n",
    "ax.set_xlabel('\\nnumber of nodes', fontsize=10)\n",
    "ax.set_xticks(RMSE_by_node.index)\n",
    "ax.set_title('\\nTest RMSE by number of nodes\\n', fontsize=14);"
   ]
  },
  {
   "cell_type": "code",
   "execution_count": 15,
   "metadata": {},
   "outputs": [
    {
     "name": "stdout",
     "output_type": "stream",
     "text": [
      "Optimal number of nodes: 1\n",
      "RMSE: [0.25547478]\n"
     ]
    }
   ],
   "source": [
    "min_pos = np.argmin(RMSE_by_node.values)\n",
    "print('Optimal number of nodes: '+str(RMSE_by_node.index[min_pos]))\n",
    "print('RMSE: '+str(RMSE_by_node.values[min_pos]))"
   ]
  },
  {
   "cell_type": "markdown",
   "metadata": {},
   "source": [
    "Increasing the number of nodes seems to decrease the accuracy of the model"
   ]
  },
  {
   "cell_type": "markdown",
   "metadata": {},
   "source": [
    "#### Understanding how the number of epochs affects output"
   ]
  },
  {
   "cell_type": "code",
   "execution_count": 16,
   "metadata": {},
   "outputs": [],
   "source": [
    "# use inner components of build and test function to benefit from testing between training epochs"
   ]
  },
  {
   "cell_type": "code",
   "execution_count": 17,
   "metadata": {},
   "outputs": [
    {
     "data": {
      "application/vnd.jupyter.widget-view+json": {
       "model_id": "8f51f6f45bb24a8cb5ed3f6f94a90e73",
       "version_major": 2,
       "version_minor": 0
      },
      "text/html": [
       "<p>Failed to display Jupyter Widget of type <code>HBox</code>.</p>\n",
       "<p>\n",
       "  If you're reading this message in the Jupyter Notebook or JupyterLab Notebook, it may mean\n",
       "  that the widgets JavaScript is still loading. If this message persists, it\n",
       "  likely means that the widgets JavaScript library is either not installed or\n",
       "  not enabled. See the <a href=\"https://ipywidgets.readthedocs.io/en/stable/user_install.html\">Jupyter\n",
       "  Widgets Documentation</a> for setup instructions.\n",
       "</p>\n",
       "<p>\n",
       "  If you're reading this message in another frontend (for example, a static\n",
       "  rendering on GitHub or <a href=\"https://nbviewer.jupyter.org/\">NBViewer</a>),\n",
       "  it may mean that your frontend doesn't currently support widgets.\n",
       "</p>\n"
      ],
      "text/plain": [
       "HBox(children=(IntProgress(value=0, description='Progress', max=10), HTML(value='')))"
      ]
     },
     "metadata": {},
     "output_type": "display_data"
    },
    {
     "name": "stdout",
     "output_type": "stream",
     "text": [
      "\n"
     ]
    }
   ],
   "source": [
    "training_data = wp1_train\n",
    "test_data = wp1_test_int_data\n",
    "target_data = wp1_test_int_target\n",
    "n_lags = 2\n",
    "n_outputs = 48\n",
    "n_nodes = 1\n",
    "\n",
    "np.random.seed(42)\n",
    "set_random_seed(42)\n",
    "\n",
    "# format data\n",
    "features, target = format_training_data(training_data, n_lags = n_lags, len_target_seq = n_outputs)\n",
    "    \n",
    "# set up model\n",
    "batch_size = 1\n",
    "model = Sequential()\n",
    "model.add(LSTM(n_nodes,\n",
    "              batch_input_shape = (batch_size, features.shape[1], features.shape[2]),\n",
    "              stateful = False))\n",
    "model.add(Dense(n_outputs)) # output layer, no activation function for regression problem\n",
    "    \n",
    "# compile and fit model\n",
    "model.compile(loss='mean_squared_error', optimizer='adam')\n",
    "    \n",
    "RMSE_by_epoch_dict = {}\n",
    "\n",
    "for n in tqdm_notebook(range(1,11), desc='Progress', leave=True):\n",
    "    \n",
    "    model.fit(features, target, validation_data = None,\n",
    "             epochs = 1, batch_size = batch_size, verbose=0, shuffle=False)\n",
    "        \n",
    "    # test model\n",
    "    LSTM_predictions = make_forecasts(model, test_data)\n",
    "    LSTM_RMSE = mean_squared_error(y_true = target_data, y_pred = LSTM_predictions)**0.5\n",
    "\n",
    "    RMSE_by_epoch_dict[n] = LSTM_RMSE\n",
    "    \n",
    "RMSE_by_epoch = pd.DataFrame(list(RMSE_by_epoch_dict.items()), columns=['num_epochs','RMSE'])\n",
    "RMSE_by_epoch.set_index('num_epochs', inplace=True)"
   ]
  },
  {
   "cell_type": "code",
   "execution_count": 18,
   "metadata": {},
   "outputs": [
    {
     "data": {
      "image/png": "[encoded data removed]",
      "text/plain": [
       "<Figure size 864x216 with 1 Axes>"
      ]
     },
     "metadata": {},
     "output_type": "display_data"
    }
   ],
   "source": [
    "fig, ax = plt.subplots(figsize=(12,3))\n",
    "plt.plot(RMSE_by_epoch.index,RMSE_by_epoch.values, )\n",
    "ax.set_ylabel('RMSE\\n', fontsize=10)\n",
    "ax.set_xlabel('\\nnumber of epochs', fontsize=10)\n",
    "ax.set_xticks(RMSE_by_epoch.index)\n",
    "ax.set_title('\\nTest RMSE by number of epochs\\n', fontsize=14);"
   ]
  },
  {
   "cell_type": "code",
   "execution_count": 19,
   "metadata": {},
   "outputs": [
    {
     "name": "stdout",
     "output_type": "stream",
     "text": [
      "Optimal number of epochs: 4\n",
      "RMSE: [0.25566732]\n"
     ]
    }
   ],
   "source": [
    "min_pos = np.argmin(RMSE_by_epoch.values)\n",
    "print('Optimal number of epochs: '+str(RMSE_by_epoch.index[min_pos]))\n",
    "print('RMSE: '+str(RMSE_by_epoch.values[min_pos]))"
   ]
  },
  {
   "cell_type": "markdown",
   "metadata": {},
   "source": [
    "#### Analyse best model"
   ]
  },
  {
   "cell_type": "code",
   "execution_count": 24,
   "metadata": {},
   "outputs": [
    {
     "name": "stdout",
     "output_type": "stream",
     "text": [
      "_________________________________________________________________\n",
      "Layer (type)                 Output Shape              Param #   \n",
      "=================================================================\n",
      "lstm_21 (LSTM)               (1, 1)                    12        \n",
      "_________________________________________________________________\n",
      "dense_21 (Dense)             (1, 48)                   96        \n",
      "=================================================================\n",
      "Total params: 108\n",
      "Trainable params: 108\n",
      "Non-trainable params: 0\n",
      "_________________________________________________________________\n",
      "Epoch 1/3\n",
      "10404/10404 [==============================] - 38s 4ms/step - loss: 0.0457\n",
      "Epoch 2/3\n",
      "10404/10404 [==============================] - 36s 3ms/step - loss: 0.0453\n",
      "Epoch 3/3\n",
      "10404/10404 [==============================] - 36s 3ms/step - loss: 0.0452\n"
     ]
    }
   ],
   "source": [
    "np.random.seed(42)\n",
    "set_random_seed(42)\n",
    "\n",
    "# best settings\n",
    "n_lags = 2\n",
    "n_outputs = 48\n",
    "n_nodes = 1\n",
    "stateful = False\n",
    "epochs = 3\n",
    "\n",
    "model, history = build_model(wp1_train, n_lags, n_outputs, n_nodes, stateful, epochs, verbose=1);"
   ]
  },
  {
   "cell_type": "code",
   "execution_count": 25,
   "metadata": {},
   "outputs": [
    {
     "name": "stdout",
     "output_type": "stream",
     "text": [
      "Train RMSE:  0.21267549768144112\n",
      "Test RMSE:  0.2557107306064416\n"
     ]
    }
   ],
   "source": [
    "# as the model predicts 48 hours of forecasts in one step, it is valid to compare train and test scores\n",
    "model_predictions = make_forecasts(model, wp1_test_int_data)\n",
    "model_RMSE = mean_squared_error(y_true = wp1_test_int_target, y_pred = model_predictions)**0.5\n",
    "print('Train RMSE: ', history.history['loss'][-1]**0.5)\n",
    "print('Test RMSE: ', model_RMSE)"
   ]
  },
  {
   "cell_type": "markdown",
   "metadata": {},
   "source": [
    "Train RMSE:  0.21267552299866777\n",
    "Test RMSE:  0.2557108474055062"
   ]
  },
  {
   "cell_type": "code",
   "execution_count": null,
   "metadata": {},
   "outputs": [],
   "source": [
    "# doesn't show significant overfitting\n",
    "# improvement of ~19% on baseline"
   ]
  },
  {
   "cell_type": "markdown",
   "metadata": {},
   "source": [
    "#### Forecast plot"
   ]
  },
  {
   "cell_type": "code",
   "execution_count": 26,
   "metadata": {},
   "outputs": [],
   "source": [
    "def make_widget(model, data_series, target_series = None, alternative_prediction = None):\n",
    "    \n",
    "    num_patterns = int(data_series.shape[0]/36) # 36 hours of data, followed by 48 hour gaps\n",
    "    windows = [str(i)+':  '+ str(data_series.index[36*i])+' - '+str(data_series.index[36*(i+1)-1]) for i in range(num_patterns)]\n",
    "   \n",
    "    style = {'description_width': 'initial'}\n",
    "    \n",
    "    window_select = Dropdown(\n",
    "    options=windows,\n",
    "    value=windows[0],\n",
    "    description='Data window:',\n",
    "    style = style,\n",
    "    layout={'width': '400px'}\n",
    "    )\n",
    "\n",
    "    def plot_widget(data_window = windows[0]):\n",
    "    \n",
    "        # filter dataframe\n",
    "        data_window_int = int(data_window.split(':')[0])\n",
    "        data = data_series[36*data_window_int:36*(data_window_int+1)]\n",
    "        forecast = forecast_next_48hrs(model, data)\n",
    "    \n",
    "        # plot\n",
    "        fig, ax = plt.subplots(figsize=(20,6))\n",
    "        \n",
    "        data.plot(label='observed data', c='k')\n",
    "        forecast.plot(label='forecast', ax=ax, c='C0')\n",
    "                \n",
    "        if alternative_prediction is not None:\n",
    "            alt_forecast = alternative_prediction[48*data_window_int:48*(data_window_int+1)]\n",
    "            alt_forecast['forecast'].plot(label='alt forecast', ax=ax, c='C0', style='--')\n",
    "        \n",
    "        if target_series is not None:\n",
    "            target = target_series[48*data_window_int:48*(data_window_int+1)]\n",
    "            target.plot(label='target data', ax=ax, c='grey')\n",
    "            \n",
    "        ax.minorticks_off()\n",
    "        idx = pd.date_range(data.index[0]-pd.Timedelta(hours=1), forecast.index[-1], freq='H')\n",
    "        ax.set_xlim(idx[0],idx[-1])\n",
    "        ax.set_ylim(0,1)\n",
    "\n",
    "        ax.set_xticks(idx[::12])\n",
    "        ax.set_xticklabels(idx[::12].strftime('%Y-%m-%d\\n%H:%M:%S'))\n",
    "        \n",
    "        plt.title('Observed and forecast power output\\n', fontsize=16)\n",
    "        plt.xlabel('Date', fontsize=14)\n",
    "        plt.ylabel('Power output\\n', fontsize=14)\n",
    "\n",
    "        plt.legend()\n",
    "        plt.show()\n",
    "    \n",
    "    interact(plot_widget, data_window=window_select);"
   ]
  },
  {
   "cell_type": "code",
   "execution_count": 27,
   "metadata": {},
   "outputs": [
    {
     "data": {
      "application/vnd.jupyter.widget-view+json": {
       "model_id": "84ebd1438bcf4e61b755b5e4b8310fa6",
       "version_major": 2,
       "version_minor": 0
      },
      "text/html": [
       "<p>Failed to display Jupyter Widget of type <code>interactive</code>.</p>\n",
       "<p>\n",
       "  If you're reading this message in the Jupyter Notebook or JupyterLab Notebook, it may mean\n",
       "  that the widgets JavaScript is still loading. If this message persists, it\n",
       "  likely means that the widgets JavaScript library is either not installed or\n",
       "  not enabled. See the <a href=\"https://ipywidgets.readthedocs.io/en/stable/user_install.html\">Jupyter\n",
       "  Widgets Documentation</a> for setup instructions.\n",
       "</p>\n",
       "<p>\n",
       "  If you're reading this message in another frontend (for example, a static\n",
       "  rendering on GitHub or <a href=\"https://nbviewer.jupyter.org/\">NBViewer</a>),\n",
       "  it may mean that your frontend doesn't currently support widgets.\n",
       "</p>\n"
      ],
      "text/plain": [
       "interactive(children=(Dropdown(description='Data window:', layout=Layout(width='400px'), options=('0:  2010-09-09 13:00:00 - 2010-09-11 00:00:00', '1:  2010-09-13 01:00:00 - 2010-09-14 12:00:00', '2:  2010-09-16 13:00:00 - 2010-09-18 00:00:00', '3:  2010-09-20 01:00:00 - 2010-09-21 12:00:00', '4:  2010-09-23 13:00:00 - 2010-09-25 00:00:00', '5:  2010-09-27 01:00:00 - 2010-09-28 12:00:00', '6:  2010-09-30 13:00:00 - 2010-10-02 00:00:00', '7:  2010-10-04 01:00:00 - 2010-10-05 12:00:00', '8:  2010-10-07 13:00:00 - 2010-10-09 00:00:00', '9:  2010-10-11 01:00:00 - 2010-10-12 12:00:00', '10:  2010-10-14 13:00:00 - 2010-10-16 00:00:00', '11:  2010-10-18 01:00:00 - 2010-10-19 12:00:00', '12:  2010-10-21 13:00:00 - 2010-10-23 00:00:00', '13:  2010-10-25 01:00:00 - 2010-10-26 12:00:00', '14:  2010-10-28 13:00:00 - 2010-10-30 00:00:00', '15:  2010-11-01 01:00:00 - 2010-11-02 12:00:00', '16:  2010-11-04 13:00:00 - 2010-11-06 00:00:00', '17:  2010-11-08 01:00:00 - 2010-11-09 12:00:00', '18:  2010-11-11 13:00:00 - 2010-11-13 00:00:00', '19:  2010-11-15 01:00:00 - 2010-11-16 12:00:00', '20:  2010-11-18 13:00:00 - 2010-11-20 00:00:00', '21:  2010-11-22 01:00:00 - 2010-11-23 12:00:00', '22:  2010-11-25 13:00:00 - 2010-11-27 00:00:00', '23:  2010-11-29 01:00:00 - 2010-11-30 12:00:00', '24:  2010-12-02 13:00:00 - 2010-12-04 00:00:00', '25:  2010-12-06 01:00:00 - 2010-12-07 12:00:00', '26:  2010-12-09 13:00:00 - 2010-12-11 00:00:00', '27:  2010-12-13 01:00:00 - 2010-12-14 12:00:00', '28:  2010-12-16 13:00:00 - 2010-12-18 00:00:00', '29:  2010-12-20 01:00:00 - 2010-12-21 12:00:00', '30:  2010-12-23 13:00:00 - 2010-12-25 00:00:00', '31:  2010-12-27 01:00:00 - 2010-12-28 12:00:00'), style=DescriptionStyle(description_width='initial'), value='0:  2010-09-09 13:00:00 - 2010-09-11 00:00:00'), Output()), _dom_classes=('widget-interact',))"
      ]
     },
     "metadata": {},
     "output_type": "display_data"
    }
   ],
   "source": [
    "make_widget(model = model, data_series = power_test_int_data['wp1'], \n",
    "            target_series = power_test_int_target['wp1'],\n",
    "            alternative_prediction = wp1_predictions_sarimax)"
   ]
  },
  {
   "cell_type": "code",
   "execution_count": null,
   "metadata": {},
   "outputs": [],
   "source": []
  }
 ],
 "metadata": {
  "kernelspec": {
   "display_name": "Python [conda env:dsi]",
   "language": "python",
   "name": "conda-env-dsi-py"
  },
  "language_info": {
   "codemirror_mode": {
    "name": "ipython",
    "version": 3
   },
   "file_extension": ".py",
   "mimetype": "text/x-python",
   "name": "python",
   "nbconvert_exporter": "python",
   "pygments_lexer": "ipython3",
   "version": "3.6.5"
  },
  "widgets": {
   "application/vnd.jupyter.widget-state+json": {
    "state": {
     "03bf8a3aab7a467ebd0847650c4d1a5e": {
      "model_module": "@jupyter-widgets/base",
      "model_module_version": "1.0.0",
      "model_name": "LayoutModel",
      "state": {}
     },
     "0571f7dda0b04aae86df9ab306b7dfa6": {
      "model_module": "@jupyter-widgets/controls",
      "model_module_version": "1.1.0",
      "model_name": "VBoxModel",
      "state": {
       "_dom_classes": [
        "widget-interact"
       ],
       "children": [
        "IPY_MODEL_50658dbd1ff4456bb2168717708f56a4",
        "IPY_MODEL_362c17a0458746d49aa6a7d569ab4fcc"
       ],
       "layout": "IPY_MODEL_d074314ae5034996ad0fdaf927315e08"
      }
     },
     "06ad35cf75f44236866e25c40274aeb8": {
      "model_module": "@jupyter-widgets/base",
      "model_module_version": "1.0.0",
      "model_name": "LayoutModel",
      "state": {}
     },
     "06c48492987e46b7827818f971ae5d06": {
      "model_module": "@jupyter-widgets/base",
      "model_module_version": "1.0.0",
      "model_name": "LayoutModel",
      "state": {}
     },
     "071bc00563c042c6a2719520c4822649": {
      "model_module": "@jupyter-widgets/controls",
      "model_module_version": "1.1.0",
      "model_name": "VBoxModel",
      "state": {
       "_dom_classes": [
        "widget-interact"
       ],
       "children": [
        "IPY_MODEL_0902f6cf1ff54a559718bdf88e1bdb88",
        "IPY_MODEL_cbac44bf0d0d4260b5f982ce165bbf39"
       ],
       "layout": "IPY_MODEL_1978be1a23d0491d9fc3487654a4314e"
      }
     },
     "07e215a73e6e452ab1f921a819aceffa": {
      "model_module": "@jupyter-widgets/controls",
      "model_module_version": "1.1.0",
      "model_name": "HBoxModel",
      "state": {
       "children": [
        "IPY_MODEL_16b9fee401ff42e9b7990c01d8248477",
        "IPY_MODEL_0c5df6a12a3a40ddb6bb4b86fc977600"
       ],
       "layout": "IPY_MODEL_2ca50464a3274c48a64b41f57ed2a06e"
      }
     },
     "0902f6cf1ff54a559718bdf88e1bdb88": {
      "model_module": "@jupyter-widgets/controls",
      "model_module_version": "1.1.0",
      "model_name": "DropdownModel",
      "state": {
       "_options_labels": [
        "n_lags",
        "n_outputs",
        "stateful"
       ],
       "description": "Compare:",
       "index": 0,
       "layout": "IPY_MODEL_167c3429898d467e9ce5d048e63e8e0c",
       "style": "IPY_MODEL_f7b7e36faa3745bca8de64929f7298a1"
      }
     },
     "093232795bb041a28d25241f7532a0bd": {
      "model_module": "@jupyter-widgets/base",
      "model_module_version": "1.0.0",
      "model_name": "LayoutModel",
      "state": {}
     },
     "0c5df6a12a3a40ddb6bb4b86fc977600": {
      "model_module": "@jupyter-widgets/controls",
      "model_module_version": "1.1.0",
      "model_name": "HTMLModel",
      "state": {
       "layout": "IPY_MODEL_32a1f3feb5c347759a986d757e4ccd69",
       "style": "IPY_MODEL_b0c8270260bc4f23bb8464dd41752728",
       "value": "  0% 0/1 [00:00&lt;?, ?it/s]"
      }
     },
     "0d08190bcf744a26841197777aa9004e": {
      "model_module": "@jupyter-widgets/controls",
      "model_module_version": "1.1.0",
      "model_name": "DescriptionStyleModel",
      "state": {
       "description_width": ""
      }
     },
     "0e71b16b3b61413aa46b6e30711db5df": {
      "model_module": "@jupyter-widgets/controls",
      "model_module_version": "1.1.0",
      "model_name": "DescriptionStyleModel",
      "state": {
       "description_width": ""
      }
     },
     "0e7b1f89563b4b7191a84382e07594ae": {
      "model_module": "@jupyter-widgets/controls",
      "model_module_version": "1.1.0",
      "model_name": "IntProgressModel",
      "state": {
       "bar_style": "success",
       "description": "Progress",
       "layout": "IPY_MODEL_d4fb344739124f0893720d657140ea37",
       "max": 1,
       "style": "IPY_MODEL_98d6887212154387aac57ad7d3a18513",
       "value": 1
      }
     },
     "10d0bd64087c41c48456dc5e67542f82": {
      "model_module": "@jupyter-widgets/base",
      "model_module_version": "1.0.0",
      "model_name": "LayoutModel",
      "state": {}
     },
     "12f55aa06e74414a90688b0eaf5b52ae": {
      "model_module": "@jupyter-widgets/base",
      "model_module_version": "1.0.0",
      "model_name": "LayoutModel",
      "state": {}
     },
     "167c3429898d467e9ce5d048e63e8e0c": {
      "model_module": "@jupyter-widgets/base",
      "model_module_version": "1.0.0",
      "model_name": "LayoutModel",
      "state": {}
     },
     "16b9fee401ff42e9b7990c01d8248477": {
      "model_module": "@jupyter-widgets/controls",
      "model_module_version": "1.1.0",
      "model_name": "IntProgressModel",
      "state": {
       "bar_style": "danger",
       "description": "Progress",
       "layout": "IPY_MODEL_e580c4f334ae4e9aa6fcfd8de877beb2",
       "max": 1,
       "style": "IPY_MODEL_9ac9d31ea75f47f8aa3a677dd86e8c77"
      }
     },
     "17b77a2782f24c0c851d7bebccad7ccd": {
      "model_module": "@jupyter-widgets/controls",
      "model_module_version": "1.1.0",
      "model_name": "IntProgressModel",
      "state": {
       "bar_style": "success",
       "description": "Progress",
       "layout": "IPY_MODEL_933d4b9dc30d4dd1aaa0ae1de76e437d",
       "max": 1,
       "style": "IPY_MODEL_9fa0a56909bd4e2e9c2916983bfb5fc5",
       "value": 1
      }
     },
     "1840aab21a81441daebf7d1542f8fa37": {
      "model_module": "@jupyter-widgets/base",
      "model_module_version": "1.0.0",
      "model_name": "LayoutModel",
      "state": {}
     },
     "1978be1a23d0491d9fc3487654a4314e": {
      "model_module": "@jupyter-widgets/base",
      "model_module_version": "1.0.0",
      "model_name": "LayoutModel",
      "state": {}
     },
     "1a064312d31b4bf5aa72bf38c26fec23": {
      "model_module": "@jupyter-widgets/base",
      "model_module_version": "1.0.0",
      "model_name": "LayoutModel",
      "state": {}
     },
     "1a3002d83805407a9bfb8e6446af2155": {
      "model_module": "@jupyter-widgets/controls",
      "model_module_version": "1.1.0",
      "model_name": "DescriptionStyleModel",
      "state": {
       "description_width": ""
      }
     },
     "1c31a150a2044ce486abdbe354961c63": {
      "model_module": "@jupyter-widgets/controls",
      "model_module_version": "1.1.0",
      "model_name": "DescriptionStyleModel",
      "state": {
       "description_width": ""
      }
     },
     "1e27057eae7a4fc5a300d3b9991aafc7": {
      "model_module": "@jupyter-widgets/base",
      "model_module_version": "1.0.0",
      "model_name": "LayoutModel",
      "state": {}
     },
     "1f011b21ff764add9af9de4de57a184e": {
      "model_module": "@jupyter-widgets/base",
      "model_module_version": "1.0.0",
      "model_name": "LayoutModel",
      "state": {}
     },
     "1f8a0c6c53ca45beb51c10a4dae67716": {
      "model_module": "@jupyter-widgets/base",
      "model_module_version": "1.0.0",
      "model_name": "LayoutModel",
      "state": {}
     },
     "200eaf1d7f1f494ba4b77d3bc9cc6468": {
      "model_module": "@jupyter-widgets/base",
      "model_module_version": "1.0.0",
      "model_name": "LayoutModel",
      "state": {}
     },
     "202aa8f16fc24a44a0646ff2d75b14d2": {
      "model_module": "@jupyter-widgets/controls",
      "model_module_version": "1.1.0",
      "model_name": "VBoxModel",
      "state": {
       "_dom_classes": [
        "widget-interact"
       ],
       "children": [
        "IPY_MODEL_db95034756ce4d4284e39245dc8cf5b6",
        "IPY_MODEL_fe2c24fffd754deb88fc6cad973be96f"
       ],
       "layout": "IPY_MODEL_846a47e02fa34cea8fd089b5bfa7b48d"
      }
     },
     "2090bec776a24dbd97d7ec5058e8c655": {
      "model_module": "@jupyter-widgets/output",
      "model_module_version": "1.1.0",
      "model_name": "OutputModel",
      "state": {
       "_model_module_version": "1.1.0",
       "_view_module_version": "1.1.0",
       "layout": "IPY_MODEL_65e6231f560d4e1995f586879b2511df",
       "outputs": [
        {
         "name": "stdout",
         "output_type": "stream",
         "text": "   n_lags  n_outputs  stateful      RMSE    run_time\n1       2          1     False  0.392260   96.115093\n5      36          1     False  0.424070  701.625911\n0       2          1      True  0.419406   94.342725\n4      36          1      True  0.424131  707.450958\n3       2         48     False  0.256060   90.889798\n7      36         48     False  0.255760  705.304271\n2       2         48      True  0.260141   90.321384\n6      36         48      True  0.255731  694.742972\n"
        },
        {
         "data": {
          "image/png": "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\n",
          "text/plain": "<Figure size 768.625x360 with 1 Axes>"
         },
         "metadata": {},
         "output_type": "display_data"
        }
       ]
      }
     },
     "21064957dcfd43eab871ea3313fc16c4": {
      "model_module": "@jupyter-widgets/base",
      "model_module_version": "1.0.0",
      "model_name": "LayoutModel",
      "state": {}
     },
     "21c4161f3e9a4841953a96b8a00baf3c": {
      "model_module": "@jupyter-widgets/controls",
      "model_module_version": "1.1.0",
      "model_name": "DescriptionStyleModel",
      "state": {
       "description_width": ""
      }
     },
     "242a7c1f4209449bbdce714a2ebeb312": {
      "model_module": "@jupyter-widgets/controls",
      "model_module_version": "1.1.0",
      "model_name": "DropdownModel",
      "state": {
       "_options_labels": [
        "n_lags",
        "n_outputs",
        "stateful",
        "RMSE",
        "run_time"
       ],
       "description": "perf_df",
       "index": 0,
       "layout": "IPY_MODEL_9fed02ff2f5445bf82a142ddb25f4918",
       "style": "IPY_MODEL_dfc8a77623bb433cac8b513f8e55ad89"
      }
     },
     "243d929b3f914ba6a2581f432b1a3520": {
      "model_module": "@jupyter-widgets/controls",
      "model_module_version": "1.1.0",
      "model_name": "VBoxModel",
      "state": {
       "_dom_classes": [
        "widget-interact"
       ],
       "children": [
        "IPY_MODEL_cd89cd33a4f64665ace79439645bff7e",
        "IPY_MODEL_da271e71e718497a913b33fd946fd650"
       ],
       "layout": "IPY_MODEL_9b561c431ea749a3bfd004c5ac46da48"
      }
     },
     "25189f734ca2427c9c2cfd01a96dcfae": {
      "model_module": "@jupyter-widgets/base",
      "model_module_version": "1.0.0",
      "model_name": "LayoutModel",
      "state": {}
     },
     "256c3e09274f4e8f903162221f19fda5": {
      "model_module": "@jupyter-widgets/output",
      "model_module_version": "1.1.0",
      "model_name": "OutputModel",
      "state": {
       "_model_module_version": "1.1.0",
       "_view_module_version": "1.1.0",
       "layout": "IPY_MODEL_821021cde13d41e3a4684064e591593b",
       "outputs": [
        {
         "data": {
          "image/png": "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\n",
          "text/plain": "<Figure size 782.125x360 with 1 Axes>"
         },
         "metadata": {},
         "output_type": "display_data"
        }
       ]
      }
     },
     "269755a38d7b4e14b6f44ee670703c51": {
      "model_module": "@jupyter-widgets/base",
      "model_module_version": "1.0.0",
      "model_name": "LayoutModel",
      "state": {}
     },
     "26bf0c7ea60b4e2c9869f6668a0c17d1": {
      "model_module": "@jupyter-widgets/controls",
      "model_module_version": "1.1.0",
      "model_name": "DescriptionStyleModel",
      "state": {
       "description_width": ""
      }
     },
     "27f9ca71a9e946c5ac35197c5ccc501b": {
      "model_module": "@jupyter-widgets/controls",
      "model_module_version": "1.1.0",
      "model_name": "DropdownModel",
      "state": {
       "_options_labels": [
        "n_lags",
        "n_outputs",
        "stateful"
       ],
       "description": "Compare:",
       "index": 0,
       "layout": "IPY_MODEL_69eb82addc004515b866003c80195d1a",
       "style": "IPY_MODEL_3d3e9d1f9c2746ca95a2804699a1a003"
      }
     },
     "29878f63f90b4fe781cc28ee1030906e": {
      "model_module": "@jupyter-widgets/controls",
      "model_module_version": "1.1.0",
      "model_name": "ProgressStyleModel",
      "state": {
       "description_width": ""
      }
     },
     "2a030e8175744f49a8c4bee839aa0699": {
      "model_module": "@jupyter-widgets/controls",
      "model_module_version": "1.1.0",
      "model_name": "DescriptionStyleModel",
      "state": {
       "description_width": ""
      }
     },
     "2c05b0fb1fb9430db73a0b84d63e758d": {
      "model_module": "@jupyter-widgets/output",
      "model_module_version": "1.1.0",
      "model_name": "OutputModel",
      "state": {
       "_model_module_version": "1.1.0",
       "_view_module_version": "1.1.0",
       "layout": "IPY_MODEL_c2fc42879720400a9b33096b820a90cb",
       "outputs": [
        {
         "ename": "UnboundLocalError",
         "evalue": "local variable 'model_perf' referenced before assignment",
         "output_type": "error",
         "traceback": [
          "\u001b[0;31m---------------------------------------------------------------------------\u001b[0m",
          "\u001b[0;31mUnboundLocalError\u001b[0m                         Traceback (most recent call last)",
          "\u001b[0;32m/anaconda3/envs/dsi/lib/python3.6/site-packages/ipywidgets/widgets/interaction.py\u001b[0m in \u001b[0;36mupdate\u001b[0;34m(self, *args)\u001b[0m\n\u001b[1;32m    248\u001b[0m                     \u001b[0mvalue\u001b[0m \u001b[0;34m=\u001b[0m \u001b[0mwidget\u001b[0m\u001b[0;34m.\u001b[0m\u001b[0mget_interact_value\u001b[0m\u001b[0;34m(\u001b[0m\u001b[0;34m)\u001b[0m\u001b[0;34m\u001b[0m\u001b[0m\n\u001b[1;32m    249\u001b[0m                     \u001b[0mself\u001b[0m\u001b[0;34m.\u001b[0m\u001b[0mkwargs\u001b[0m\u001b[0;34m[\u001b[0m\u001b[0mwidget\u001b[0m\u001b[0;34m.\u001b[0m\u001b[0m_kwarg\u001b[0m\u001b[0;34m]\u001b[0m \u001b[0;34m=\u001b[0m \u001b[0mvalue\u001b[0m\u001b[0;34m\u001b[0m\u001b[0m\n\u001b[0;32m--> 250\u001b[0;31m                 \u001b[0mself\u001b[0m\u001b[0;34m.\u001b[0m\u001b[0mresult\u001b[0m \u001b[0;34m=\u001b[0m \u001b[0mself\u001b[0m\u001b[0;34m.\u001b[0m\u001b[0mf\u001b[0m\u001b[0;34m(\u001b[0m\u001b[0;34m**\u001b[0m\u001b[0mself\u001b[0m\u001b[0;34m.\u001b[0m\u001b[0mkwargs\u001b[0m\u001b[0;34m)\u001b[0m\u001b[0;34m\u001b[0m\u001b[0m\n\u001b[0m\u001b[1;32m    251\u001b[0m                 \u001b[0mshow_inline_matplotlib_plots\u001b[0m\u001b[0;34m(\u001b[0m\u001b[0;34m)\u001b[0m\u001b[0;34m\u001b[0m\u001b[0m\n\u001b[1;32m    252\u001b[0m                 \u001b[0;32mif\u001b[0m \u001b[0mself\u001b[0m\u001b[0;34m.\u001b[0m\u001b[0mauto_display\u001b[0m \u001b[0;32mand\u001b[0m \u001b[0mself\u001b[0m\u001b[0;34m.\u001b[0m\u001b[0mresult\u001b[0m \u001b[0;32mis\u001b[0m \u001b[0;32mnot\u001b[0m \u001b[0;32mNone\u001b[0m\u001b[0;34m:\u001b[0m\u001b[0;34m\u001b[0m\u001b[0m\n",
          "\u001b[0;32m<ipython-input-295-2e6a59892f42>\u001b[0m in \u001b[0;36mplot_widget\u001b[0;34m(setting)\u001b[0m\n\u001b[1;32m      7\u001b[0m \u001b[0;32mdef\u001b[0m \u001b[0mplot_widget\u001b[0m\u001b[0;34m(\u001b[0m\u001b[0msetting\u001b[0m \u001b[0;34m=\u001b[0m \u001b[0mmodel_perf\u001b[0m\u001b[0;34m.\u001b[0m\u001b[0mcolumns\u001b[0m\u001b[0;34m[\u001b[0m\u001b[0;36m0\u001b[0m\u001b[0;34m]\u001b[0m\u001b[0;34m)\u001b[0m\u001b[0;34m:\u001b[0m\u001b[0;34m\u001b[0m\u001b[0m\n\u001b[1;32m      8\u001b[0m \u001b[0;34m\u001b[0m\u001b[0m\n\u001b[0;32m----> 9\u001b[0;31m     sns.lmplot(x='RMSE',y='run_time', data = model_perf, hue = setting, fit_reg=False, \n\u001b[0m\u001b[1;32m     10\u001b[0m                size=5, aspect=2,  scatter_kws={\"s\": 500}, palette = 'Set1');\n\u001b[1;32m     11\u001b[0m \u001b[0;34m\u001b[0m\u001b[0m\n",
          "\u001b[0;31mUnboundLocalError\u001b[0m: local variable 'model_perf' referenced before assignment"
         ]
        }
       ]
      }
     },
     "2ca50464a3274c48a64b41f57ed2a06e": {
      "model_module": "@jupyter-widgets/base",
      "model_module_version": "1.0.0",
      "model_name": "LayoutModel",
      "state": {}
     },
     "2e7650ae6df3477eafb69d23d4cd5a01": {
      "model_module": "@jupyter-widgets/base",
      "model_module_version": "1.0.0",
      "model_name": "LayoutModel",
      "state": {}
     },
     "2f10478c8abe4e709ea20815ef91ad75": {
      "model_module": "@jupyter-widgets/controls",
      "model_module_version": "1.1.0",
      "model_name": "DescriptionStyleModel",
      "state": {
       "description_width": ""
      }
     },
     "2f61d11884cc4d68bb952411a253e585": {
      "model_module": "@jupyter-widgets/base",
      "model_module_version": "1.0.0",
      "model_name": "LayoutModel",
      "state": {}
     },
     "3009c32ab25a478a9b2df2aeb00c9d6a": {
      "model_module": "@jupyter-widgets/controls",
      "model_module_version": "1.1.0",
      "model_name": "DescriptionStyleModel",
      "state": {
       "description_width": ""
      }
     },
     "30621f0bacb944638f4e5942516a7928": {
      "model_module": "@jupyter-widgets/controls",
      "model_module_version": "1.1.0",
      "model_name": "IntProgressModel",
      "state": {
       "bar_style": "danger",
       "description": "Progress",
       "layout": "IPY_MODEL_997d79083e314cf1bc18cde8d61c94fd",
       "max": 1,
       "style": "IPY_MODEL_605f21e4768b445295bfc82fd62c75a3"
      }
     },
     "320aaf60b9554104868c4307443e9f45": {
      "model_module": "@jupyter-widgets/base",
      "model_module_version": "1.0.0",
      "model_name": "LayoutModel",
      "state": {}
     },
     "326f87287274471d9d2aea3cf33a4860": {
      "model_module": "@jupyter-widgets/output",
      "model_module_version": "1.1.0",
      "model_name": "OutputModel",
      "state": {
       "_model_module_version": "1.1.0",
       "_view_module_version": "1.1.0",
       "layout": "IPY_MODEL_9969f76895d144189d02169513f6c35f",
       "outputs": [
        {
         "name": "stdout",
         "output_type": "stream",
         "text": "   n_lags  n_outputs  stateful      RMSE    run_time\n0       2          1      True  0.419406   94.342725\n1       2          1     False  0.392260   96.115093\n2       2         48      True  0.260141   90.321384\n3       2         48     False  0.256060   90.889798\n4      36          1      True  0.424131  707.450958\n5      36          1     False  0.424070  701.625911\n6      36         48      True  0.255731  694.742972\n7      36         48     False  0.255760  705.304271\n"
        },
        {
         "data": {
          "image/png": "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\n",
          "text/plain": "<Figure size 782.125x360 with 1 Axes>"
         },
         "metadata": {},
         "output_type": "display_data"
        }
       ]
      }
     },
     "32a1f3feb5c347759a986d757e4ccd69": {
      "model_module": "@jupyter-widgets/base",
      "model_module_version": "1.0.0",
      "model_name": "LayoutModel",
      "state": {}
     },
     "35b363fadab649a9b8827e906f737592": {
      "model_module": "@jupyter-widgets/controls",
      "model_module_version": "1.1.0",
      "model_name": "VBoxModel",
      "state": {
       "_dom_classes": [
        "widget-interact"
       ],
       "children": [
        "IPY_MODEL_9dcc0ec4bbad4342b4388a5238207ab6",
        "IPY_MODEL_e8cd1f4875164a57962f18d91d70e7b1"
       ],
       "layout": "IPY_MODEL_8e49b702120f4f4cbb438af9204d7462"
      }
     },
     "362c17a0458746d49aa6a7d569ab4fcc": {
      "model_module": "@jupyter-widgets/output",
      "model_module_version": "1.1.0",
      "model_name": "OutputModel",
      "state": {
       "_model_module_version": "1.1.0",
       "_view_module_version": "1.1.0",
       "layout": "IPY_MODEL_b44e99c8a8b340c5910ba2185fcbf06e",
       "outputs": [
        {
         "ename": "UnboundLocalError",
         "evalue": "local variable 'model_perf' referenced before assignment",
         "output_type": "error",
         "traceback": [
          "\u001b[0;31m---------------------------------------------------------------------------\u001b[0m",
          "\u001b[0;31mUnboundLocalError\u001b[0m                         Traceback (most recent call last)",
          "\u001b[0;32m/anaconda3/envs/dsi/lib/python3.6/site-packages/ipywidgets/widgets/interaction.py\u001b[0m in \u001b[0;36mupdate\u001b[0;34m(self, *args)\u001b[0m\n\u001b[1;32m    248\u001b[0m                     \u001b[0mvalue\u001b[0m \u001b[0;34m=\u001b[0m \u001b[0mwidget\u001b[0m\u001b[0;34m.\u001b[0m\u001b[0mget_interact_value\u001b[0m\u001b[0;34m(\u001b[0m\u001b[0;34m)\u001b[0m\u001b[0;34m\u001b[0m\u001b[0m\n\u001b[1;32m    249\u001b[0m                     \u001b[0mself\u001b[0m\u001b[0;34m.\u001b[0m\u001b[0mkwargs\u001b[0m\u001b[0;34m[\u001b[0m\u001b[0mwidget\u001b[0m\u001b[0;34m.\u001b[0m\u001b[0m_kwarg\u001b[0m\u001b[0;34m]\u001b[0m \u001b[0;34m=\u001b[0m \u001b[0mvalue\u001b[0m\u001b[0;34m\u001b[0m\u001b[0m\n\u001b[0;32m--> 250\u001b[0;31m                 \u001b[0mself\u001b[0m\u001b[0;34m.\u001b[0m\u001b[0mresult\u001b[0m \u001b[0;34m=\u001b[0m \u001b[0mself\u001b[0m\u001b[0;34m.\u001b[0m\u001b[0mf\u001b[0m\u001b[0;34m(\u001b[0m\u001b[0;34m**\u001b[0m\u001b[0mself\u001b[0m\u001b[0;34m.\u001b[0m\u001b[0mkwargs\u001b[0m\u001b[0;34m)\u001b[0m\u001b[0;34m\u001b[0m\u001b[0m\n\u001b[0m\u001b[1;32m    251\u001b[0m                 \u001b[0mshow_inline_matplotlib_plots\u001b[0m\u001b[0;34m(\u001b[0m\u001b[0;34m)\u001b[0m\u001b[0;34m\u001b[0m\u001b[0m\n\u001b[1;32m    252\u001b[0m                 \u001b[0;32mif\u001b[0m \u001b[0mself\u001b[0m\u001b[0;34m.\u001b[0m\u001b[0mauto_display\u001b[0m \u001b[0;32mand\u001b[0m \u001b[0mself\u001b[0m\u001b[0;34m.\u001b[0m\u001b[0mresult\u001b[0m \u001b[0;32mis\u001b[0m \u001b[0;32mnot\u001b[0m \u001b[0;32mNone\u001b[0m\u001b[0;34m:\u001b[0m\u001b[0;34m\u001b[0m\u001b[0m\n",
          "\u001b[0;32m<ipython-input-288-299b9c90c2aa>\u001b[0m in \u001b[0;36mplot_widget\u001b[0;34m(setting)\u001b[0m\n\u001b[1;32m     11\u001b[0m \u001b[0;32mdef\u001b[0m \u001b[0mplot_widget\u001b[0m\u001b[0;34m(\u001b[0m\u001b[0msetting\u001b[0m\u001b[0;34m)\u001b[0m\u001b[0;34m:\u001b[0m\u001b[0;34m\u001b[0m\u001b[0m\n\u001b[1;32m     12\u001b[0m \u001b[0;34m\u001b[0m\u001b[0m\n\u001b[0;32m---> 13\u001b[0;31m     \u001b[0mmodel_perf\u001b[0m \u001b[0;34m=\u001b[0m \u001b[0mmodel_perf\u001b[0m\u001b[0;34m\u001b[0m\u001b[0m\n\u001b[0m\u001b[1;32m     14\u001b[0m \u001b[0;34m\u001b[0m\u001b[0m\n\u001b[1;32m     15\u001b[0m     sns.lmplot(x='RMSE',y='run_time', data = model_perf, hue = setting, fit_reg=False, \n",
          "\u001b[0;31mUnboundLocalError\u001b[0m: local variable 'model_perf' referenced before assignment"
         ]
        }
       ]
      }
     },
     "364c560989b44fea8e58fe1ce66c90fb": {
      "model_module": "@jupyter-widgets/controls",
      "model_module_version": "1.1.0",
      "model_name": "HTMLModel",
      "state": {
       "layout": "IPY_MODEL_1840aab21a81441daebf7d1542f8fa37",
       "style": "IPY_MODEL_d49465e3600d4160b9c038569a5e085f",
       "value": "  0% 0/1 [00:00&lt;?, ?it/s]"
      }
     },
     "3813bb7f19904fc1b96353c760d0179e": {
      "model_module": "@jupyter-widgets/controls",
      "model_module_version": "1.1.0",
      "model_name": "VBoxModel",
      "state": {
       "_dom_classes": [
        "widget-interact"
       ],
       "children": [
        "IPY_MODEL_c03a5af7289248f483675d28f2c531f1",
        "IPY_MODEL_ea85943c63c14774adb4860609eebba1"
       ],
       "layout": "IPY_MODEL_54cb72286ec449208913d5f37bff25f3"
      }
     },
     "395e839245d74342bc12aff95ecd0109": {
      "model_module": "@jupyter-widgets/base",
      "model_module_version": "1.0.0",
      "model_name": "LayoutModel",
      "state": {}
     },
     "3a2711ebdeb243cda140dc9f4286a1e2": {
      "model_module": "@jupyter-widgets/controls",
      "model_module_version": "1.1.0",
      "model_name": "ProgressStyleModel",
      "state": {
       "description_width": ""
      }
     },
     "3a72634eef354a81aa8d6d7f9cd71112": {
      "model_module": "@jupyter-widgets/base",
      "model_module_version": "1.0.0",
      "model_name": "LayoutModel",
      "state": {}
     },
     "3bb613a5ad364b36957075ba06c2fc59": {
      "model_module": "@jupyter-widgets/base",
      "model_module_version": "1.0.0",
      "model_name": "LayoutModel",
      "state": {}
     },
     "3bf38f7a8d6640e7ad2687f87e33a816": {
      "model_module": "@jupyter-widgets/base",
      "model_module_version": "1.0.0",
      "model_name": "LayoutModel",
      "state": {}
     },
     "3d3e9d1f9c2746ca95a2804699a1a003": {
      "model_module": "@jupyter-widgets/controls",
      "model_module_version": "1.1.0",
      "model_name": "DescriptionStyleModel",
      "state": {
       "description_width": ""
      }
     },
     "3daf5153776240908eee99127cb02910": {
      "model_module": "@jupyter-widgets/base",
      "model_module_version": "1.0.0",
      "model_name": "LayoutModel",
      "state": {}
     },
     "3e1f3f4da38e4aabacca681ada3f0261": {
      "model_module": "@jupyter-widgets/output",
      "model_module_version": "1.1.0",
      "model_name": "OutputModel",
      "state": {
       "_model_module_version": "1.1.0",
       "_view_module_version": "1.1.0",
       "layout": "IPY_MODEL_669d87098540405396e922d81a6a6383",
       "outputs": [
        {
         "ename": "UnboundLocalError",
         "evalue": "local variable 'perf_df' referenced before assignment",
         "output_type": "error",
         "traceback": [
          "\u001b[0;31m---------------------------------------------------------------------------\u001b[0m",
          "\u001b[0;31mUnboundLocalError\u001b[0m                         Traceback (most recent call last)",
          "\u001b[0;32m/anaconda3/envs/dsi/lib/python3.6/site-packages/ipywidgets/widgets/interaction.py\u001b[0m in \u001b[0;36mupdate\u001b[0;34m(self, *args)\u001b[0m\n\u001b[1;32m    248\u001b[0m                     \u001b[0mvalue\u001b[0m \u001b[0;34m=\u001b[0m \u001b[0mwidget\u001b[0m\u001b[0;34m.\u001b[0m\u001b[0mget_interact_value\u001b[0m\u001b[0;34m(\u001b[0m\u001b[0;34m)\u001b[0m\u001b[0;34m\u001b[0m\u001b[0m\n\u001b[1;32m    249\u001b[0m                     \u001b[0mself\u001b[0m\u001b[0;34m.\u001b[0m\u001b[0mkwargs\u001b[0m\u001b[0;34m[\u001b[0m\u001b[0mwidget\u001b[0m\u001b[0;34m.\u001b[0m\u001b[0m_kwarg\u001b[0m\u001b[0;34m]\u001b[0m \u001b[0;34m=\u001b[0m \u001b[0mvalue\u001b[0m\u001b[0;34m\u001b[0m\u001b[0m\n\u001b[0;32m--> 250\u001b[0;31m                 \u001b[0mself\u001b[0m\u001b[0;34m.\u001b[0m\u001b[0mresult\u001b[0m \u001b[0;34m=\u001b[0m \u001b[0mself\u001b[0m\u001b[0;34m.\u001b[0m\u001b[0mf\u001b[0m\u001b[0;34m(\u001b[0m\u001b[0;34m**\u001b[0m\u001b[0mself\u001b[0m\u001b[0;34m.\u001b[0m\u001b[0mkwargs\u001b[0m\u001b[0;34m)\u001b[0m\u001b[0;34m\u001b[0m\u001b[0m\n\u001b[0m\u001b[1;32m    251\u001b[0m                 \u001b[0mshow_inline_matplotlib_plots\u001b[0m\u001b[0;34m(\u001b[0m\u001b[0;34m)\u001b[0m\u001b[0;34m\u001b[0m\u001b[0m\n\u001b[1;32m    252\u001b[0m                 \u001b[0;32mif\u001b[0m \u001b[0mself\u001b[0m\u001b[0;34m.\u001b[0m\u001b[0mauto_display\u001b[0m \u001b[0;32mand\u001b[0m \u001b[0mself\u001b[0m\u001b[0;34m.\u001b[0m\u001b[0mresult\u001b[0m \u001b[0;32mis\u001b[0m \u001b[0;32mnot\u001b[0m \u001b[0;32mNone\u001b[0m\u001b[0;34m:\u001b[0m\u001b[0;34m\u001b[0m\u001b[0m\n",
          "\u001b[0;32m<ipython-input-286-9c4ed16c7243>\u001b[0m in \u001b[0;36mplot_widget\u001b[0;34m(setting)\u001b[0m\n\u001b[1;32m     13\u001b[0m     \u001b[0;32mdef\u001b[0m \u001b[0mplot_widget\u001b[0m\u001b[0;34m(\u001b[0m\u001b[0msetting\u001b[0m\u001b[0;34m)\u001b[0m\u001b[0;34m:\u001b[0m\u001b[0;34m\u001b[0m\u001b[0m\n\u001b[1;32m     14\u001b[0m \u001b[0;34m\u001b[0m\u001b[0m\n\u001b[0;32m---> 15\u001b[0;31m         sns.lmplot(x='RMSE',y='run_time', data = perf_df, hue = setting, fit_reg=False, \n\u001b[0m\u001b[1;32m     16\u001b[0m                    size=5, aspect=2,  scatter_kws={\"s\": 500}, palette = 'Set1');\n\u001b[1;32m     17\u001b[0m \u001b[0;34m\u001b[0m\u001b[0m\n",
          "\u001b[0;31mUnboundLocalError\u001b[0m: local variable 'perf_df' referenced before assignment"
         ]
        }
       ]
      }
     },
     "3f0ff9a9f97c489285450e3148a54268": {
      "model_module": "@jupyter-widgets/base",
      "model_module_version": "1.0.0",
      "model_name": "LayoutModel",
      "state": {}
     },
     "4012252b760640bda5708adf314a980d": {
      "model_module": "@jupyter-widgets/controls",
      "model_module_version": "1.1.0",
      "model_name": "DescriptionStyleModel",
      "state": {
       "description_width": ""
      }
     },
     "40c1e61e777744e8885dc9363a44dcb1": {
      "model_module": "@jupyter-widgets/base",
      "model_module_version": "1.0.0",
      "model_name": "LayoutModel",
      "state": {}
     },
     "486cd9c0efcf490a8ab3f64bfeb0e8ce": {
      "model_module": "@jupyter-widgets/controls",
      "model_module_version": "1.1.0",
      "model_name": "DescriptionStyleModel",
      "state": {
       "description_width": ""
      }
     },
     "49c41716b55b49f0b63b86eeaad08031": {
      "model_module": "@jupyter-widgets/base",
      "model_module_version": "1.0.0",
      "model_name": "LayoutModel",
      "state": {}
     },
     "4a120cf7a23d48ee8f00b9ceb351246c": {
      "model_module": "@jupyter-widgets/controls",
      "model_module_version": "1.1.0",
      "model_name": "DropdownModel",
      "state": {
       "_options_labels": [
        "n_lags",
        "n_outputs",
        "stateful"
       ],
       "description": "Compare:",
       "index": 0,
       "layout": "IPY_MODEL_e65c5ac120c44c39ac9855363c178a8f",
       "style": "IPY_MODEL_21c4161f3e9a4841953a96b8a00baf3c"
      }
     },
     "4aa308083f0a4869bdfa6b99aa9d068f": {
      "model_module": "@jupyter-widgets/base",
      "model_module_version": "1.0.0",
      "model_name": "LayoutModel",
      "state": {}
     },
     "4bca81e1bfd04e6b8ad417a46b405e38": {
      "model_module": "@jupyter-widgets/base",
      "model_module_version": "1.0.0",
      "model_name": "LayoutModel",
      "state": {}
     },
     "4c3e6edc019a4bc998e03fcb02fc44d4": {
      "model_module": "@jupyter-widgets/controls",
      "model_module_version": "1.1.0",
      "model_name": "DescriptionStyleModel",
      "state": {
       "description_width": ""
      }
     },
     "4cbe5fcf9842423fb5fc7de11f7af1aa": {
      "model_module": "@jupyter-widgets/controls",
      "model_module_version": "1.1.0",
      "model_name": "VBoxModel",
      "state": {
       "_dom_classes": [
        "widget-interact"
       ],
       "children": [
        "IPY_MODEL_f71486b6c3ba4ce5b109c81c2ce40a00",
        "IPY_MODEL_2c05b0fb1fb9430db73a0b84d63e758d"
       ],
       "layout": "IPY_MODEL_721936f989bd4f13b83d1764bc0217c6"
      }
     },
     "4d8024f87ea942acaadaf0cb40e6d478": {
      "model_module": "@jupyter-widgets/controls",
      "model_module_version": "1.1.0",
      "model_name": "VBoxModel",
      "state": {
       "_dom_classes": [
        "widget-interact"
       ],
       "children": [
        "IPY_MODEL_eaca2906efff489cbb085c6fdc417bd1",
        "IPY_MODEL_3e1f3f4da38e4aabacca681ada3f0261"
       ],
       "layout": "IPY_MODEL_bfb0acd84cf6440abdd658a80572deae"
      }
     },
     "4da6573ee85248ebb94ad774597d6be5": {
      "model_module": "@jupyter-widgets/controls",
      "model_module_version": "1.1.0",
      "model_name": "HBoxModel",
      "state": {
       "children": [
        "IPY_MODEL_0e7b1f89563b4b7191a84382e07594ae",
        "IPY_MODEL_ff271f8b8755402198d6a2a742205ae3"
       ],
       "layout": "IPY_MODEL_395e839245d74342bc12aff95ecd0109"
      }
     },
     "4df29fd8655549e99433131d9d25c8bc": {
      "model_module": "@jupyter-widgets/controls",
      "model_module_version": "1.1.0",
      "model_name": "DropdownModel",
      "state": {
       "_options_labels": [
        "n_lags",
        "n_outputs",
        "stateful"
       ],
       "description": "Compare:",
       "index": 0,
       "layout": "IPY_MODEL_9f9240ff1ed44455a9aacec789fe0437",
       "style": "IPY_MODEL_0d08190bcf744a26841197777aa9004e"
      }
     },
     "5021b54d649646b894bd9da140c21c85": {
      "model_module": "@jupyter-widgets/controls",
      "model_module_version": "1.1.0",
      "model_name": "IntProgressModel",
      "state": {
       "bar_style": "success",
       "description": "Progress",
       "layout": "IPY_MODEL_f8e3b3c9270346e3aea24b787c7aaf24",
       "max": 10,
       "style": "IPY_MODEL_a8a4f91e6b694517bf4d3829e1aa6e78",
       "value": 10
      }
     },
     "50335f130fee4c2492568c91b7be5938": {
      "model_module": "@jupyter-widgets/base",
      "model_module_version": "1.0.0",
      "model_name": "LayoutModel",
      "state": {}
     },
     "50658dbd1ff4456bb2168717708f56a4": {
      "model_module": "@jupyter-widgets/controls",
      "model_module_version": "1.1.0",
      "model_name": "DropdownModel",
      "state": {
       "_options_labels": [
        "n_lags",
        "n_outputs",
        "stateful"
       ],
       "description": "Compare:",
       "index": 0,
       "layout": "IPY_MODEL_c490b11c8b48428e93060b441f4cd3c8",
       "style": "IPY_MODEL_71eba7da721c429b840974e2d59aba6a"
      }
     },
     "5204fcacb5a940979b5d5f9df4e90ef3": {
      "model_module": "@jupyter-widgets/base",
      "model_module_version": "1.0.0",
      "model_name": "LayoutModel",
      "state": {}
     },
     "5448759a940e43f5b9f2888c597a8d66": {
      "model_module": "@jupyter-widgets/output",
      "model_module_version": "1.1.0",
      "model_name": "OutputModel",
      "state": {
       "_model_module_version": "1.1.0",
       "_view_module_version": "1.1.0",
       "layout": "IPY_MODEL_12f55aa06e74414a90688b0eaf5b52ae",
       "outputs": [
        {
         "ename": "UnboundLocalError",
         "evalue": "local variable 'model_perf' referenced before assignment",
         "output_type": "error",
         "traceback": [
          "\u001b[0;31m---------------------------------------------------------------------------\u001b[0m",
          "\u001b[0;31mUnboundLocalError\u001b[0m                         Traceback (most recent call last)",
          "\u001b[0;32m/anaconda3/envs/dsi/lib/python3.6/site-packages/ipywidgets/widgets/interaction.py\u001b[0m in \u001b[0;36mupdate\u001b[0;34m(self, *args)\u001b[0m\n\u001b[1;32m    248\u001b[0m                     \u001b[0mvalue\u001b[0m \u001b[0;34m=\u001b[0m \u001b[0mwidget\u001b[0m\u001b[0;34m.\u001b[0m\u001b[0mget_interact_value\u001b[0m\u001b[0;34m(\u001b[0m\u001b[0;34m)\u001b[0m\u001b[0;34m\u001b[0m\u001b[0m\n\u001b[1;32m    249\u001b[0m                     \u001b[0mself\u001b[0m\u001b[0;34m.\u001b[0m\u001b[0mkwargs\u001b[0m\u001b[0;34m[\u001b[0m\u001b[0mwidget\u001b[0m\u001b[0;34m.\u001b[0m\u001b[0m_kwarg\u001b[0m\u001b[0;34m]\u001b[0m \u001b[0;34m=\u001b[0m \u001b[0mvalue\u001b[0m\u001b[0;34m\u001b[0m\u001b[0m\n\u001b[0;32m--> 250\u001b[0;31m                 \u001b[0mself\u001b[0m\u001b[0;34m.\u001b[0m\u001b[0mresult\u001b[0m \u001b[0;34m=\u001b[0m \u001b[0mself\u001b[0m\u001b[0;34m.\u001b[0m\u001b[0mf\u001b[0m\u001b[0;34m(\u001b[0m\u001b[0;34m**\u001b[0m\u001b[0mself\u001b[0m\u001b[0;34m.\u001b[0m\u001b[0mkwargs\u001b[0m\u001b[0;34m)\u001b[0m\u001b[0;34m\u001b[0m\u001b[0m\n\u001b[0m\u001b[1;32m    251\u001b[0m                 \u001b[0mshow_inline_matplotlib_plots\u001b[0m\u001b[0;34m(\u001b[0m\u001b[0;34m)\u001b[0m\u001b[0;34m\u001b[0m\u001b[0m\n\u001b[1;32m    252\u001b[0m                 \u001b[0;32mif\u001b[0m \u001b[0mself\u001b[0m\u001b[0;34m.\u001b[0m\u001b[0mauto_display\u001b[0m \u001b[0;32mand\u001b[0m \u001b[0mself\u001b[0m\u001b[0;34m.\u001b[0m\u001b[0mresult\u001b[0m \u001b[0;32mis\u001b[0m \u001b[0;32mnot\u001b[0m \u001b[0;32mNone\u001b[0m\u001b[0;34m:\u001b[0m\u001b[0;34m\u001b[0m\u001b[0m\n",
          "\u001b[0;32m<ipython-input-289-ec727ce32fac>\u001b[0m in \u001b[0;36mplot_widget\u001b[0;34m(setting)\u001b[0m\n\u001b[1;32m     11\u001b[0m \u001b[0;32mdef\u001b[0m \u001b[0mplot_widget\u001b[0m\u001b[0;34m(\u001b[0m\u001b[0msetting\u001b[0m \u001b[0;34m=\u001b[0m \u001b[0mmodel_perf\u001b[0m\u001b[0;34m.\u001b[0m\u001b[0mcolumns\u001b[0m\u001b[0;34m[\u001b[0m\u001b[0;36m0\u001b[0m\u001b[0;34m]\u001b[0m\u001b[0;34m)\u001b[0m\u001b[0;34m:\u001b[0m\u001b[0;34m\u001b[0m\u001b[0m\n\u001b[1;32m     12\u001b[0m \u001b[0;34m\u001b[0m\u001b[0m\n\u001b[0;32m---> 13\u001b[0;31m     \u001b[0mmodel_perf\u001b[0m \u001b[0;34m=\u001b[0m \u001b[0mmodel_perf\u001b[0m\u001b[0;34m\u001b[0m\u001b[0m\n\u001b[0m\u001b[1;32m     14\u001b[0m \u001b[0;34m\u001b[0m\u001b[0m\n\u001b[1;32m     15\u001b[0m     sns.lmplot(x='RMSE',y='run_time', data = model_perf, hue = setting, fit_reg=False, \n",
          "\u001b[0;31mUnboundLocalError\u001b[0m: local variable 'model_perf' referenced before assignment"
         ]
        }
       ]
      }
     },
     "54afc2031163405eaee9008f8c73816e": {
      "model_module": "@jupyter-widgets/output",
      "model_module_version": "1.1.0",
      "model_name": "OutputModel",
      "state": {
       "_model_module_version": "1.1.0",
       "_view_module_version": "1.1.0",
       "layout": "IPY_MODEL_6aa36e71365a4560818b096fccb7b567",
       "outputs": [
        {
         "data": {
          "image/png": "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\n",
          "text/plain": "<Figure size 768.625x360 with 1 Axes>"
         },
         "metadata": {},
         "output_type": "display_data"
        }
       ]
      }
     },
     "54cb72286ec449208913d5f37bff25f3": {
      "model_module": "@jupyter-widgets/base",
      "model_module_version": "1.0.0",
      "model_name": "LayoutModel",
      "state": {}
     },
     "559398d217764bd683be744fd9803c43": {
      "model_module": "@jupyter-widgets/controls",
      "model_module_version": "1.1.0",
      "model_name": "DescriptionStyleModel",
      "state": {
       "description_width": ""
      }
     },
     "568a9e6bd0c74af8a79d3a87e74cc08c": {
      "model_module": "@jupyter-widgets/controls",
      "model_module_version": "1.1.0",
      "model_name": "DropdownModel",
      "state": {
       "_options_labels": [
        "n_lags",
        "n_outputs",
        "stateful"
       ],
       "description": "Compare:",
       "index": 0,
       "layout": "IPY_MODEL_03bf8a3aab7a467ebd0847650c4d1a5e",
       "style": "IPY_MODEL_1c31a150a2044ce486abdbe354961c63"
      }
     },
     "5bb9f234c5f44651b96d42b8d37772f5": {
      "model_module": "@jupyter-widgets/base",
      "model_module_version": "1.0.0",
      "model_name": "LayoutModel",
      "state": {}
     },
     "5bc69e0b31e64e76aaa267ff70127d6a": {
      "model_module": "@jupyter-widgets/base",
      "model_module_version": "1.0.0",
      "model_name": "LayoutModel",
      "state": {}
     },
     "5d99b27b61b44268bd7380d7663283dc": {
      "model_module": "@jupyter-widgets/controls",
      "model_module_version": "1.1.0",
      "model_name": "DescriptionStyleModel",
      "state": {
       "description_width": ""
      }
     },
     "5f6d4f08c05545b2a255db2a6a9fabfd": {
      "model_module": "@jupyter-widgets/base",
      "model_module_version": "1.0.0",
      "model_name": "LayoutModel",
      "state": {}
     },
     "605f21e4768b445295bfc82fd62c75a3": {
      "model_module": "@jupyter-widgets/controls",
      "model_module_version": "1.1.0",
      "model_name": "ProgressStyleModel",
      "state": {
       "description_width": ""
      }
     },
     "6226b692c2624c1b8650dd4288b04d86": {
      "model_module": "@jupyter-widgets/base",
      "model_module_version": "1.0.0",
      "model_name": "LayoutModel",
      "state": {}
     },
     "624a8320e3094c1c83aa1a816c02cbbb": {
      "model_module": "@jupyter-widgets/controls",
      "model_module_version": "1.1.0",
      "model_name": "DescriptionStyleModel",
      "state": {
       "description_width": ""
      }
     },
     "64dc11cfa85d4f2b83c2e704982db10b": {
      "model_module": "@jupyter-widgets/base",
      "model_module_version": "1.0.0",
      "model_name": "LayoutModel",
      "state": {}
     },
     "65e6231f560d4e1995f586879b2511df": {
      "model_module": "@jupyter-widgets/base",
      "model_module_version": "1.0.0",
      "model_name": "LayoutModel",
      "state": {}
     },
     "669d87098540405396e922d81a6a6383": {
      "model_module": "@jupyter-widgets/base",
      "model_module_version": "1.0.0",
      "model_name": "LayoutModel",
      "state": {}
     },
     "68ddfa99f9ca4328b170e9724c3392b5": {
      "model_module": "@jupyter-widgets/base",
      "model_module_version": "1.0.0",
      "model_name": "LayoutModel",
      "state": {}
     },
     "69eb82addc004515b866003c80195d1a": {
      "model_module": "@jupyter-widgets/base",
      "model_module_version": "1.0.0",
      "model_name": "LayoutModel",
      "state": {}
     },
     "6aa36e71365a4560818b096fccb7b567": {
      "model_module": "@jupyter-widgets/base",
      "model_module_version": "1.0.0",
      "model_name": "LayoutModel",
      "state": {}
     },
     "6be9df622f9a4befb1567e183ce46578": {
      "model_module": "@jupyter-widgets/controls",
      "model_module_version": "1.1.0",
      "model_name": "VBoxModel",
      "state": {
       "_dom_classes": [
        "widget-interact"
       ],
       "children": [
        "IPY_MODEL_4a120cf7a23d48ee8f00b9ceb351246c",
        "IPY_MODEL_6ce7198328b24491b9d7024bb770eaa7"
       ],
       "layout": "IPY_MODEL_68ddfa99f9ca4328b170e9724c3392b5"
      }
     },
     "6c744068197a4b72b961ba63499cab39": {
      "model_module": "@jupyter-widgets/output",
      "model_module_version": "1.1.0",
      "model_name": "OutputModel",
      "state": {
       "_model_module_version": "1.1.0",
       "_view_module_version": "1.1.0",
       "layout": "IPY_MODEL_06c48492987e46b7827818f971ae5d06",
       "outputs": [
        {
         "ename": "UnboundLocalError",
         "evalue": "local variable 'model_perf' referenced before assignment",
         "output_type": "error",
         "traceback": [
          "\u001b[0;31m---------------------------------------------------------------------------\u001b[0m",
          "\u001b[0;31mUnboundLocalError\u001b[0m                         Traceback (most recent call last)",
          "\u001b[0;32m/anaconda3/envs/dsi/lib/python3.6/site-packages/ipywidgets/widgets/interaction.py\u001b[0m in \u001b[0;36mupdate\u001b[0;34m(self, *args)\u001b[0m\n\u001b[1;32m    248\u001b[0m                     \u001b[0mvalue\u001b[0m \u001b[0;34m=\u001b[0m \u001b[0mwidget\u001b[0m\u001b[0;34m.\u001b[0m\u001b[0mget_interact_value\u001b[0m\u001b[0;34m(\u001b[0m\u001b[0;34m)\u001b[0m\u001b[0;34m\u001b[0m\u001b[0m\n\u001b[1;32m    249\u001b[0m                     \u001b[0mself\u001b[0m\u001b[0;34m.\u001b[0m\u001b[0mkwargs\u001b[0m\u001b[0;34m[\u001b[0m\u001b[0mwidget\u001b[0m\u001b[0;34m.\u001b[0m\u001b[0m_kwarg\u001b[0m\u001b[0;34m]\u001b[0m \u001b[0;34m=\u001b[0m \u001b[0mvalue\u001b[0m\u001b[0;34m\u001b[0m\u001b[0m\n\u001b[0;32m--> 250\u001b[0;31m                 \u001b[0mself\u001b[0m\u001b[0;34m.\u001b[0m\u001b[0mresult\u001b[0m \u001b[0;34m=\u001b[0m \u001b[0mself\u001b[0m\u001b[0;34m.\u001b[0m\u001b[0mf\u001b[0m\u001b[0;34m(\u001b[0m\u001b[0;34m**\u001b[0m\u001b[0mself\u001b[0m\u001b[0;34m.\u001b[0m\u001b[0mkwargs\u001b[0m\u001b[0;34m)\u001b[0m\u001b[0;34m\u001b[0m\u001b[0m\n\u001b[0m\u001b[1;32m    251\u001b[0m                 \u001b[0mshow_inline_matplotlib_plots\u001b[0m\u001b[0;34m(\u001b[0m\u001b[0;34m)\u001b[0m\u001b[0;34m\u001b[0m\u001b[0m\n\u001b[1;32m    252\u001b[0m                 \u001b[0;32mif\u001b[0m \u001b[0mself\u001b[0m\u001b[0;34m.\u001b[0m\u001b[0mauto_display\u001b[0m \u001b[0;32mand\u001b[0m \u001b[0mself\u001b[0m\u001b[0;34m.\u001b[0m\u001b[0mresult\u001b[0m \u001b[0;32mis\u001b[0m \u001b[0;32mnot\u001b[0m \u001b[0;32mNone\u001b[0m\u001b[0;34m:\u001b[0m\u001b[0;34m\u001b[0m\u001b[0m\n",
          "\u001b[0;32m<ipython-input-296-82c0b09955ed>\u001b[0m in \u001b[0;36mplot_widget\u001b[0;34m(setting)\u001b[0m\n\u001b[1;32m      7\u001b[0m \u001b[0;32mdef\u001b[0m \u001b[0mplot_widget\u001b[0m\u001b[0;34m(\u001b[0m\u001b[0msetting\u001b[0m \u001b[0;34m=\u001b[0m \u001b[0mmodel_perf\u001b[0m\u001b[0;34m.\u001b[0m\u001b[0mcolumns\u001b[0m\u001b[0;34m[\u001b[0m\u001b[0;36m0\u001b[0m\u001b[0;34m]\u001b[0m\u001b[0;34m)\u001b[0m\u001b[0;34m:\u001b[0m\u001b[0;34m\u001b[0m\u001b[0m\n\u001b[1;32m      8\u001b[0m \u001b[0;34m\u001b[0m\u001b[0m\n\u001b[0;32m----> 9\u001b[0;31m     \u001b[0mdata\u001b[0m \u001b[0;34m=\u001b[0m \u001b[0mmodel_perf\u001b[0m\u001b[0;34m\u001b[0m\u001b[0m\n\u001b[0m\u001b[1;32m     10\u001b[0m \u001b[0;34m\u001b[0m\u001b[0m\n\u001b[1;32m     11\u001b[0m     sns.lmplot(x='RMSE',y='run_time', data = model_perf, hue = setting, fit_reg=False, \n",
          "\u001b[0;31mUnboundLocalError\u001b[0m: local variable 'model_perf' referenced before assignment"
         ]
        }
       ]
      }
     },
     "6ce7198328b24491b9d7024bb770eaa7": {
      "model_module": "@jupyter-widgets/output",
      "model_module_version": "1.1.0",
      "model_name": "OutputModel",
      "state": {
       "_model_module_version": "1.1.0",
       "_view_module_version": "1.1.0",
       "layout": "IPY_MODEL_64dc11cfa85d4f2b83c2e704982db10b",
       "outputs": [
        {
         "ename": "KeyError",
         "evalue": "None",
         "output_type": "error",
         "traceback": [
          "\u001b[0;31m---------------------------------------------------------------------------\u001b[0m",
          "\u001b[0;31mKeyError\u001b[0m                                  Traceback (most recent call last)",
          "\u001b[0;32m/anaconda3/envs/dsi/lib/python3.6/site-packages/ipywidgets/widgets/interaction.py\u001b[0m in \u001b[0;36mupdate\u001b[0;34m(self, *args)\u001b[0m\n\u001b[1;32m    248\u001b[0m                     \u001b[0mvalue\u001b[0m \u001b[0;34m=\u001b[0m \u001b[0mwidget\u001b[0m\u001b[0;34m.\u001b[0m\u001b[0mget_interact_value\u001b[0m\u001b[0;34m(\u001b[0m\u001b[0;34m)\u001b[0m\u001b[0;34m\u001b[0m\u001b[0m\n\u001b[1;32m    249\u001b[0m                     \u001b[0mself\u001b[0m\u001b[0;34m.\u001b[0m\u001b[0mkwargs\u001b[0m\u001b[0;34m[\u001b[0m\u001b[0mwidget\u001b[0m\u001b[0;34m.\u001b[0m\u001b[0m_kwarg\u001b[0m\u001b[0;34m]\u001b[0m \u001b[0;34m=\u001b[0m \u001b[0mvalue\u001b[0m\u001b[0;34m\u001b[0m\u001b[0m\n\u001b[0;32m--> 250\u001b[0;31m                 \u001b[0mself\u001b[0m\u001b[0;34m.\u001b[0m\u001b[0mresult\u001b[0m \u001b[0;34m=\u001b[0m \u001b[0mself\u001b[0m\u001b[0;34m.\u001b[0m\u001b[0mf\u001b[0m\u001b[0;34m(\u001b[0m\u001b[0;34m**\u001b[0m\u001b[0mself\u001b[0m\u001b[0;34m.\u001b[0m\u001b[0mkwargs\u001b[0m\u001b[0;34m)\u001b[0m\u001b[0;34m\u001b[0m\u001b[0m\n\u001b[0m\u001b[1;32m    251\u001b[0m                 \u001b[0mshow_inline_matplotlib_plots\u001b[0m\u001b[0;34m(\u001b[0m\u001b[0;34m)\u001b[0m\u001b[0;34m\u001b[0m\u001b[0m\n\u001b[1;32m    252\u001b[0m                 \u001b[0;32mif\u001b[0m \u001b[0mself\u001b[0m\u001b[0;34m.\u001b[0m\u001b[0mauto_display\u001b[0m \u001b[0;32mand\u001b[0m \u001b[0mself\u001b[0m\u001b[0;34m.\u001b[0m\u001b[0mresult\u001b[0m \u001b[0;32mis\u001b[0m \u001b[0;32mnot\u001b[0m \u001b[0;32mNone\u001b[0m\u001b[0;34m:\u001b[0m\u001b[0;34m\u001b[0m\u001b[0m\n",
          "\u001b[0;32m<ipython-input-300-3454b2b7ab99>\u001b[0m in \u001b[0;36mplot_widget\u001b[0;34m(setting)\u001b[0m\n\u001b[1;32m     12\u001b[0m     \u001b[0msort_cols\u001b[0m \u001b[0;34m=\u001b[0m \u001b[0mlist\u001b[0m\u001b[0;34m(\u001b[0m\u001b[0mmodel_perf\u001b[0m\u001b[0;34m.\u001b[0m\u001b[0mcolumns\u001b[0m\u001b[0;34m[\u001b[0m\u001b[0;36m0\u001b[0m\u001b[0;34m:\u001b[0m\u001b[0;36m3\u001b[0m\u001b[0;34m]\u001b[0m\u001b[0;34m)\u001b[0m\u001b[0;34m.\u001b[0m\u001b[0mremove\u001b[0m\u001b[0;34m(\u001b[0m\u001b[0msetting\u001b[0m\u001b[0;34m)\u001b[0m\u001b[0;34m\u001b[0m\u001b[0m\n\u001b[1;32m     13\u001b[0m \u001b[0;34m\u001b[0m\u001b[0m\n\u001b[0;32m---> 14\u001b[0;31m     \u001b[0mmodel_perf\u001b[0m\u001b[0;34m.\u001b[0m\u001b[0msort_values\u001b[0m\u001b[0;34m(\u001b[0m\u001b[0mby\u001b[0m\u001b[0;34m=\u001b[0m\u001b[0msort_cols\u001b[0m\u001b[0;34m,\u001b[0m \u001b[0minplace\u001b[0m\u001b[0;34m=\u001b[0m\u001b[0;32mTrue\u001b[0m\u001b[0;34m)\u001b[0m\u001b[0;34m\u001b[0m\u001b[0m\n\u001b[0m\u001b[1;32m     15\u001b[0m     \u001b[0mprint\u001b[0m\u001b[0;34m(\u001b[0m\u001b[0mmodel_perf\u001b[0m\u001b[0;34m)\u001b[0m\u001b[0;34m\u001b[0m\u001b[0m\n\u001b[1;32m     16\u001b[0m     \u001b[0;32mfor\u001b[0m \u001b[0mn\u001b[0m \u001b[0;32min\u001b[0m \u001b[0mrange\u001b[0m\u001b[0;34m(\u001b[0m\u001b[0mmodel_perf\u001b[0m\u001b[0;34m.\u001b[0m\u001b[0mshape\u001b[0m\u001b[0;34m[\u001b[0m\u001b[0;36m0\u001b[0m\u001b[0;34m]\u001b[0m\u001b[0;34m//\u001b[0m\u001b[0;36m2\u001b[0m\u001b[0;34m)\u001b[0m\u001b[0;34m:\u001b[0m\u001b[0;34m\u001b[0m\u001b[0m\n",
          "\u001b[0;32m/anaconda3/envs/dsi/lib/python3.6/site-packages/pandas/core/frame.py\u001b[0m in \u001b[0;36msort_values\u001b[0;34m(self, by, axis, ascending, inplace, kind, na_position)\u001b[0m\n\u001b[1;32m   4419\u001b[0m             \u001b[0mby\u001b[0m \u001b[0;34m=\u001b[0m \u001b[0mby\u001b[0m\u001b[0;34m[\u001b[0m\u001b[0;36m0\u001b[0m\u001b[0;34m]\u001b[0m\u001b[0;34m\u001b[0m\u001b[0m\n\u001b[1;32m   4420\u001b[0m             k = self._get_label_or_level_values(by, axis=axis,\n\u001b[0;32m-> 4421\u001b[0;31m                                                 stacklevel=stacklevel)\n\u001b[0m\u001b[1;32m   4422\u001b[0m \u001b[0;34m\u001b[0m\u001b[0m\n\u001b[1;32m   4423\u001b[0m             \u001b[0;32mif\u001b[0m \u001b[0misinstance\u001b[0m\u001b[0;34m(\u001b[0m\u001b[0mascending\u001b[0m\u001b[0;34m,\u001b[0m \u001b[0;34m(\u001b[0m\u001b[0mtuple\u001b[0m\u001b[0;34m,\u001b[0m \u001b[0mlist\u001b[0m\u001b[0;34m)\u001b[0m\u001b[0;34m)\u001b[0m\u001b[0;34m:\u001b[0m\u001b[0;34m\u001b[0m\u001b[0m\n",
          "\u001b[0;32m/anaconda3/envs/dsi/lib/python3.6/site-packages/pandas/core/generic.py\u001b[0m in \u001b[0;36m_get_label_or_level_values\u001b[0;34m(self, key, axis, stacklevel)\u001b[0m\n\u001b[1;32m   1380\u001b[0m             \u001b[0mvalues\u001b[0m \u001b[0;34m=\u001b[0m \u001b[0mself\u001b[0m\u001b[0;34m.\u001b[0m\u001b[0maxes\u001b[0m\u001b[0;34m[\u001b[0m\u001b[0maxis\u001b[0m\u001b[0;34m]\u001b[0m\u001b[0;34m.\u001b[0m\u001b[0mget_level_values\u001b[0m\u001b[0;34m(\u001b[0m\u001b[0mkey\u001b[0m\u001b[0;34m)\u001b[0m\u001b[0;34m.\u001b[0m\u001b[0m_values\u001b[0m\u001b[0;34m\u001b[0m\u001b[0m\n\u001b[1;32m   1381\u001b[0m         \u001b[0;32melse\u001b[0m\u001b[0;34m:\u001b[0m\u001b[0;34m\u001b[0m\u001b[0m\n\u001b[0;32m-> 1382\u001b[0;31m             \u001b[0;32mraise\u001b[0m \u001b[0mKeyError\u001b[0m\u001b[0;34m(\u001b[0m\u001b[0mkey\u001b[0m\u001b[0;34m)\u001b[0m\u001b[0;34m\u001b[0m\u001b[0m\n\u001b[0m\u001b[1;32m   1383\u001b[0m \u001b[0;34m\u001b[0m\u001b[0m\n\u001b[1;32m   1384\u001b[0m         \u001b[0;31m# Check for duplicates\u001b[0m\u001b[0;34m\u001b[0m\u001b[0;34m\u001b[0m\u001b[0m\n",
          "\u001b[0;31mKeyError\u001b[0m: None"
         ]
        }
       ]
      }
     },
     "6d96db7a4a034168a3601afd5066982b": {
      "model_module": "@jupyter-widgets/controls",
      "model_module_version": "1.1.0",
      "model_name": "ProgressStyleModel",
      "state": {
       "description_width": ""
      }
     },
     "6ebec651700b4c73b76d978f2af519da": {
      "model_module": "@jupyter-widgets/base",
      "model_module_version": "1.0.0",
      "model_name": "LayoutModel",
      "state": {}
     },
     "701e62768e7d4de3b6dc64910416163e": {
      "model_module": "@jupyter-widgets/controls",
      "model_module_version": "1.1.0",
      "model_name": "HTMLModel",
      "state": {
       "layout": "IPY_MODEL_3bf38f7a8d6640e7ad2687f87e33a816",
       "style": "IPY_MODEL_856a17f1c5a440dea57bed1446946f24",
       "value": "100% 5/5 [08:09&lt;00:00, 97.90s/it]"
      }
     },
     "70deabe4eb894334bddccb25c6143035": {
      "model_module": "@jupyter-widgets/controls",
      "model_module_version": "1.1.0",
      "model_name": "VBoxModel",
      "state": {
       "_dom_classes": [
        "widget-interact"
       ],
       "children": [
        "IPY_MODEL_aa3831dc24d641aba2b4b0f4fdeaf0ce",
        "IPY_MODEL_54afc2031163405eaee9008f8c73816e"
       ],
       "layout": "IPY_MODEL_85c9e958df914e9ba72896edf8a13374"
      }
     },
     "71eba7da721c429b840974e2d59aba6a": {
      "model_module": "@jupyter-widgets/controls",
      "model_module_version": "1.1.0",
      "model_name": "DescriptionStyleModel",
      "state": {
       "description_width": ""
      }
     },
     "71f7f974927843e889987033370023ce": {
      "model_module": "@jupyter-widgets/controls",
      "model_module_version": "1.1.0",
      "model_name": "VBoxModel",
      "state": {
       "_dom_classes": [
        "widget-interact"
       ],
       "children": [
        "IPY_MODEL_4df29fd8655549e99433131d9d25c8bc",
        "IPY_MODEL_2090bec776a24dbd97d7ec5058e8c655"
       ],
       "layout": "IPY_MODEL_2e7650ae6df3477eafb69d23d4cd5a01"
      }
     },
     "721936f989bd4f13b83d1764bc0217c6": {
      "model_module": "@jupyter-widgets/base",
      "model_module_version": "1.0.0",
      "model_name": "LayoutModel",
      "state": {}
     },
     "75e52629ad964f6daa6971f9916e9baf": {
      "model_module": "@jupyter-widgets/controls",
      "model_module_version": "1.1.0",
      "model_name": "HTMLModel",
      "state": {
       "layout": "IPY_MODEL_2f61d11884cc4d68bb952411a253e585",
       "style": "IPY_MODEL_0e71b16b3b61413aa46b6e30711db5df",
       "value": "100% 1/1 [01:42&lt;00:00, 102.93s/it]"
      }
     },
     "76542c21df28491da8a6f79ef24d4790": {
      "model_module": "@jupyter-widgets/controls",
      "model_module_version": "1.1.0",
      "model_name": "VBoxModel",
      "state": {
       "_dom_classes": [
        "widget-interact"
       ],
       "children": [
        "IPY_MODEL_7df194c6b76643d4af85faa30b2fdbef",
        "IPY_MODEL_326f87287274471d9d2aea3cf33a4860"
       ],
       "layout": "IPY_MODEL_5204fcacb5a940979b5d5f9df4e90ef3"
      }
     },
     "780dc269c64b45b6a88519c8673d9d0f": {
      "model_module": "@jupyter-widgets/controls",
      "model_module_version": "1.1.0",
      "model_name": "DropdownModel",
      "state": {
       "_options_labels": [
        "n_lags",
        "n_outputs",
        "stateful"
       ],
       "description": "Compare:",
       "index": 0,
       "layout": "IPY_MODEL_06ad35cf75f44236866e25c40274aeb8",
       "style": "IPY_MODEL_5d99b27b61b44268bd7380d7663283dc"
      }
     },
     "7a21f99626e54061ab61cbdfcac58df0": {
      "model_module": "@jupyter-widgets/base",
      "model_module_version": "1.0.0",
      "model_name": "LayoutModel",
      "state": {}
     },
     "7b1d1820a38b462e91f1f43c771d4039": {
      "model_module": "@jupyter-widgets/controls",
      "model_module_version": "1.1.0",
      "model_name": "HBoxModel",
      "state": {
       "children": [
        "IPY_MODEL_f4f7ca9f152a457989433fa4a204f781",
        "IPY_MODEL_701e62768e7d4de3b6dc64910416163e"
       ],
       "layout": "IPY_MODEL_3f0ff9a9f97c489285450e3148a54268"
      }
     },
     "7c6649f85d2c4baf9ae093a6b6fc83e6": {
      "model_module": "@jupyter-widgets/base",
      "model_module_version": "1.0.0",
      "model_name": "LayoutModel",
      "state": {}
     },
     "7df194c6b76643d4af85faa30b2fdbef": {
      "model_module": "@jupyter-widgets/controls",
      "model_module_version": "1.1.0",
      "model_name": "DropdownModel",
      "state": {
       "_options_labels": [
        "n_lags",
        "n_outputs",
        "stateful"
       ],
       "description": "Compare:",
       "index": 2,
       "layout": "IPY_MODEL_8ce77aafb87647dd9640c58ab0d69916",
       "style": "IPY_MODEL_3009c32ab25a478a9b2df2aeb00c9d6a"
      }
     },
     "7fed9a6061d145539616c54d3eabb3d7": {
      "model_module": "@jupyter-widgets/controls",
      "model_module_version": "1.1.0",
      "model_name": "DescriptionStyleModel",
      "state": {
       "description_width": ""
      }
     },
     "821021cde13d41e3a4684064e591593b": {
      "model_module": "@jupyter-widgets/base",
      "model_module_version": "1.0.0",
      "model_name": "LayoutModel",
      "state": {}
     },
     "846a47e02fa34cea8fd089b5bfa7b48d": {
      "model_module": "@jupyter-widgets/base",
      "model_module_version": "1.0.0",
      "model_name": "LayoutModel",
      "state": {}
     },
     "856a17f1c5a440dea57bed1446946f24": {
      "model_module": "@jupyter-widgets/controls",
      "model_module_version": "1.1.0",
      "model_name": "DescriptionStyleModel",
      "state": {
       "description_width": ""
      }
     },
     "85be28dbc2e14ac0b4bc618731233468": {
      "model_module": "@jupyter-widgets/controls",
      "model_module_version": "1.1.0",
      "model_name": "DescriptionStyleModel",
      "state": {
       "description_width": ""
      }
     },
     "85c9e958df914e9ba72896edf8a13374": {
      "model_module": "@jupyter-widgets/base",
      "model_module_version": "1.0.0",
      "model_name": "LayoutModel",
      "state": {}
     },
     "86229e75f93549719de4dd12cd7d6bec": {
      "model_module": "@jupyter-widgets/controls",
      "model_module_version": "1.1.0",
      "model_name": "DescriptionStyleModel",
      "state": {
       "description_width": ""
      }
     },
     "8634644448394dd5b85890bad7d1251f": {
      "model_module": "@jupyter-widgets/base",
      "model_module_version": "1.0.0",
      "model_name": "LayoutModel",
      "state": {}
     },
     "894b6f1229a3451182cdcf8d11747662": {
      "model_module": "@jupyter-widgets/base",
      "model_module_version": "1.0.0",
      "model_name": "LayoutModel",
      "state": {}
     },
     "8b39361036694482beeae1f92cfa1a27": {
      "model_module": "@jupyter-widgets/controls",
      "model_module_version": "1.1.0",
      "model_name": "VBoxModel",
      "state": {
       "_dom_classes": [
        "widget-interact"
       ],
       "children": [
        "IPY_MODEL_c8029e48c3894c84bde09e02b8cceb9b",
        "IPY_MODEL_e63b734518da44e0a335bb11d184fec6"
       ],
       "layout": "IPY_MODEL_95bec559e0a644049b7c7b105bfcc260"
      }
     },
     "8c97651de3644416b047561086e0a665": {
      "model_module": "@jupyter-widgets/base",
      "model_module_version": "1.0.0",
      "model_name": "LayoutModel",
      "state": {}
     },
     "8ce77aafb87647dd9640c58ab0d69916": {
      "model_module": "@jupyter-widgets/base",
      "model_module_version": "1.0.0",
      "model_name": "LayoutModel",
      "state": {}
     },
     "8d207c3e7b3c4648bf3ef47f9f92ca43": {
      "model_module": "@jupyter-widgets/base",
      "model_module_version": "1.0.0",
      "model_name": "LayoutModel",
      "state": {}
     },
     "8d3c56ba9fc3455dac728705ca539458": {
      "model_module": "@jupyter-widgets/controls",
      "model_module_version": "1.1.0",
      "model_name": "DescriptionStyleModel",
      "state": {
       "description_width": ""
      }
     },
     "8e49b702120f4f4cbb438af9204d7462": {
      "model_module": "@jupyter-widgets/base",
      "model_module_version": "1.0.0",
      "model_name": "LayoutModel",
      "state": {}
     },
     "91d23a3fbe1d4ddf984bfc4c7ecaff76": {
      "model_module": "@jupyter-widgets/controls",
      "model_module_version": "1.1.0",
      "model_name": "HTMLModel",
      "state": {
       "layout": "IPY_MODEL_1a064312d31b4bf5aa72bf38c26fec23",
       "style": "IPY_MODEL_fa51a9e0bde14d0abcd51f69c64ce36e",
       "value": "100% 8/8 [53:00&lt;00:00, 397.60s/it]"
      }
     },
     "9276addf3efb458baf339a361480aec4": {
      "model_module": "@jupyter-widgets/output",
      "model_module_version": "1.1.0",
      "model_name": "OutputModel",
      "state": {
       "_model_module_version": "1.1.0",
       "_view_module_version": "1.1.0",
       "layout": "IPY_MODEL_d7c4d6b670d9471d9fe918e14b9a2bce",
       "outputs": [
        {
         "ename": "TypeError",
         "evalue": "string indices must be integers",
         "output_type": "error",
         "traceback": [
          "\u001b[0;31m---------------------------------------------------------------------------\u001b[0m",
          "\u001b[0;31mTypeError\u001b[0m                                 Traceback (most recent call last)",
          "\u001b[0;32m/anaconda3/envs/dsi/lib/python3.6/site-packages/ipywidgets/widgets/interaction.py\u001b[0m in \u001b[0;36mupdate\u001b[0;34m(self, *args)\u001b[0m\n\u001b[1;32m    248\u001b[0m                     \u001b[0mvalue\u001b[0m \u001b[0;34m=\u001b[0m \u001b[0mwidget\u001b[0m\u001b[0;34m.\u001b[0m\u001b[0mget_interact_value\u001b[0m\u001b[0;34m(\u001b[0m\u001b[0;34m)\u001b[0m\u001b[0;34m\u001b[0m\u001b[0m\n\u001b[1;32m    249\u001b[0m                     \u001b[0mself\u001b[0m\u001b[0;34m.\u001b[0m\u001b[0mkwargs\u001b[0m\u001b[0;34m[\u001b[0m\u001b[0mwidget\u001b[0m\u001b[0;34m.\u001b[0m\u001b[0m_kwarg\u001b[0m\u001b[0;34m]\u001b[0m \u001b[0;34m=\u001b[0m \u001b[0mvalue\u001b[0m\u001b[0;34m\u001b[0m\u001b[0m\n\u001b[0;32m--> 250\u001b[0;31m                 \u001b[0mself\u001b[0m\u001b[0;34m.\u001b[0m\u001b[0mresult\u001b[0m \u001b[0;34m=\u001b[0m \u001b[0mself\u001b[0m\u001b[0;34m.\u001b[0m\u001b[0mf\u001b[0m\u001b[0;34m(\u001b[0m\u001b[0;34m**\u001b[0m\u001b[0mself\u001b[0m\u001b[0;34m.\u001b[0m\u001b[0mkwargs\u001b[0m\u001b[0;34m)\u001b[0m\u001b[0;34m\u001b[0m\u001b[0m\n\u001b[0m\u001b[1;32m    251\u001b[0m                 \u001b[0mshow_inline_matplotlib_plots\u001b[0m\u001b[0;34m(\u001b[0m\u001b[0;34m)\u001b[0m\u001b[0;34m\u001b[0m\u001b[0m\n\u001b[1;32m    252\u001b[0m                 \u001b[0;32mif\u001b[0m \u001b[0mself\u001b[0m\u001b[0;34m.\u001b[0m\u001b[0mauto_display\u001b[0m \u001b[0;32mand\u001b[0m \u001b[0mself\u001b[0m\u001b[0;34m.\u001b[0m\u001b[0mresult\u001b[0m \u001b[0;32mis\u001b[0m \u001b[0;32mnot\u001b[0m \u001b[0;32mNone\u001b[0m\u001b[0;34m:\u001b[0m\u001b[0;34m\u001b[0m\u001b[0m\n",
          "\u001b[0;32m<ipython-input-292-cfa9d3d97f87>\u001b[0m in \u001b[0;36mplot_widget\u001b[0;34m(setting, model_perf)\u001b[0m\n\u001b[1;32m      8\u001b[0m \u001b[0;34m\u001b[0m\u001b[0m\n\u001b[1;32m      9\u001b[0m     sns.lmplot(x='RMSE',y='run_time', data = model_perf, hue = setting, fit_reg=False, \n\u001b[0;32m---> 10\u001b[0;31m                size=5, aspect=2,  scatter_kws={\"s\": 500}, palette = 'Set1');\n\u001b[0m\u001b[1;32m     11\u001b[0m \u001b[0;34m\u001b[0m\u001b[0m\n\u001b[1;32m     12\u001b[0m     \u001b[0msort_cols\u001b[0m \u001b[0;34m=\u001b[0m \u001b[0mlist\u001b[0m\u001b[0;34m(\u001b[0m\u001b[0mmodel_perf\u001b[0m\u001b[0;34m.\u001b[0m\u001b[0mcolumns\u001b[0m\u001b[0;34m[\u001b[0m\u001b[0;36m0\u001b[0m\u001b[0;34m:\u001b[0m\u001b[0;36m3\u001b[0m\u001b[0;34m]\u001b[0m\u001b[0;34m)\u001b[0m\u001b[0;34m.\u001b[0m\u001b[0mremove\u001b[0m\u001b[0;34m(\u001b[0m\u001b[0msetting\u001b[0m\u001b[0;34m)\u001b[0m\u001b[0;34m\u001b[0m\u001b[0m\n",
          "\u001b[0;32m/anaconda3/envs/dsi/lib/python3.6/site-packages/seaborn/regression.py\u001b[0m in \u001b[0;36mlmplot\u001b[0;34m(x, y, data, hue, col, row, palette, col_wrap, size, aspect, markers, sharex, sharey, hue_order, col_order, row_order, legend, legend_out, x_estimator, x_bins, x_ci, scatter, fit_reg, ci, n_boot, units, order, logistic, lowess, robust, logx, x_partial, y_partial, truncate, x_jitter, y_jitter, scatter_kws, line_kws)\u001b[0m\n\u001b[1;32m    550\u001b[0m     \u001b[0mneed_cols\u001b[0m \u001b[0;34m=\u001b[0m \u001b[0;34m[\u001b[0m\u001b[0mx\u001b[0m\u001b[0;34m,\u001b[0m \u001b[0my\u001b[0m\u001b[0;34m,\u001b[0m \u001b[0mhue\u001b[0m\u001b[0;34m,\u001b[0m \u001b[0mcol\u001b[0m\u001b[0;34m,\u001b[0m \u001b[0mrow\u001b[0m\u001b[0;34m,\u001b[0m \u001b[0munits\u001b[0m\u001b[0;34m,\u001b[0m \u001b[0mx_partial\u001b[0m\u001b[0;34m,\u001b[0m \u001b[0my_partial\u001b[0m\u001b[0;34m]\u001b[0m\u001b[0;34m\u001b[0m\u001b[0m\n\u001b[1;32m    551\u001b[0m     \u001b[0mcols\u001b[0m \u001b[0;34m=\u001b[0m \u001b[0mnp\u001b[0m\u001b[0;34m.\u001b[0m\u001b[0munique\u001b[0m\u001b[0;34m(\u001b[0m\u001b[0;34m[\u001b[0m\u001b[0ma\u001b[0m \u001b[0;32mfor\u001b[0m \u001b[0ma\u001b[0m \u001b[0;32min\u001b[0m \u001b[0mneed_cols\u001b[0m \u001b[0;32mif\u001b[0m \u001b[0ma\u001b[0m \u001b[0;32mis\u001b[0m \u001b[0;32mnot\u001b[0m \u001b[0;32mNone\u001b[0m\u001b[0;34m]\u001b[0m\u001b[0;34m)\u001b[0m\u001b[0;34m.\u001b[0m\u001b[0mtolist\u001b[0m\u001b[0;34m(\u001b[0m\u001b[0;34m)\u001b[0m\u001b[0;34m\u001b[0m\u001b[0m\n\u001b[0;32m--> 552\u001b[0;31m     \u001b[0mdata\u001b[0m \u001b[0;34m=\u001b[0m \u001b[0mdata\u001b[0m\u001b[0;34m[\u001b[0m\u001b[0mcols\u001b[0m\u001b[0;34m]\u001b[0m\u001b[0;34m\u001b[0m\u001b[0m\n\u001b[0m\u001b[1;32m    553\u001b[0m \u001b[0;34m\u001b[0m\u001b[0m\n\u001b[1;32m    554\u001b[0m     \u001b[0;31m# Initialize the grid\u001b[0m\u001b[0;34m\u001b[0m\u001b[0;34m\u001b[0m\u001b[0m\n",
          "\u001b[0;31mTypeError\u001b[0m: string indices must be integers"
         ]
        }
       ]
      }
     },
     "933d4b9dc30d4dd1aaa0ae1de76e437d": {
      "model_module": "@jupyter-widgets/base",
      "model_module_version": "1.0.0",
      "model_name": "LayoutModel",
      "state": {}
     },
     "95bec559e0a644049b7c7b105bfcc260": {
      "model_module": "@jupyter-widgets/base",
      "model_module_version": "1.0.0",
      "model_name": "LayoutModel",
      "state": {}
     },
     "9663c61964ff458b84992e8a06dd23b8": {
      "model_module": "@jupyter-widgets/controls",
      "model_module_version": "1.1.0",
      "model_name": "DropdownModel",
      "state": {
       "_options_labels": [
        "n_lags",
        "n_outputs",
        "stateful"
       ],
       "description": "Compare:",
       "index": 0,
       "layout": "IPY_MODEL_8d207c3e7b3c4648bf3ef47f9f92ca43",
       "style": "IPY_MODEL_7fed9a6061d145539616c54d3eabb3d7"
      }
     },
     "96bda2169c3e4406889ef8cd68d290ca": {
      "model_module": "@jupyter-widgets/controls",
      "model_module_version": "1.1.0",
      "model_name": "IntProgressModel",
      "state": {
       "bar_style": "success",
       "description": "Progress",
       "layout": "IPY_MODEL_21064957dcfd43eab871ea3313fc16c4",
       "max": 8,
       "style": "IPY_MODEL_29878f63f90b4fe781cc28ee1030906e",
       "value": 8
      }
     },
     "98d6887212154387aac57ad7d3a18513": {
      "model_module": "@jupyter-widgets/controls",
      "model_module_version": "1.1.0",
      "model_name": "ProgressStyleModel",
      "state": {
       "description_width": ""
      }
     },
     "98f522790e2d4b43a50755355434d476": {
      "model_module": "@jupyter-widgets/controls",
      "model_module_version": "1.1.0",
      "model_name": "DropdownModel",
      "state": {
       "_options_labels": [
        "n_lags",
        "n_outputs",
        "stateful"
       ],
       "description": "Compare:",
       "index": 0,
       "layout": "IPY_MODEL_cbe46d882ef64cd7ab736fe6150885ec",
       "style": "IPY_MODEL_86229e75f93549719de4dd12cd7d6bec"
      }
     },
     "9969f76895d144189d02169513f6c35f": {
      "model_module": "@jupyter-widgets/base",
      "model_module_version": "1.0.0",
      "model_name": "LayoutModel",
      "state": {}
     },
     "997d79083e314cf1bc18cde8d61c94fd": {
      "model_module": "@jupyter-widgets/base",
      "model_module_version": "1.0.0",
      "model_name": "LayoutModel",
      "state": {}
     },
     "999d1187ec3841eaaf3bc6542b49d8f7": {
      "model_module": "@jupyter-widgets/controls",
      "model_module_version": "1.1.0",
      "model_name": "VBoxModel",
      "state": {
       "_dom_classes": [
        "widget-interact"
       ],
       "children": [
        "IPY_MODEL_9cb1a52536854a0781436496576de93f",
        "IPY_MODEL_b60f2709f04b46a8a8894ce3883e5ab9"
       ],
       "layout": "IPY_MODEL_894b6f1229a3451182cdcf8d11747662"
      }
     },
     "9a38ec3f9aba4c6d8284b18e969eec1f": {
      "model_module": "@jupyter-widgets/controls",
      "model_module_version": "1.1.0",
      "model_name": "DropdownModel",
      "state": {
       "_options_labels": [
        "n_lags",
        "n_outputs",
        "stateful",
        "RMSE",
        "run_time"
       ],
       "description": "model_perf",
       "index": 0,
       "layout": "IPY_MODEL_6226b692c2624c1b8650dd4288b04d86",
       "style": "IPY_MODEL_26bf0c7ea60b4e2c9869f6668a0c17d1"
      }
     },
     "9ac9d31ea75f47f8aa3a677dd86e8c77": {
      "model_module": "@jupyter-widgets/controls",
      "model_module_version": "1.1.0",
      "model_name": "ProgressStyleModel",
      "state": {
       "description_width": ""
      }
     },
     "9b561c431ea749a3bfd004c5ac46da48": {
      "model_module": "@jupyter-widgets/base",
      "model_module_version": "1.0.0",
      "model_name": "LayoutModel",
      "state": {}
     },
     "9bffc9e594eb401ab1626a42521fc335": {
      "model_module": "@jupyter-widgets/output",
      "model_module_version": "1.1.0",
      "model_name": "OutputModel",
      "state": {
       "_model_module_version": "1.1.0",
       "_view_module_version": "1.1.0",
       "layout": "IPY_MODEL_3bb613a5ad364b36957075ba06c2fc59",
       "outputs": [
        {
         "ename": "TypeError",
         "evalue": "string indices must be integers",
         "output_type": "error",
         "traceback": [
          "\u001b[0;31m---------------------------------------------------------------------------\u001b[0m",
          "\u001b[0;31mTypeError\u001b[0m                                 Traceback (most recent call last)",
          "\u001b[0;32m/anaconda3/envs/dsi/lib/python3.6/site-packages/ipywidgets/widgets/interaction.py\u001b[0m in \u001b[0;36mupdate\u001b[0;34m(self, *args)\u001b[0m\n\u001b[1;32m    248\u001b[0m                     \u001b[0mvalue\u001b[0m \u001b[0;34m=\u001b[0m \u001b[0mwidget\u001b[0m\u001b[0;34m.\u001b[0m\u001b[0mget_interact_value\u001b[0m\u001b[0;34m(\u001b[0m\u001b[0;34m)\u001b[0m\u001b[0;34m\u001b[0m\u001b[0m\n\u001b[1;32m    249\u001b[0m                     \u001b[0mself\u001b[0m\u001b[0;34m.\u001b[0m\u001b[0mkwargs\u001b[0m\u001b[0;34m[\u001b[0m\u001b[0mwidget\u001b[0m\u001b[0;34m.\u001b[0m\u001b[0m_kwarg\u001b[0m\u001b[0;34m]\u001b[0m \u001b[0;34m=\u001b[0m \u001b[0mvalue\u001b[0m\u001b[0;34m\u001b[0m\u001b[0m\n\u001b[0;32m--> 250\u001b[0;31m                 \u001b[0mself\u001b[0m\u001b[0;34m.\u001b[0m\u001b[0mresult\u001b[0m \u001b[0;34m=\u001b[0m \u001b[0mself\u001b[0m\u001b[0;34m.\u001b[0m\u001b[0mf\u001b[0m\u001b[0;34m(\u001b[0m\u001b[0;34m**\u001b[0m\u001b[0mself\u001b[0m\u001b[0;34m.\u001b[0m\u001b[0mkwargs\u001b[0m\u001b[0;34m)\u001b[0m\u001b[0;34m\u001b[0m\u001b[0m\n\u001b[0m\u001b[1;32m    251\u001b[0m                 \u001b[0mshow_inline_matplotlib_plots\u001b[0m\u001b[0;34m(\u001b[0m\u001b[0;34m)\u001b[0m\u001b[0;34m\u001b[0m\u001b[0m\n\u001b[1;32m    252\u001b[0m                 \u001b[0;32mif\u001b[0m \u001b[0mself\u001b[0m\u001b[0;34m.\u001b[0m\u001b[0mauto_display\u001b[0m \u001b[0;32mand\u001b[0m \u001b[0mself\u001b[0m\u001b[0;34m.\u001b[0m\u001b[0mresult\u001b[0m \u001b[0;32mis\u001b[0m \u001b[0;32mnot\u001b[0m \u001b[0;32mNone\u001b[0m\u001b[0;34m:\u001b[0m\u001b[0;34m\u001b[0m\u001b[0m\n",
          "\u001b[0;32m<ipython-input-283-9c97529794e7>\u001b[0m in \u001b[0;36mplot_widget\u001b[0;34m(setting, perf_df)\u001b[0m\n\u001b[1;32m     12\u001b[0m \u001b[0;34m\u001b[0m\u001b[0m\n\u001b[1;32m     13\u001b[0m     sns.lmplot(x='RMSE',y='run_time', data = perf_df, hue = setting, fit_reg=False, \n\u001b[0;32m---> 14\u001b[0;31m                size=5, aspect=2,  scatter_kws={\"s\": 500}, palette = 'Set1');\n\u001b[0m\u001b[1;32m     15\u001b[0m \u001b[0;34m\u001b[0m\u001b[0m\n\u001b[1;32m     16\u001b[0m     \u001b[0msort_cols\u001b[0m \u001b[0;34m=\u001b[0m \u001b[0mlist\u001b[0m\u001b[0;34m(\u001b[0m\u001b[0mperf_df\u001b[0m\u001b[0;34m.\u001b[0m\u001b[0mcolumns\u001b[0m\u001b[0;34m[\u001b[0m\u001b[0;36m0\u001b[0m\u001b[0;34m:\u001b[0m\u001b[0;36m3\u001b[0m\u001b[0;34m]\u001b[0m\u001b[0;34m)\u001b[0m\u001b[0;34m.\u001b[0m\u001b[0mremove\u001b[0m\u001b[0;34m(\u001b[0m\u001b[0msetting\u001b[0m\u001b[0;34m)\u001b[0m\u001b[0;34m\u001b[0m\u001b[0m\n",
          "\u001b[0;32m/anaconda3/envs/dsi/lib/python3.6/site-packages/seaborn/regression.py\u001b[0m in \u001b[0;36mlmplot\u001b[0;34m(x, y, data, hue, col, row, palette, col_wrap, size, aspect, markers, sharex, sharey, hue_order, col_order, row_order, legend, legend_out, x_estimator, x_bins, x_ci, scatter, fit_reg, ci, n_boot, units, order, logistic, lowess, robust, logx, x_partial, y_partial, truncate, x_jitter, y_jitter, scatter_kws, line_kws)\u001b[0m\n\u001b[1;32m    550\u001b[0m     \u001b[0mneed_cols\u001b[0m \u001b[0;34m=\u001b[0m \u001b[0;34m[\u001b[0m\u001b[0mx\u001b[0m\u001b[0;34m,\u001b[0m \u001b[0my\u001b[0m\u001b[0;34m,\u001b[0m \u001b[0mhue\u001b[0m\u001b[0;34m,\u001b[0m \u001b[0mcol\u001b[0m\u001b[0;34m,\u001b[0m \u001b[0mrow\u001b[0m\u001b[0;34m,\u001b[0m \u001b[0munits\u001b[0m\u001b[0;34m,\u001b[0m \u001b[0mx_partial\u001b[0m\u001b[0;34m,\u001b[0m \u001b[0my_partial\u001b[0m\u001b[0;34m]\u001b[0m\u001b[0;34m\u001b[0m\u001b[0m\n\u001b[1;32m    551\u001b[0m     \u001b[0mcols\u001b[0m \u001b[0;34m=\u001b[0m \u001b[0mnp\u001b[0m\u001b[0;34m.\u001b[0m\u001b[0munique\u001b[0m\u001b[0;34m(\u001b[0m\u001b[0;34m[\u001b[0m\u001b[0ma\u001b[0m \u001b[0;32mfor\u001b[0m \u001b[0ma\u001b[0m \u001b[0;32min\u001b[0m \u001b[0mneed_cols\u001b[0m \u001b[0;32mif\u001b[0m \u001b[0ma\u001b[0m \u001b[0;32mis\u001b[0m \u001b[0;32mnot\u001b[0m \u001b[0;32mNone\u001b[0m\u001b[0;34m]\u001b[0m\u001b[0;34m)\u001b[0m\u001b[0;34m.\u001b[0m\u001b[0mtolist\u001b[0m\u001b[0;34m(\u001b[0m\u001b[0;34m)\u001b[0m\u001b[0;34m\u001b[0m\u001b[0m\n\u001b[0;32m--> 552\u001b[0;31m     \u001b[0mdata\u001b[0m \u001b[0;34m=\u001b[0m \u001b[0mdata\u001b[0m\u001b[0;34m[\u001b[0m\u001b[0mcols\u001b[0m\u001b[0;34m]\u001b[0m\u001b[0;34m\u001b[0m\u001b[0m\n\u001b[0m\u001b[1;32m    553\u001b[0m \u001b[0;34m\u001b[0m\u001b[0m\n\u001b[1;32m    554\u001b[0m     \u001b[0;31m# Initialize the grid\u001b[0m\u001b[0;34m\u001b[0m\u001b[0;34m\u001b[0m\u001b[0m\n",
          "\u001b[0;31mTypeError\u001b[0m: string indices must be integers"
         ]
        }
       ]
      }
     },
     "9c44e2f8a1bf4665971115afe001c012": {
      "model_module": "@jupyter-widgets/controls",
      "model_module_version": "1.1.0",
      "model_name": "VBoxModel",
      "state": {
       "_dom_classes": [
        "widget-interact"
       ],
       "children": [
        "IPY_MODEL_ccbf3e899dde4b71b03eb6f85dcf3c79",
        "IPY_MODEL_256c3e09274f4e8f903162221f19fda5"
       ],
       "layout": "IPY_MODEL_e9b9a205cd8e4387bca0875f323741ac"
      }
     },
     "9cb1a52536854a0781436496576de93f": {
      "model_module": "@jupyter-widgets/controls",
      "model_module_version": "1.1.0",
      "model_name": "DropdownModel",
      "state": {
       "_options_labels": [
        "n_lags",
        "n_outputs",
        "stateful"
       ],
       "description": "Compare:",
       "index": 0,
       "layout": "IPY_MODEL_eb318a8836874db2bd7a21b46ad71a8d",
       "style": "IPY_MODEL_8d3c56ba9fc3455dac728705ca539458"
      }
     },
     "9dcc0ec4bbad4342b4388a5238207ab6": {
      "model_module": "@jupyter-widgets/controls",
      "model_module_version": "1.1.0",
      "model_name": "DropdownModel",
      "state": {
       "_options_labels": [
        "n_lags",
        "n_outputs",
        "stateful"
       ],
       "description": "Compare:",
       "index": 1,
       "layout": "IPY_MODEL_40c1e61e777744e8885dc9363a44dcb1",
       "style": "IPY_MODEL_fadde7caaeac49358b1b74e2a4c0b431"
      }
     },
     "9e7e64b89c174bafbad383f53c09b699": {
      "model_module": "@jupyter-widgets/controls",
      "model_module_version": "1.1.0",
      "model_name": "DropdownModel",
      "state": {
       "_options_labels": [
        "n_lags",
        "n_outputs",
        "stateful"
       ],
       "description": "Compare:",
       "index": 0,
       "layout": "IPY_MODEL_320aaf60b9554104868c4307443e9f45",
       "style": "IPY_MODEL_c9b03e3cd1a44ac5b7c7712cbb13d864"
      }
     },
     "9f3005578efa4b9991e9870f87edbbcc": {
      "model_module": "@jupyter-widgets/controls",
      "model_module_version": "1.1.0",
      "model_name": "HBoxModel",
      "state": {
       "children": [
        "IPY_MODEL_30621f0bacb944638f4e5942516a7928",
        "IPY_MODEL_364c560989b44fea8e58fe1ce66c90fb"
       ],
       "layout": "IPY_MODEL_b24473e40b6c496788c38b7cc99d9da3"
      }
     },
     "9f9240ff1ed44455a9aacec789fe0437": {
      "model_module": "@jupyter-widgets/base",
      "model_module_version": "1.0.0",
      "model_name": "LayoutModel",
      "state": {}
     },
     "9fa0a56909bd4e2e9c2916983bfb5fc5": {
      "model_module": "@jupyter-widgets/controls",
      "model_module_version": "1.1.0",
      "model_name": "ProgressStyleModel",
      "state": {
       "description_width": ""
      }
     },
     "9fb6ff440e264add80a4ceedaee1bc39": {
      "model_module": "@jupyter-widgets/base",
      "model_module_version": "1.0.0",
      "model_name": "LayoutModel",
      "state": {}
     },
     "9fed02ff2f5445bf82a142ddb25f4918": {
      "model_module": "@jupyter-widgets/base",
      "model_module_version": "1.0.0",
      "model_name": "LayoutModel",
      "state": {}
     },
     "a02e048da4be44ba92a69c3f94fc97d0": {
      "model_module": "@jupyter-widgets/base",
      "model_module_version": "1.0.0",
      "model_name": "LayoutModel",
      "state": {}
     },
     "a27ac1b80ad3453ba79ba6abe5920213": {
      "model_module": "@jupyter-widgets/base",
      "model_module_version": "1.0.0",
      "model_name": "LayoutModel",
      "state": {}
     },
     "a53d5fdf61134ff88c648359d4711435": {
      "model_module": "@jupyter-widgets/base",
      "model_module_version": "1.0.0",
      "model_name": "LayoutModel",
      "state": {}
     },
     "a76d6b95f0f94b16bce9f75bf3db9c05": {
      "model_module": "@jupyter-widgets/base",
      "model_module_version": "1.0.0",
      "model_name": "LayoutModel",
      "state": {}
     },
     "a89ae616a6a74892807ad4257e6b6e45": {
      "model_module": "@jupyter-widgets/base",
      "model_module_version": "1.0.0",
      "model_name": "LayoutModel",
      "state": {}
     },
     "a8a4f91e6b694517bf4d3829e1aa6e78": {
      "model_module": "@jupyter-widgets/controls",
      "model_module_version": "1.1.0",
      "model_name": "ProgressStyleModel",
      "state": {
       "description_width": ""
      }
     },
     "a9ceab9ca4ef4819b4d2c9400aac8fd1": {
      "model_module": "@jupyter-widgets/controls",
      "model_module_version": "1.1.0",
      "model_name": "HBoxModel",
      "state": {
       "children": [
        "IPY_MODEL_ccb3eb13d3db4d1f818a0e68091d99fa",
        "IPY_MODEL_c0d8030bb8274d02b95d49e6350a1f72"
       ],
       "layout": "IPY_MODEL_1e27057eae7a4fc5a300d3b9991aafc7"
      }
     },
     "aa3831dc24d641aba2b4b0f4fdeaf0ce": {
      "model_module": "@jupyter-widgets/controls",
      "model_module_version": "1.1.0",
      "model_name": "DropdownModel",
      "state": {
       "_options_labels": [
        "n_lags",
        "n_outputs",
        "stateful"
       ],
       "description": "Compare:",
       "index": 0,
       "layout": "IPY_MODEL_ee3945d6e21043aaa214a8859d7031ae",
       "style": "IPY_MODEL_2f10478c8abe4e709ea20815ef91ad75"
      }
     },
     "ab9efd2ff55448e4865f14586032e767": {
      "model_module": "@jupyter-widgets/controls",
      "model_module_version": "1.1.0",
      "model_name": "DropdownModel",
      "state": {
       "_options_labels": [
        "n_lags",
        "n_outputs",
        "stateful"
       ],
       "description": "Compare:",
       "index": 0,
       "layout": "IPY_MODEL_dd1f9ca964214a9baf03ee064ef6c64f",
       "style": "IPY_MODEL_fcb636f771534fb8b91faa6029c4bd8c"
      }
     },
     "aef40c335a85461fa790dd0c218da032": {
      "model_module": "@jupyter-widgets/output",
      "model_module_version": "1.1.0",
      "model_name": "OutputModel",
      "state": {
       "_model_module_version": "1.1.0",
       "_view_module_version": "1.1.0",
       "layout": "IPY_MODEL_7a21f99626e54061ab61cbdfcac58df0",
       "outputs": [
        {
         "data": {
          "image/png": "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\n",
          "text/plain": "<Figure size 768.625x360 with 1 Axes>"
         },
         "metadata": {},
         "output_type": "display_data"
        }
       ]
      }
     },
     "afa8cdcc796c459fa3dca23a1e859691": {
      "model_module": "@jupyter-widgets/controls",
      "model_module_version": "1.1.0",
      "model_name": "HBoxModel",
      "state": {
       "children": [
        "IPY_MODEL_17b77a2782f24c0c851d7bebccad7ccd",
        "IPY_MODEL_75e52629ad964f6daa6971f9916e9baf"
       ],
       "layout": "IPY_MODEL_50335f130fee4c2492568c91b7be5938"
      }
     },
     "b082ac3ec7234b228ff083af05922471": {
      "model_module": "@jupyter-widgets/base",
      "model_module_version": "1.0.0",
      "model_name": "LayoutModel",
      "state": {}
     },
     "b0981af2b754492bbc86bc16b7b24b01": {
      "model_module": "@jupyter-widgets/controls",
      "model_module_version": "1.1.0",
      "model_name": "VBoxModel",
      "state": {
       "_dom_classes": [
        "widget-interact"
       ],
       "children": [
        "IPY_MODEL_27f9ca71a9e946c5ac35197c5ccc501b",
        "IPY_MODEL_6c744068197a4b72b961ba63499cab39"
       ],
       "layout": "IPY_MODEL_4bca81e1bfd04e6b8ad417a46b405e38"
      }
     },
     "b0c8270260bc4f23bb8464dd41752728": {
      "model_module": "@jupyter-widgets/controls",
      "model_module_version": "1.1.0",
      "model_name": "DescriptionStyleModel",
      "state": {
       "description_width": ""
      }
     },
     "b23eff4c85374e65a9a73397135d12b1": {
      "model_module": "@jupyter-widgets/base",
      "model_module_version": "1.0.0",
      "model_name": "LayoutModel",
      "state": {}
     },
     "b24473e40b6c496788c38b7cc99d9da3": {
      "model_module": "@jupyter-widgets/base",
      "model_module_version": "1.0.0",
      "model_name": "LayoutModel",
      "state": {}
     },
     "b2e29bb433ca491690cc0e72c94decef": {
      "model_module": "@jupyter-widgets/base",
      "model_module_version": "1.0.0",
      "model_name": "LayoutModel",
      "state": {}
     },
     "b44e99c8a8b340c5910ba2185fcbf06e": {
      "model_module": "@jupyter-widgets/base",
      "model_module_version": "1.0.0",
      "model_name": "LayoutModel",
      "state": {}
     },
     "b60f2709f04b46a8a8894ce3883e5ab9": {
      "model_module": "@jupyter-widgets/output",
      "model_module_version": "1.1.0",
      "model_name": "OutputModel",
      "state": {
       "_model_module_version": "1.1.0",
       "_view_module_version": "1.1.0",
       "layout": "IPY_MODEL_a89ae616a6a74892807ad4257e6b6e45",
       "outputs": [
        {
         "ename": "UnboundLocalError",
         "evalue": "local variable 'model_perf' referenced before assignment",
         "output_type": "error",
         "traceback": [
          "\u001b[0;31m---------------------------------------------------------------------------\u001b[0m",
          "\u001b[0;31mUnboundLocalError\u001b[0m                         Traceback (most recent call last)",
          "\u001b[0;32m/anaconda3/envs/dsi/lib/python3.6/site-packages/ipywidgets/widgets/interaction.py\u001b[0m in \u001b[0;36mupdate\u001b[0;34m(self, *args)\u001b[0m\n\u001b[1;32m    248\u001b[0m                     \u001b[0mvalue\u001b[0m \u001b[0;34m=\u001b[0m \u001b[0mwidget\u001b[0m\u001b[0;34m.\u001b[0m\u001b[0mget_interact_value\u001b[0m\u001b[0;34m(\u001b[0m\u001b[0;34m)\u001b[0m\u001b[0;34m\u001b[0m\u001b[0m\n\u001b[1;32m    249\u001b[0m                     \u001b[0mself\u001b[0m\u001b[0;34m.\u001b[0m\u001b[0mkwargs\u001b[0m\u001b[0;34m[\u001b[0m\u001b[0mwidget\u001b[0m\u001b[0;34m.\u001b[0m\u001b[0m_kwarg\u001b[0m\u001b[0;34m]\u001b[0m \u001b[0;34m=\u001b[0m \u001b[0mvalue\u001b[0m\u001b[0;34m\u001b[0m\u001b[0m\n\u001b[0;32m--> 250\u001b[0;31m                 \u001b[0mself\u001b[0m\u001b[0;34m.\u001b[0m\u001b[0mresult\u001b[0m \u001b[0;34m=\u001b[0m \u001b[0mself\u001b[0m\u001b[0;34m.\u001b[0m\u001b[0mf\u001b[0m\u001b[0;34m(\u001b[0m\u001b[0;34m**\u001b[0m\u001b[0mself\u001b[0m\u001b[0;34m.\u001b[0m\u001b[0mkwargs\u001b[0m\u001b[0;34m)\u001b[0m\u001b[0;34m\u001b[0m\u001b[0m\n\u001b[0m\u001b[1;32m    251\u001b[0m                 \u001b[0mshow_inline_matplotlib_plots\u001b[0m\u001b[0;34m(\u001b[0m\u001b[0;34m)\u001b[0m\u001b[0;34m\u001b[0m\u001b[0m\n\u001b[1;32m    252\u001b[0m                 \u001b[0;32mif\u001b[0m \u001b[0mself\u001b[0m\u001b[0;34m.\u001b[0m\u001b[0mauto_display\u001b[0m \u001b[0;32mand\u001b[0m \u001b[0mself\u001b[0m\u001b[0;34m.\u001b[0m\u001b[0mresult\u001b[0m \u001b[0;32mis\u001b[0m \u001b[0;32mnot\u001b[0m \u001b[0;32mNone\u001b[0m\u001b[0;34m:\u001b[0m\u001b[0;34m\u001b[0m\u001b[0m\n",
          "\u001b[0;32m<ipython-input-293-2e6a59892f42>\u001b[0m in \u001b[0;36mplot_widget\u001b[0;34m(setting)\u001b[0m\n\u001b[1;32m      7\u001b[0m \u001b[0;32mdef\u001b[0m \u001b[0mplot_widget\u001b[0m\u001b[0;34m(\u001b[0m\u001b[0msetting\u001b[0m \u001b[0;34m=\u001b[0m \u001b[0mmodel_perf\u001b[0m\u001b[0;34m.\u001b[0m\u001b[0mcolumns\u001b[0m\u001b[0;34m[\u001b[0m\u001b[0;36m0\u001b[0m\u001b[0;34m]\u001b[0m\u001b[0;34m)\u001b[0m\u001b[0;34m:\u001b[0m\u001b[0;34m\u001b[0m\u001b[0m\n\u001b[1;32m      8\u001b[0m \u001b[0;34m\u001b[0m\u001b[0m\n\u001b[0;32m----> 9\u001b[0;31m     sns.lmplot(x='RMSE',y='run_time', data = model_perf, hue = setting, fit_reg=False, \n\u001b[0m\u001b[1;32m     10\u001b[0m                size=5, aspect=2,  scatter_kws={\"s\": 500}, palette = 'Set1');\n\u001b[1;32m     11\u001b[0m \u001b[0;34m\u001b[0m\u001b[0m\n",
          "\u001b[0;31mUnboundLocalError\u001b[0m: local variable 'model_perf' referenced before assignment"
         ]
        }
       ]
      }
     },
     "b8c5e9cd571e4d8ba3f06e3f9a1a2cbe": {
      "model_module": "@jupyter-widgets/controls",
      "model_module_version": "1.1.0",
      "model_name": "DescriptionStyleModel",
      "state": {
       "description_width": ""
      }
     },
     "b8dda68f58cb4639a6baad3085689352": {
      "model_module": "@jupyter-widgets/controls",
      "model_module_version": "1.1.0",
      "model_name": "HBoxModel",
      "state": {
       "children": [
        "IPY_MODEL_96bda2169c3e4406889ef8cd68d290ca",
        "IPY_MODEL_91d23a3fbe1d4ddf984bfc4c7ecaff76"
       ],
       "layout": "IPY_MODEL_b082ac3ec7234b228ff083af05922471"
      }
     },
     "bd4c599c3fb34078acc8e2e04e681b6f": {
      "model_module": "@jupyter-widgets/controls",
      "model_module_version": "1.1.0",
      "model_name": "VBoxModel",
      "state": {
       "_dom_classes": [
        "widget-interact"
       ],
       "children": [
        "IPY_MODEL_568a9e6bd0c74af8a79d3a87e74cc08c",
        "IPY_MODEL_d19010dc5e8b434dab69d3859c32dcb9",
        "IPY_MODEL_9276addf3efb458baf339a361480aec4"
       ],
       "layout": "IPY_MODEL_200eaf1d7f1f494ba4b77d3bc9cc6468"
      }
     },
     "bfb0acd84cf6440abdd658a80572deae": {
      "model_module": "@jupyter-widgets/base",
      "model_module_version": "1.0.0",
      "model_name": "LayoutModel",
      "state": {}
     },
     "c03a5af7289248f483675d28f2c531f1": {
      "model_module": "@jupyter-widgets/controls",
      "model_module_version": "1.1.0",
      "model_name": "DropdownModel",
      "state": {
       "_options_labels": [
        "n_lags",
        "n_outputs",
        "stateful"
       ],
       "description": "Compare:",
       "index": 0,
       "layout": "IPY_MODEL_a27ac1b80ad3453ba79ba6abe5920213",
       "style": "IPY_MODEL_559398d217764bd683be744fd9803c43"
      }
     },
     "c0d8030bb8274d02b95d49e6350a1f72": {
      "model_module": "@jupyter-widgets/controls",
      "model_module_version": "1.1.0",
      "model_name": "HTMLModel",
      "state": {
       "layout": "IPY_MODEL_a53d5fdf61134ff88c648359d4711435",
       "style": "IPY_MODEL_4012252b760640bda5708adf314a980d",
       "value": "100% 10/10 [05:46&lt;00:00, 34.63s/it]"
      }
     },
     "c2fc42879720400a9b33096b820a90cb": {
      "model_module": "@jupyter-widgets/base",
      "model_module_version": "1.0.0",
      "model_name": "LayoutModel",
      "state": {}
     },
     "c48f527f683b441caaa16b9c19a7580e": {
      "model_module": "@jupyter-widgets/controls",
      "model_module_version": "1.1.0",
      "model_name": "DropdownModel",
      "state": {
       "_options_labels": [
        "n_lags",
        "n_outputs",
        "stateful"
       ],
       "description": "Compare:",
       "index": 0,
       "layout": "IPY_MODEL_4aa308083f0a4869bdfa6b99aa9d068f",
       "style": "IPY_MODEL_486cd9c0efcf490a8ab3f64bfeb0e8ce"
      }
     },
     "c490b11c8b48428e93060b441f4cd3c8": {
      "model_module": "@jupyter-widgets/base",
      "model_module_version": "1.0.0",
      "model_name": "LayoutModel",
      "state": {}
     },
     "c7ecab946c954f42a7094689945d63eb": {
      "model_module": "@jupyter-widgets/output",
      "model_module_version": "1.1.0",
      "model_name": "OutputModel",
      "state": {
       "_model_module_version": "1.1.0",
       "_view_module_version": "1.1.0",
       "layout": "IPY_MODEL_3a72634eef354a81aa8d6d7f9cd71112",
       "outputs": [
        {
         "ename": "TypeError",
         "evalue": "string indices must be integers",
         "output_type": "error",
         "traceback": [
          "\u001b[0;31m---------------------------------------------------------------------------\u001b[0m",
          "\u001b[0;31mTypeError\u001b[0m                                 Traceback (most recent call last)",
          "\u001b[0;32m/anaconda3/envs/dsi/lib/python3.6/site-packages/ipywidgets/widgets/interaction.py\u001b[0m in \u001b[0;36mupdate\u001b[0;34m(self, *args)\u001b[0m\n\u001b[1;32m    248\u001b[0m                     \u001b[0mvalue\u001b[0m \u001b[0;34m=\u001b[0m \u001b[0mwidget\u001b[0m\u001b[0;34m.\u001b[0m\u001b[0mget_interact_value\u001b[0m\u001b[0;34m(\u001b[0m\u001b[0;34m)\u001b[0m\u001b[0;34m\u001b[0m\u001b[0m\n\u001b[1;32m    249\u001b[0m                     \u001b[0mself\u001b[0m\u001b[0;34m.\u001b[0m\u001b[0mkwargs\u001b[0m\u001b[0;34m[\u001b[0m\u001b[0mwidget\u001b[0m\u001b[0;34m.\u001b[0m\u001b[0m_kwarg\u001b[0m\u001b[0;34m]\u001b[0m \u001b[0;34m=\u001b[0m \u001b[0mvalue\u001b[0m\u001b[0;34m\u001b[0m\u001b[0m\n\u001b[0;32m--> 250\u001b[0;31m                 \u001b[0mself\u001b[0m\u001b[0;34m.\u001b[0m\u001b[0mresult\u001b[0m \u001b[0;34m=\u001b[0m \u001b[0mself\u001b[0m\u001b[0;34m.\u001b[0m\u001b[0mf\u001b[0m\u001b[0;34m(\u001b[0m\u001b[0;34m**\u001b[0m\u001b[0mself\u001b[0m\u001b[0;34m.\u001b[0m\u001b[0mkwargs\u001b[0m\u001b[0;34m)\u001b[0m\u001b[0;34m\u001b[0m\u001b[0m\n\u001b[0m\u001b[1;32m    251\u001b[0m                 \u001b[0mshow_inline_matplotlib_plots\u001b[0m\u001b[0;34m(\u001b[0m\u001b[0;34m)\u001b[0m\u001b[0;34m\u001b[0m\u001b[0m\n\u001b[1;32m    252\u001b[0m                 \u001b[0;32mif\u001b[0m \u001b[0mself\u001b[0m\u001b[0;34m.\u001b[0m\u001b[0mauto_display\u001b[0m \u001b[0;32mand\u001b[0m \u001b[0mself\u001b[0m\u001b[0;34m.\u001b[0m\u001b[0mresult\u001b[0m \u001b[0;32mis\u001b[0m \u001b[0;32mnot\u001b[0m \u001b[0;32mNone\u001b[0m\u001b[0;34m:\u001b[0m\u001b[0;34m\u001b[0m\u001b[0m\n",
          "\u001b[0;32m<ipython-input-290-ab5afb73f355>\u001b[0m in \u001b[0;36mplot_widget\u001b[0;34m(setting, model_perf)\u001b[0m\n\u001b[1;32m     12\u001b[0m \u001b[0;34m\u001b[0m\u001b[0m\n\u001b[1;32m     13\u001b[0m     sns.lmplot(x='RMSE',y='run_time', data = model_perf, hue = setting, fit_reg=False, \n\u001b[0;32m---> 14\u001b[0;31m                size=5, aspect=2,  scatter_kws={\"s\": 500}, palette = 'Set1');\n\u001b[0m\u001b[1;32m     15\u001b[0m \u001b[0;34m\u001b[0m\u001b[0m\n\u001b[1;32m     16\u001b[0m     \u001b[0msort_cols\u001b[0m \u001b[0;34m=\u001b[0m \u001b[0mlist\u001b[0m\u001b[0;34m(\u001b[0m\u001b[0mmodel_perf\u001b[0m\u001b[0;34m.\u001b[0m\u001b[0mcolumns\u001b[0m\u001b[0;34m[\u001b[0m\u001b[0;36m0\u001b[0m\u001b[0;34m:\u001b[0m\u001b[0;36m3\u001b[0m\u001b[0;34m]\u001b[0m\u001b[0;34m)\u001b[0m\u001b[0;34m.\u001b[0m\u001b[0mremove\u001b[0m\u001b[0;34m(\u001b[0m\u001b[0msetting\u001b[0m\u001b[0;34m)\u001b[0m\u001b[0;34m\u001b[0m\u001b[0m\n",
          "\u001b[0;32m/anaconda3/envs/dsi/lib/python3.6/site-packages/seaborn/regression.py\u001b[0m in \u001b[0;36mlmplot\u001b[0;34m(x, y, data, hue, col, row, palette, col_wrap, size, aspect, markers, sharex, sharey, hue_order, col_order, row_order, legend, legend_out, x_estimator, x_bins, x_ci, scatter, fit_reg, ci, n_boot, units, order, logistic, lowess, robust, logx, x_partial, y_partial, truncate, x_jitter, y_jitter, scatter_kws, line_kws)\u001b[0m\n\u001b[1;32m    550\u001b[0m     \u001b[0mneed_cols\u001b[0m \u001b[0;34m=\u001b[0m \u001b[0;34m[\u001b[0m\u001b[0mx\u001b[0m\u001b[0;34m,\u001b[0m \u001b[0my\u001b[0m\u001b[0;34m,\u001b[0m \u001b[0mhue\u001b[0m\u001b[0;34m,\u001b[0m \u001b[0mcol\u001b[0m\u001b[0;34m,\u001b[0m \u001b[0mrow\u001b[0m\u001b[0;34m,\u001b[0m \u001b[0munits\u001b[0m\u001b[0;34m,\u001b[0m \u001b[0mx_partial\u001b[0m\u001b[0;34m,\u001b[0m \u001b[0my_partial\u001b[0m\u001b[0;34m]\u001b[0m\u001b[0;34m\u001b[0m\u001b[0m\n\u001b[1;32m    551\u001b[0m     \u001b[0mcols\u001b[0m \u001b[0;34m=\u001b[0m \u001b[0mnp\u001b[0m\u001b[0;34m.\u001b[0m\u001b[0munique\u001b[0m\u001b[0;34m(\u001b[0m\u001b[0;34m[\u001b[0m\u001b[0ma\u001b[0m \u001b[0;32mfor\u001b[0m \u001b[0ma\u001b[0m \u001b[0;32min\u001b[0m \u001b[0mneed_cols\u001b[0m \u001b[0;32mif\u001b[0m \u001b[0ma\u001b[0m \u001b[0;32mis\u001b[0m \u001b[0;32mnot\u001b[0m \u001b[0;32mNone\u001b[0m\u001b[0;34m]\u001b[0m\u001b[0;34m)\u001b[0m\u001b[0;34m.\u001b[0m\u001b[0mtolist\u001b[0m\u001b[0;34m(\u001b[0m\u001b[0;34m)\u001b[0m\u001b[0;34m\u001b[0m\u001b[0m\n\u001b[0;32m--> 552\u001b[0;31m     \u001b[0mdata\u001b[0m \u001b[0;34m=\u001b[0m \u001b[0mdata\u001b[0m\u001b[0;34m[\u001b[0m\u001b[0mcols\u001b[0m\u001b[0;34m]\u001b[0m\u001b[0;34m\u001b[0m\u001b[0m\n\u001b[0m\u001b[1;32m    553\u001b[0m \u001b[0;34m\u001b[0m\u001b[0m\n\u001b[1;32m    554\u001b[0m     \u001b[0;31m# Initialize the grid\u001b[0m\u001b[0;34m\u001b[0m\u001b[0;34m\u001b[0m\u001b[0m\n",
          "\u001b[0;31mTypeError\u001b[0m: string indices must be integers"
         ]
        }
       ]
      }
     },
     "c8029e48c3894c84bde09e02b8cceb9b": {
      "model_module": "@jupyter-widgets/controls",
      "model_module_version": "1.1.0",
      "model_name": "DropdownModel",
      "state": {
       "_options_labels": [
        "n_lags",
        "n_outputs",
        "stateful"
       ],
       "description": "Compare:",
       "index": 1,
       "layout": "IPY_MODEL_b2e29bb433ca491690cc0e72c94decef",
       "style": "IPY_MODEL_4c3e6edc019a4bc998e03fcb02fc44d4"
      }
     },
     "c9b03e3cd1a44ac5b7c7712cbb13d864": {
      "model_module": "@jupyter-widgets/controls",
      "model_module_version": "1.1.0",
      "model_name": "DescriptionStyleModel",
      "state": {
       "description_width": ""
      }
     },
     "cad507d6c1b942e489274e81fc7666da": {
      "model_module": "@jupyter-widgets/controls",
      "model_module_version": "1.1.0",
      "model_name": "HBoxModel",
      "state": {
       "children": [
        "IPY_MODEL_5021b54d649646b894bd9da140c21c85",
        "IPY_MODEL_d815406b535e44e8b3cce0e0f2bf095c"
       ],
       "layout": "IPY_MODEL_9fb6ff440e264add80a4ceedaee1bc39"
      }
     },
     "cbac44bf0d0d4260b5f982ce165bbf39": {
      "model_module": "@jupyter-widgets/output",
      "model_module_version": "1.1.0",
      "model_name": "OutputModel",
      "state": {
       "_model_module_version": "1.1.0",
       "_view_module_version": "1.1.0",
       "layout": "IPY_MODEL_1f8a0c6c53ca45beb51c10a4dae67716",
       "outputs": [
        {
         "data": {
          "image/png": "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\n",
          "text/plain": "<Figure size 768.625x360 with 1 Axes>"
         },
         "metadata": {},
         "output_type": "display_data"
        }
       ]
      }
     },
     "cbe46d882ef64cd7ab736fe6150885ec": {
      "model_module": "@jupyter-widgets/base",
      "model_module_version": "1.0.0",
      "model_name": "LayoutModel",
      "state": {}
     },
     "ccb3eb13d3db4d1f818a0e68091d99fa": {
      "model_module": "@jupyter-widgets/controls",
      "model_module_version": "1.1.0",
      "model_name": "IntProgressModel",
      "state": {
       "bar_style": "success",
       "description": "Progress",
       "layout": "IPY_MODEL_f1ac334bec554bb7bc1b8a70dc19acb4",
       "max": 10,
       "style": "IPY_MODEL_6d96db7a4a034168a3601afd5066982b",
       "value": 10
      }
     },
     "ccbf3e899dde4b71b03eb6f85dcf3c79": {
      "model_module": "@jupyter-widgets/controls",
      "model_module_version": "1.1.0",
      "model_name": "DropdownModel",
      "state": {
       "_options_labels": [
        "n_lags",
        "n_outputs",
        "stateful"
       ],
       "description": "Compare:",
       "index": 2,
       "layout": "IPY_MODEL_7c6649f85d2c4baf9ae093a6b6fc83e6",
       "style": "IPY_MODEL_f7ab3ea585fb41d18806b15d9056662e"
      }
     },
     "cd89cd33a4f64665ace79439645bff7e": {
      "model_module": "@jupyter-widgets/controls",
      "model_module_version": "1.1.0",
      "model_name": "DropdownModel",
      "state": {
       "_options_labels": [
        "n_lags",
        "n_outputs",
        "stateful"
       ],
       "description": "Compare:",
       "index": 0,
       "layout": "IPY_MODEL_3daf5153776240908eee99127cb02910",
       "style": "IPY_MODEL_d35212f7634f449081892d2f1ab09035"
      }
     },
     "cd9e7cbbba244809a03425a80b757a1b": {
      "model_module": "@jupyter-widgets/base",
      "model_module_version": "1.0.0",
      "model_name": "LayoutModel",
      "state": {}
     },
     "d074314ae5034996ad0fdaf927315e08": {
      "model_module": "@jupyter-widgets/base",
      "model_module_version": "1.0.0",
      "model_name": "LayoutModel",
      "state": {}
     },
     "d0d74172f1f74c1195302665dc8e0315": {
      "model_module": "@jupyter-widgets/base",
      "model_module_version": "1.0.0",
      "model_name": "LayoutModel",
      "state": {}
     },
     "d19010dc5e8b434dab69d3859c32dcb9": {
      "model_module": "@jupyter-widgets/controls",
      "model_module_version": "1.1.0",
      "model_name": "DropdownModel",
      "state": {
       "_options_labels": [
        "n_lags",
        "n_outputs",
        "stateful",
        "RMSE",
        "run_time"
       ],
       "description": "model_perf",
       "index": 0,
       "layout": "IPY_MODEL_8634644448394dd5b85890bad7d1251f",
       "style": "IPY_MODEL_b8c5e9cd571e4d8ba3f06e3f9a1a2cbe"
      }
     },
     "d35212f7634f449081892d2f1ab09035": {
      "model_module": "@jupyter-widgets/controls",
      "model_module_version": "1.1.0",
      "model_name": "DescriptionStyleModel",
      "state": {
       "description_width": ""
      }
     },
     "d49465e3600d4160b9c038569a5e085f": {
      "model_module": "@jupyter-widgets/controls",
      "model_module_version": "1.1.0",
      "model_name": "DescriptionStyleModel",
      "state": {
       "description_width": ""
      }
     },
     "d4fb344739124f0893720d657140ea37": {
      "model_module": "@jupyter-widgets/base",
      "model_module_version": "1.0.0",
      "model_name": "LayoutModel",
      "state": {}
     },
     "d7c4d6b670d9471d9fe918e14b9a2bce": {
      "model_module": "@jupyter-widgets/base",
      "model_module_version": "1.0.0",
      "model_name": "LayoutModel",
      "state": {}
     },
     "d815406b535e44e8b3cce0e0f2bf095c": {
      "model_module": "@jupyter-widgets/controls",
      "model_module_version": "1.1.0",
      "model_name": "HTMLModel",
      "state": {
       "layout": "IPY_MODEL_a76d6b95f0f94b16bce9f75bf3db9c05",
       "style": "IPY_MODEL_2a030e8175744f49a8c4bee839aa0699",
       "value": "100% 10/10 [17:41&lt;00:00, 106.13s/it]"
      }
     },
     "d8e714aa5aab4bad952a89c2a4d95328": {
      "model_module": "@jupyter-widgets/controls",
      "model_module_version": "1.1.0",
      "model_name": "VBoxModel",
      "state": {
       "_dom_classes": [
        "widget-interact"
       ],
       "children": [
        "IPY_MODEL_780dc269c64b45b6a88519c8673d9d0f",
        "IPY_MODEL_9a38ec3f9aba4c6d8284b18e969eec1f",
        "IPY_MODEL_c7ecab946c954f42a7094689945d63eb"
       ],
       "layout": "IPY_MODEL_49c41716b55b49f0b63b86eeaad08031"
      }
     },
     "d95966a5f8d94ec9b0332c69ff0bb3e5": {
      "model_module": "@jupyter-widgets/output",
      "model_module_version": "1.1.0",
      "model_name": "OutputModel",
      "state": {
       "_model_module_version": "1.1.0",
       "_view_module_version": "1.1.0",
       "layout": "IPY_MODEL_093232795bb041a28d25241f7532a0bd",
       "outputs": [
        {
         "data": {
          "image/png": "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\n",
          "text/plain": "<Figure size 768.625x360 with 1 Axes>"
         },
         "metadata": {},
         "output_type": "display_data"
        }
       ]
      }
     },
     "d96617e601dc42a1b9aede179c77eff8": {
      "model_module": "@jupyter-widgets/controls",
      "model_module_version": "1.1.0",
      "model_name": "VBoxModel",
      "state": {
       "_dom_classes": [
        "widget-interact"
       ],
       "children": [
        "IPY_MODEL_98f522790e2d4b43a50755355434d476",
        "IPY_MODEL_242a7c1f4209449bbdce714a2ebeb312",
        "IPY_MODEL_9bffc9e594eb401ab1626a42521fc335"
       ],
       "layout": "IPY_MODEL_d0d74172f1f74c1195302665dc8e0315"
      }
     },
     "d97d1c6f09174f6da8402233e5e1ace5": {
      "model_module": "@jupyter-widgets/base",
      "model_module_version": "1.0.0",
      "model_name": "LayoutModel",
      "state": {}
     },
     "da271e71e718497a913b33fd946fd650": {
      "model_module": "@jupyter-widgets/output",
      "model_module_version": "1.1.0",
      "model_name": "OutputModel",
      "state": {
       "_model_module_version": "1.1.0",
       "_view_module_version": "1.1.0",
       "layout": "IPY_MODEL_5f6d4f08c05545b2a255db2a6a9fabfd",
       "outputs": [
        {
         "data": {
          "image/png": "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\n",
          "text/plain": "<Figure size 768.625x360 with 1 Axes>"
         },
         "metadata": {},
         "output_type": "display_data"
        }
       ]
      }
     },
     "db54047953bd45c888934b77746e4f92": {
      "model_module": "@jupyter-widgets/base",
      "model_module_version": "1.0.0",
      "model_name": "LayoutModel",
      "state": {}
     },
     "db95034756ce4d4284e39245dc8cf5b6": {
      "model_module": "@jupyter-widgets/controls",
      "model_module_version": "1.1.0",
      "model_name": "DropdownModel",
      "state": {
       "_options_labels": [
        "n_lags",
        "n_outputs",
        "stateful"
       ],
       "description": "Compare:",
       "index": 0,
       "layout": "IPY_MODEL_a02e048da4be44ba92a69c3f94fc97d0",
       "style": "IPY_MODEL_1a3002d83805407a9bfb8e6446af2155"
      }
     },
     "dd1f9ca964214a9baf03ee064ef6c64f": {
      "model_module": "@jupyter-widgets/base",
      "model_module_version": "1.0.0",
      "model_name": "LayoutModel",
      "state": {}
     },
     "dfc8a77623bb433cac8b513f8e55ad89": {
      "model_module": "@jupyter-widgets/controls",
      "model_module_version": "1.1.0",
      "model_name": "DescriptionStyleModel",
      "state": {
       "description_width": ""
      }
     },
     "e2413f2f6b9b448488365965096f2d58": {
      "model_module": "@jupyter-widgets/controls",
      "model_module_version": "1.1.0",
      "model_name": "VBoxModel",
      "state": {
       "_dom_classes": [
        "widget-interact"
       ],
       "children": [
        "IPY_MODEL_ab9efd2ff55448e4865f14586032e767",
        "IPY_MODEL_aef40c335a85461fa790dd0c218da032"
       ],
       "layout": "IPY_MODEL_1f011b21ff764add9af9de4de57a184e"
      }
     },
     "e57888a430fc442fb9e79847dbc6dbd5": {
      "model_module": "@jupyter-widgets/controls",
      "model_module_version": "1.1.0",
      "model_name": "VBoxModel",
      "state": {
       "_dom_classes": [
        "widget-interact"
       ],
       "children": [
        "IPY_MODEL_c48f527f683b441caaa16b9c19a7580e",
        "IPY_MODEL_5448759a940e43f5b9f2888c597a8d66"
       ],
       "layout": "IPY_MODEL_cd9e7cbbba244809a03425a80b757a1b"
      }
     },
     "e580c4f334ae4e9aa6fcfd8de877beb2": {
      "model_module": "@jupyter-widgets/base",
      "model_module_version": "1.0.0",
      "model_name": "LayoutModel",
      "state": {}
     },
     "e5f4537ab6ae40af8abfdf58c31c2884": {
      "model_module": "@jupyter-widgets/controls",
      "model_module_version": "1.1.0",
      "model_name": "VBoxModel",
      "state": {
       "_dom_classes": [
        "widget-interact"
       ],
       "children": [
        "IPY_MODEL_9e7e64b89c174bafbad383f53c09b699",
        "IPY_MODEL_d95966a5f8d94ec9b0332c69ff0bb3e5"
       ],
       "layout": "IPY_MODEL_b23eff4c85374e65a9a73397135d12b1"
      }
     },
     "e63b734518da44e0a335bb11d184fec6": {
      "model_module": "@jupyter-widgets/output",
      "model_module_version": "1.1.0",
      "model_name": "OutputModel",
      "state": {
       "_model_module_version": "1.1.0",
       "_view_module_version": "1.1.0",
       "layout": "IPY_MODEL_10d0bd64087c41c48456dc5e67542f82",
       "outputs": [
        {
         "data": {
          "image/png": "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\n",
          "text/plain": "<Figure size 777.375x360 with 1 Axes>"
         },
         "metadata": {},
         "output_type": "display_data"
        }
       ]
      }
     },
     "e65c5ac120c44c39ac9855363c178a8f": {
      "model_module": "@jupyter-widgets/base",
      "model_module_version": "1.0.0",
      "model_name": "LayoutModel",
      "state": {}
     },
     "e8cd1f4875164a57962f18d91d70e7b1": {
      "model_module": "@jupyter-widgets/output",
      "model_module_version": "1.1.0",
      "model_name": "OutputModel",
      "state": {
       "_model_module_version": "1.1.0",
       "_view_module_version": "1.1.0",
       "layout": "IPY_MODEL_5bc69e0b31e64e76aaa267ff70127d6a",
       "outputs": [
        {
         "ename": "UnboundLocalError",
         "evalue": "local variable 'model_perf' referenced before assignment",
         "output_type": "error",
         "traceback": [
          "\u001b[0;31m---------------------------------------------------------------------------\u001b[0m",
          "\u001b[0;31mUnboundLocalError\u001b[0m                         Traceback (most recent call last)",
          "\u001b[0;32m/anaconda3/envs/dsi/lib/python3.6/site-packages/ipywidgets/widgets/interaction.py\u001b[0m in \u001b[0;36mupdate\u001b[0;34m(self, *args)\u001b[0m\n\u001b[1;32m    248\u001b[0m                     \u001b[0mvalue\u001b[0m \u001b[0;34m=\u001b[0m \u001b[0mwidget\u001b[0m\u001b[0;34m.\u001b[0m\u001b[0mget_interact_value\u001b[0m\u001b[0;34m(\u001b[0m\u001b[0;34m)\u001b[0m\u001b[0;34m\u001b[0m\u001b[0m\n\u001b[1;32m    249\u001b[0m                     \u001b[0mself\u001b[0m\u001b[0;34m.\u001b[0m\u001b[0mkwargs\u001b[0m\u001b[0;34m[\u001b[0m\u001b[0mwidget\u001b[0m\u001b[0;34m.\u001b[0m\u001b[0m_kwarg\u001b[0m\u001b[0;34m]\u001b[0m \u001b[0;34m=\u001b[0m \u001b[0mvalue\u001b[0m\u001b[0;34m\u001b[0m\u001b[0m\n\u001b[0;32m--> 250\u001b[0;31m                 \u001b[0mself\u001b[0m\u001b[0;34m.\u001b[0m\u001b[0mresult\u001b[0m \u001b[0;34m=\u001b[0m \u001b[0mself\u001b[0m\u001b[0;34m.\u001b[0m\u001b[0mf\u001b[0m\u001b[0;34m(\u001b[0m\u001b[0;34m**\u001b[0m\u001b[0mself\u001b[0m\u001b[0;34m.\u001b[0m\u001b[0mkwargs\u001b[0m\u001b[0;34m)\u001b[0m\u001b[0;34m\u001b[0m\u001b[0m\n\u001b[0m\u001b[1;32m    251\u001b[0m                 \u001b[0mshow_inline_matplotlib_plots\u001b[0m\u001b[0;34m(\u001b[0m\u001b[0;34m)\u001b[0m\u001b[0;34m\u001b[0m\u001b[0m\n\u001b[1;32m    252\u001b[0m                 \u001b[0;32mif\u001b[0m \u001b[0mself\u001b[0m\u001b[0;34m.\u001b[0m\u001b[0mauto_display\u001b[0m \u001b[0;32mand\u001b[0m \u001b[0mself\u001b[0m\u001b[0;34m.\u001b[0m\u001b[0mresult\u001b[0m \u001b[0;32mis\u001b[0m \u001b[0;32mnot\u001b[0m \u001b[0;32mNone\u001b[0m\u001b[0;34m:\u001b[0m\u001b[0;34m\u001b[0m\u001b[0m\n",
          "\u001b[0;32m<ipython-input-284-e6c1dab29cda>\u001b[0m in \u001b[0;36mplot_widget\u001b[0;34m(setting)\u001b[0m\n\u001b[1;32m     11\u001b[0m \u001b[0;32mdef\u001b[0m \u001b[0mplot_widget\u001b[0m\u001b[0;34m(\u001b[0m\u001b[0msetting\u001b[0m\u001b[0;34m)\u001b[0m\u001b[0;34m:\u001b[0m\u001b[0;34m\u001b[0m\u001b[0m\n\u001b[1;32m     12\u001b[0m \u001b[0;34m\u001b[0m\u001b[0m\n\u001b[0;32m---> 13\u001b[0;31m     sns.lmplot(x='RMSE',y='run_time', data = model_perf, hue = setting, fit_reg=False, \n\u001b[0m\u001b[1;32m     14\u001b[0m                size=5, aspect=2,  scatter_kws={\"s\": 500}, palette = 'Set1');\n\u001b[1;32m     15\u001b[0m \u001b[0;34m\u001b[0m\u001b[0m\n",
          "\u001b[0;31mUnboundLocalError\u001b[0m: local variable 'model_perf' referenced before assignment"
         ]
        }
       ]
      }
     },
     "e9b9a205cd8e4387bca0875f323741ac": {
      "model_module": "@jupyter-widgets/base",
      "model_module_version": "1.0.0",
      "model_name": "LayoutModel",
      "state": {}
     },
     "ea85943c63c14774adb4860609eebba1": {
      "model_module": "@jupyter-widgets/output",
      "model_module_version": "1.1.0",
      "model_name": "OutputModel",
      "state": {
       "_model_module_version": "1.1.0",
       "_view_module_version": "1.1.0",
       "layout": "IPY_MODEL_db54047953bd45c888934b77746e4f92",
       "outputs": [
        {
         "data": {
          "image/png": "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\n",
          "text/plain": "<Figure size 768.625x360 with 1 Axes>"
         },
         "metadata": {},
         "output_type": "display_data"
        }
       ]
      }
     },
     "eaca2906efff489cbb085c6fdc417bd1": {
      "model_module": "@jupyter-widgets/controls",
      "model_module_version": "1.1.0",
      "model_name": "DropdownModel",
      "state": {
       "_options_labels": [
        "n_lags",
        "n_outputs",
        "stateful"
       ],
       "description": "Compare:",
       "index": 0,
       "layout": "IPY_MODEL_f5c1caa47ed646db8448d44074716d48",
       "style": "IPY_MODEL_85be28dbc2e14ac0b4bc618731233468"
      }
     },
     "eb318a8836874db2bd7a21b46ad71a8d": {
      "model_module": "@jupyter-widgets/base",
      "model_module_version": "1.0.0",
      "model_name": "LayoutModel",
      "state": {}
     },
     "ee3945d6e21043aaa214a8859d7031ae": {
      "model_module": "@jupyter-widgets/base",
      "model_module_version": "1.0.0",
      "model_name": "LayoutModel",
      "state": {}
     },
     "eecc5b1dcf18464c9fe0b160d3fd2706": {
      "model_module": "@jupyter-widgets/controls",
      "model_module_version": "1.1.0",
      "model_name": "DescriptionStyleModel",
      "state": {
       "description_width": ""
      }
     },
     "f1ac334bec554bb7bc1b8a70dc19acb4": {
      "model_module": "@jupyter-widgets/base",
      "model_module_version": "1.0.0",
      "model_name": "LayoutModel",
      "state": {}
     },
     "f2a5affd6e9a4d9f96a192434ad51af7": {
      "model_module": "@jupyter-widgets/output",
      "model_module_version": "1.1.0",
      "model_name": "OutputModel",
      "state": {
       "_model_module_version": "1.1.0",
       "_view_module_version": "1.1.0",
       "layout": "IPY_MODEL_6ebec651700b4c73b76d978f2af519da",
       "outputs": [
        {
         "data": {
          "image/png": "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\n",
          "text/plain": "<Figure size 768.625x360 with 1 Axes>"
         },
         "metadata": {},
         "output_type": "display_data"
        }
       ]
      }
     },
     "f4f7ca9f152a457989433fa4a204f781": {
      "model_module": "@jupyter-widgets/controls",
      "model_module_version": "1.1.0",
      "model_name": "IntProgressModel",
      "state": {
       "bar_style": "success",
       "description": "Progress",
       "layout": "IPY_MODEL_d97d1c6f09174f6da8402233e5e1ace5",
       "max": 5,
       "style": "IPY_MODEL_3a2711ebdeb243cda140dc9f4286a1e2",
       "value": 5
      }
     },
     "f5c1caa47ed646db8448d44074716d48": {
      "model_module": "@jupyter-widgets/base",
      "model_module_version": "1.0.0",
      "model_name": "LayoutModel",
      "state": {}
     },
     "f71486b6c3ba4ce5b109c81c2ce40a00": {
      "model_module": "@jupyter-widgets/controls",
      "model_module_version": "1.1.0",
      "model_name": "DropdownModel",
      "state": {
       "_options_labels": [
        "n_lags",
        "n_outputs",
        "stateful"
       ],
       "description": "Compare:",
       "index": 0,
       "layout": "IPY_MODEL_8c97651de3644416b047561086e0a665",
       "style": "IPY_MODEL_624a8320e3094c1c83aa1a816c02cbbb"
      }
     },
     "f7ab3ea585fb41d18806b15d9056662e": {
      "model_module": "@jupyter-widgets/controls",
      "model_module_version": "1.1.0",
      "model_name": "DescriptionStyleModel",
      "state": {
       "description_width": ""
      }
     },
     "f7b7e36faa3745bca8de64929f7298a1": {
      "model_module": "@jupyter-widgets/controls",
      "model_module_version": "1.1.0",
      "model_name": "DescriptionStyleModel",
      "state": {
       "description_width": ""
      }
     },
     "f8e3b3c9270346e3aea24b787c7aaf24": {
      "model_module": "@jupyter-widgets/base",
      "model_module_version": "1.0.0",
      "model_name": "LayoutModel",
      "state": {}
     },
     "fa51a9e0bde14d0abcd51f69c64ce36e": {
      "model_module": "@jupyter-widgets/controls",
      "model_module_version": "1.1.0",
      "model_name": "DescriptionStyleModel",
      "state": {
       "description_width": ""
      }
     },
     "fadde7caaeac49358b1b74e2a4c0b431": {
      "model_module": "@jupyter-widgets/controls",
      "model_module_version": "1.1.0",
      "model_name": "DescriptionStyleModel",
      "state": {
       "description_width": ""
      }
     },
     "fb3cc66e23ea44069beddf8eaaa8ce0e": {
      "model_module": "@jupyter-widgets/controls",
      "model_module_version": "1.1.0",
      "model_name": "VBoxModel",
      "state": {
       "_dom_classes": [
        "widget-interact"
       ],
       "children": [
        "IPY_MODEL_9663c61964ff458b84992e8a06dd23b8",
        "IPY_MODEL_f2a5affd6e9a4d9f96a192434ad51af7"
       ],
       "layout": "IPY_MODEL_5bb9f234c5f44651b96d42b8d37772f5"
      }
     },
     "fcb636f771534fb8b91faa6029c4bd8c": {
      "model_module": "@jupyter-widgets/controls",
      "model_module_version": "1.1.0",
      "model_name": "DescriptionStyleModel",
      "state": {
       "description_width": ""
      }
     },
     "fe2c24fffd754deb88fc6cad973be96f": {
      "model_module": "@jupyter-widgets/output",
      "model_module_version": "1.1.0",
      "model_name": "OutputModel",
      "state": {
       "_model_module_version": "1.1.0",
       "_view_module_version": "1.1.0",
       "layout": "IPY_MODEL_25189f734ca2427c9c2cfd01a96dcfae",
       "outputs": [
        {
         "ename": "UnboundLocalError",
         "evalue": "local variable 'model_perf' referenced before assignment",
         "output_type": "error",
         "traceback": [
          "\u001b[0;31m---------------------------------------------------------------------------\u001b[0m",
          "\u001b[0;31mUnboundLocalError\u001b[0m                         Traceback (most recent call last)",
          "\u001b[0;32m/anaconda3/envs/dsi/lib/python3.6/site-packages/ipywidgets/widgets/interaction.py\u001b[0m in \u001b[0;36mupdate\u001b[0;34m(self, *args)\u001b[0m\n\u001b[1;32m    248\u001b[0m                     \u001b[0mvalue\u001b[0m \u001b[0;34m=\u001b[0m \u001b[0mwidget\u001b[0m\u001b[0;34m.\u001b[0m\u001b[0mget_interact_value\u001b[0m\u001b[0;34m(\u001b[0m\u001b[0;34m)\u001b[0m\u001b[0;34m\u001b[0m\u001b[0m\n\u001b[1;32m    249\u001b[0m                     \u001b[0mself\u001b[0m\u001b[0;34m.\u001b[0m\u001b[0mkwargs\u001b[0m\u001b[0;34m[\u001b[0m\u001b[0mwidget\u001b[0m\u001b[0;34m.\u001b[0m\u001b[0m_kwarg\u001b[0m\u001b[0;34m]\u001b[0m \u001b[0;34m=\u001b[0m \u001b[0mvalue\u001b[0m\u001b[0;34m\u001b[0m\u001b[0m\n\u001b[0;32m--> 250\u001b[0;31m                 \u001b[0mself\u001b[0m\u001b[0;34m.\u001b[0m\u001b[0mresult\u001b[0m \u001b[0;34m=\u001b[0m \u001b[0mself\u001b[0m\u001b[0;34m.\u001b[0m\u001b[0mf\u001b[0m\u001b[0;34m(\u001b[0m\u001b[0;34m**\u001b[0m\u001b[0mself\u001b[0m\u001b[0;34m.\u001b[0m\u001b[0mkwargs\u001b[0m\u001b[0;34m)\u001b[0m\u001b[0;34m\u001b[0m\u001b[0m\n\u001b[0m\u001b[1;32m    251\u001b[0m                 \u001b[0mshow_inline_matplotlib_plots\u001b[0m\u001b[0;34m(\u001b[0m\u001b[0;34m)\u001b[0m\u001b[0;34m\u001b[0m\u001b[0m\n\u001b[1;32m    252\u001b[0m                 \u001b[0;32mif\u001b[0m \u001b[0mself\u001b[0m\u001b[0;34m.\u001b[0m\u001b[0mauto_display\u001b[0m \u001b[0;32mand\u001b[0m \u001b[0mself\u001b[0m\u001b[0;34m.\u001b[0m\u001b[0mresult\u001b[0m \u001b[0;32mis\u001b[0m \u001b[0;32mnot\u001b[0m \u001b[0;32mNone\u001b[0m\u001b[0;34m:\u001b[0m\u001b[0;34m\u001b[0m\u001b[0m\n",
          "\u001b[0;32m<ipython-input-281-e6c1dab29cda>\u001b[0m in \u001b[0;36mplot_widget\u001b[0;34m(setting)\u001b[0m\n\u001b[1;32m     11\u001b[0m \u001b[0;32mdef\u001b[0m \u001b[0mplot_widget\u001b[0m\u001b[0;34m(\u001b[0m\u001b[0msetting\u001b[0m\u001b[0;34m)\u001b[0m\u001b[0;34m:\u001b[0m\u001b[0;34m\u001b[0m\u001b[0m\n\u001b[1;32m     12\u001b[0m \u001b[0;34m\u001b[0m\u001b[0m\n\u001b[0;32m---> 13\u001b[0;31m     sns.lmplot(x='RMSE',y='run_time', data = model_perf, hue = setting, fit_reg=False, \n\u001b[0m\u001b[1;32m     14\u001b[0m                size=5, aspect=2,  scatter_kws={\"s\": 500}, palette = 'Set1');\n\u001b[1;32m     15\u001b[0m \u001b[0;34m\u001b[0m\u001b[0m\n",
          "\u001b[0;31mUnboundLocalError\u001b[0m: local variable 'model_perf' referenced before assignment"
         ]
        }
       ]
      }
     },
     "ff271f8b8755402198d6a2a742205ae3": {
      "model_module": "@jupyter-widgets/controls",
      "model_module_version": "1.1.0",
      "model_name": "HTMLModel",
      "state": {
       "layout": "IPY_MODEL_269755a38d7b4e14b6f44ee670703c51",
       "style": "IPY_MODEL_eecc5b1dcf18464c9fe0b160d3fd2706",
       "value": "100% 1/1 [00:39&lt;00:00, 39.44s/it]"
      }
     }
    },
    "version_major": 2,
    "version_minor": 0
   }
  }
 },
 "nbformat": 4,
 "nbformat_minor": 2
}
