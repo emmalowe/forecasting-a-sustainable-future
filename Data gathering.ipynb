{
 "cells": [
  {
   "cell_type": "code",
   "execution_count": 3,
   "metadata": {},
   "outputs": [],
   "source": [
    "import h5pyd\n",
    "import numpy as np\n",
    "import pandas as pd\n",
    "import matplotlib.pyplot as plt\n",
    "import matplotlib.image as mpimg\n",
    "from pyproj import Proj\n",
    "import dateutil\n",
    "\n",
    "%matplotlib inline"
   ]
  },
  {
   "cell_type": "code",
   "execution_count": 4,
   "metadata": {},
   "outputs": [],
   "source": [
    "# Open the wind data \"file\"\n",
    "# server endpoint, username, password is found via a config file\n",
    "f = h5pyd.File(\"/nrel/wtk-us.h5\", 'r')"
   ]
  },
  {
   "cell_type": "code",
   "execution_count": 5,
   "metadata": {},
   "outputs": [
    {
     "data": {
      "text/plain": [
       "['DIF',\n",
       " 'DNI',\n",
       " 'GHI',\n",
       " 'coordinates',\n",
       " 'datetime',\n",
       " 'inversemoninobukhovlength_2m',\n",
       " 'precipitationrate_0m',\n",
       " 'pressure_0m',\n",
       " 'pressure_100m',\n",
       " 'pressure_200m',\n",
       " 'relativehumidity_2m',\n",
       " 'status',\n",
       " 'temperature_100m',\n",
       " 'temperature_10m',\n",
       " 'temperature_120m',\n",
       " 'temperature_140m',\n",
       " 'temperature_160m',\n",
       " 'temperature_200m',\n",
       " 'temperature_2m',\n",
       " 'temperature_40m',\n",
       " 'temperature_60m',\n",
       " 'temperature_80m',\n",
       " 'winddirection_100m',\n",
       " 'winddirection_10m',\n",
       " 'winddirection_120m',\n",
       " 'winddirection_140m',\n",
       " 'winddirection_160m',\n",
       " 'winddirection_200m',\n",
       " 'winddirection_40m',\n",
       " 'winddirection_60m',\n",
       " 'winddirection_80m',\n",
       " 'windspeed_100m',\n",
       " 'windspeed_10m',\n",
       " 'windspeed_120m',\n",
       " 'windspeed_140m',\n",
       " 'windspeed_160m',\n",
       " 'windspeed_200m',\n",
       " 'windspeed_40m',\n",
       " 'windspeed_60m',\n",
       " 'windspeed_80m']"
      ]
     },
     "execution_count": 5,
     "metadata": {},
     "output_type": "execute_result"
    }
   ],
   "source": [
    "list(f)"
   ]
  },
  {
   "cell_type": "code",
   "execution_count": null,
   "metadata": {},
   "outputs": [],
   "source": []
  }
 ],
 "metadata": {
  "kernelspec": {
   "display_name": "Python [conda env:dsi]",
   "language": "python",
   "name": "conda-env-dsi-py"
  },
  "language_info": {
   "codemirror_mode": {
    "name": "ipython",
    "version": 3
   },
   "file_extension": ".py",
   "mimetype": "text/x-python",
   "name": "python",
   "nbconvert_exporter": "python",
   "pygments_lexer": "ipython3",
   "version": "3.6.5"
  }
 },
 "nbformat": 4,
 "nbformat_minor": 2
}
